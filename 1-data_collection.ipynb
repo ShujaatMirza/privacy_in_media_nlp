{
 "cells": [
  {
   "cell_type": "markdown",
   "metadata": {},
   "source": [
    "# Collection of article data from L/N database service\n",
    "\n",
    "1. collect\n",
    "2. process html content on the fly\n",
    "3. dump in mysql database"
   ]
  },
  {
   "cell_type": "code",
   "execution_count": 2,
   "metadata": {},
   "outputs": [],
   "source": [
    "# import basics\n",
    "import os\n",
    "import re\n",
    "import csv\n",
    "import json\n",
    "import time\n",
    "import requests\n",
    "import pandas as pd\n",
    "\n",
    "from time import sleep\n",
    "from datetime import datetime \n",
    "from dotenv import load_dotenv\n",
    "from requests.auth import HTTPBasicAuth\n",
    "\n",
    "# text processing dependencies\n",
    "from bs4 import BeautifulSoup\n",
    "#from boilerpy3 import extractors\n",
    "\n",
    "# mysql dependencies\n",
    "import mysql.connector\n",
    "\n",
    "# collection dependencies\n",
    "#from lexis import *\n"
   ]
  },
  {
   "cell_type": "code",
   "execution_count": 32,
   "metadata": {},
   "outputs": [
    {
     "name": "stdout",
     "output_type": "stream",
     "text": [
      "Token retrieved successfully.\n"
     ]
    }
   ],
   "source": [
    "# initialize modules and variables\n",
    "\n",
    "load_dotenv(override=True)\n",
    "#extractor = extractors.ArticleExtractor()\n",
    "\n",
    "# L/N credentials\n",
    "CLIENT = os.getenv(\"CLIENTID\")\n",
    "SECRET = os.getenv(\"SECRET\")\n",
    "\n",
    "# mysql credentials\n",
    "PASSWORD = os.getenv(\"PASSWORD\")\n",
    "USER = os.getenv(\"USER\")\n",
    "\n",
    "# define query\n",
    "QUERY = \"privacy\"\n",
    "\n",
    "# request token\n",
    "token = get_token(CLIENT, SECRET)\n",
    "request_headers = build_header(token)"
   ]
  },
  {
   "cell_type": "code",
   "execution_count": 3,
   "metadata": {},
   "outputs": [],
   "source": [
    "current_stats = pd.read_json(\"privacy_collection_stats.json\")"
   ]
  },
  {
   "cell_type": "code",
   "execution_count": 104,
   "metadata": {},
   "outputs": [],
   "source": [
    "#current_stats"
   ]
  },
  {
   "cell_type": "code",
   "execution_count": 4,
   "metadata": {},
   "outputs": [],
   "source": [
    "def collect(n, y, k, s=0, t=50): # newspaper, year\n",
    "    \n",
    "    # create filter\n",
    "    ###fltr = \"Source/Name eq '\"+ newspapers[n] + \"' and \" + \"year(Date) eq \" + str(y) + \"\"\n",
    "    fltr = \"Source/Name eq '\"+ newspapers[n] + \"' and \" + \"year(Date) eq \" + str(y) + \"\"\n",
    "    while True:\n",
    "        # create request (top maxes at 50)\n",
    "        request_url = build_url(content='News', query=QUERY, skip=s, top=t, filter=fltr)\n",
    "\n",
    "        r = requests.get(request_url, headers=request_headers)\n",
    "        json_data = r.json() # extract data\n",
    "        total = get_result_count(json_data) # total articles per given year/newspaper\n",
    "\n",
    "        if s == 0:\n",
    "            print(\"Total\\t\", n, \"-\", y, \": \", total, sep=\"\") \n",
    "\n",
    "           \n",
    "\n",
    "        for i in range(len(json_data[\"value\"])):\n",
    "            aid = n + \"_\" + str(k)\n",
    "            articles[y][aid] = process_article(json_data[\"value\"][i], aid)\n",
    "            k += 1\n",
    "        \n",
    "    \n",
    "        if s > total: #s == total for test\n",
    "            break\n",
    "        else:\n",
    "            print(\"Processing... \", \"Left:\\t\", total - s)    \n",
    "            s = (s + t)\n",
    "            sleep(18)\n",
    "        \n",
    "        \n",
    "    return k # json_data"
   ]
  },
  {
   "cell_type": "code",
   "execution_count": 5,
   "metadata": {},
   "outputs": [],
   "source": [
    "def cleanhtml(raw_html):\n",
    "    cleanr = re.compile('<.*?>')\n",
    "    cleantext = re.sub(cleanr, '', raw_html)\n",
    "    return cleantext"
   ]
  },
  {
   "cell_type": "code",
   "execution_count": 6,
   "metadata": {},
   "outputs": [],
   "source": [
    "def extract_content(raw_article):\n",
    "        \n",
    "    cln = cleanhtml(str(BeautifulSoup(raw_article[\"Document\"][\"Content\"]).findAll(\"bodytext\")[-1]))\n",
    "\n",
    "    x = first(cln[:30])\n",
    "    #print(articles[2011][i][\"content\"][x:20])\n",
    "    return cln[x:]#cleanhtml(str(BeautifulSoup(raw_article[\"Document\"][\"Content\"]).findAll(\"bodytext\")[-1]))\n",
    "\n",
    "def extract_summary(raw_article):\n",
    "    \n",
    "    summary = {\n",
    "        \"extract\": \"\",\n",
    "        \"terms\": []\n",
    "    }\n",
    "\n",
    "    # list\n",
    "    for ext in raw_article[\"Extracts\"]:\n",
    "        if ext[\"Type\"] == \"Extract\":\n",
    "            summary[\"extract\"] = cleanhtml(str(BeautifulSoup(ext[\"SummaryText\"])))\n",
    "        else:\n",
    "            summary[\"terms\"].append(cleanhtml(str(BeautifulSoup(ext[\"SummaryText\"]))))\n",
    "\n",
    "    return summary \n",
    "\n",
    "def extract_metadata(raw_article):\n",
    "    \n",
    "    metadata = {\n",
    "        \"date\": raw_article[\"Date\"],\n",
    "        \"title\": raw_article[\"Title\"],\n",
    "        \"wordCount\": raw_article[\"WordLength\"],\n",
    "        \"section\": raw_article[\"Section\"]\n",
    "    }\n",
    "    \n",
    "    return metadata\n",
    "\n",
    "def extract_date(raw_article):\n",
    "    return datetime.strptime(raw_article[\"Date\"], '%Y-%m-%dT%H:%M:%SZ')"
   ]
  },
  {
   "cell_type": "code",
   "execution_count": 7,
   "metadata": {},
   "outputs": [],
   "source": [
    "def process_article(a, aid):\n",
    "    \n",
    "    article = {\n",
    "        \"newspaper\": n,\n",
    "        \"article_id\": aid,\n",
    "        \"title\": get_clean_content(extract_metadata(a)[\"title\"]),\n",
    "        \"content\": get_clean_content(extract_content(a)),\n",
    "        \"summary\": extract_summary(a),\n",
    "        \"metadata\": extract_metadata(a),\n",
    "        \"date\": extract_date(a),\n",
    "        \"stage\": \"\",\n",
    "        \"endeavor\": \"\",\n",
    "        \"tone\": \"\",\n",
    "        \"tone_result\": \"\",\n",
    "        \"is_privacy\": \"\"\n",
    "    }\n",
    "    \n",
    "    return article "
   ]
  },
  {
   "cell_type": "code",
   "execution_count": 8,
   "metadata": {},
   "outputs": [],
   "source": [
    "#newspapers[\"TDP\"] = \"The Dominion Post (Wellington, New Zealand)\""
   ]
  },
  {
   "cell_type": "code",
   "execution_count": 9,
   "metadata": {},
   "outputs": [],
   "source": [
    "#articles[2017][\"USA_1963\"]"
   ]
  },
  {
   "cell_type": "code",
   "execution_count": 6,
   "metadata": {},
   "outputs": [],
   "source": [
    "# read newspaper info\n",
    "\n",
    "newspapers = {}\n",
    "\n",
    "with open('./newspapers.csv', 'r') as f:\n",
    "        reader = csv.reader(f)\n",
    "        for r in reader:\n",
    "            newspapers[r[0]] = r[1]\n",
    "        "
   ]
  },
  {
   "cell_type": "code",
   "execution_count": 8,
   "metadata": {},
   "outputs": [
    {
     "data": {
      "text/plain": [
       "'Australian Financial Review'"
      ]
     },
     "execution_count": 8,
     "metadata": {},
     "output_type": "execute_result"
    }
   ],
   "source": [
    "newspapers[\"AFR\"]"
   ]
  },
  {
   "cell_type": "code",
   "execution_count": 28,
   "metadata": {},
   "outputs": [
    {
     "name": "stdout",
     "output_type": "stream",
     "text": [
      "YEAR 2015\n",
      "Total\tNYT-2015: 475\n",
      "Processing...  Left:\t 475\n"
     ]
    }
   ],
   "source": [
    "n = \"NYT\"\n",
    "y = 2015\n",
    "    \n",
    "print(\"YEAR\", y)\n",
    "key = collect(n, y, key, s=0, t=50) # s = skip_value\n",
    "    \n",
    "#     print(\"Dropping to db...\")\n",
    "#     for a in articles[y].values():\n",
    "#         try:\n",
    "#             insert_article(a, mycursor, mydb)\n",
    "#         except Exception as e: \n",
    "#             print(e)"
   ]
  },
  {
   "cell_type": "code",
   "execution_count": null,
   "metadata": {},
   "outputs": [],
   "source": []
  },
  {
   "cell_type": "code",
   "execution_count": null,
   "metadata": {},
   "outputs": [],
   "source": []
  },
  {
   "cell_type": "code",
   "execution_count": 39,
   "metadata": {},
   "outputs": [],
   "source": [
    "batches = {}\n",
    "resids = []"
   ]
  },
  {
   "cell_type": "code",
   "execution_count": null,
   "metadata": {},
   "outputs": [],
   "source": [
    "\n",
    "def build_url(content='News', query='', skip=0, expand='Document', top=50, filter=None):\n",
    "    \"\"\"Builds the URL part of the request to Web Services API.\"\"\"\n",
    "    if filter != None:\n",
    "        api_url = ('https://services-api.lexisnexis.com/v1/' + content +\n",
    "                    '?$expand=' + expand + '&$search=' + query +\n",
    "                    '&$skip=' + str(skip) + '&$top=' + str(top) +\n",
    "                    '&$filter=' + filter)\n",
    "    else:\n",
    "        api_url = ('https://services-api.lexisnexis.com/v1/' + content +\n",
    "                    '?$expand=' + expand + '&$search=' + query +\n",
    "                    '&$skip=' + str(skip) + '&$top=' + str(top))\n",
    "    return api_url"
   ]
  },
  {
   "cell_type": "code",
   "execution_count": 107,
   "metadata": {},
   "outputs": [],
   "source": [
    "def geturl(s, t, filter=None):\n",
    "    return ('https://services-api.lexisnexis.com/v1/News?$orderby=Date&$expand=Document&$search=privacy' + \n",
    "'&$skip=' + str(s) + '&$top=' + str(t) + '&$filter=' + filter)"
   ]
  },
  {
   "cell_type": "code",
   "execution_count": null,
   "metadata": {},
   "outputs": [],
   "source": [
    "\n",
    "\n",
    "GET https://services-api.lexisnexis.com/v1/\n",
    "    News?$expand=PostFilters,\n",
    "    Source&$search=privacy&$filter=year(Date)+eq+2016\n",
    "\n",
    "\n",
    "\n",
    "\n",
    "GET https://services-api.lexisnexis.com/v1/\n",
    "    News?$orderby=Date&$expand=Document&$search=privacy\n",
    "\n"
   ]
  },
  {
   "cell_type": "code",
   "execution_count": 98,
   "metadata": {},
   "outputs": [],
   "source": [
    "articles = {}"
   ]
  },
  {
   "cell_type": "code",
   "execution_count": 124,
   "metadata": {},
   "outputs": [
    {
     "name": "stdout",
     "output_type": "stream",
     "text": [
      "https://services-api.lexisnexis.com/v1/News?$orderby=Date&$expand=Document&$search=privacy&$skip=0&$top=50&$filter=Source/Name eq 'The New York Times' and year(Date) eq 2016\n",
      "98\n"
     ]
    }
   ],
   "source": [
    "fltr = \"Source/Name eq '\"+ \"The New York Times\" + \"' and \" + \"year(Date) eq \" + str(2016) + \"\"\n",
    "s = 0\n",
    "request_url = geturl(s, 50, filter=fltr)\n",
    "print(request_url)\n",
    "r = requests.get(request_url, headers=request_headers)\n",
    "json_data = r.json() # extract data\n",
    "total = json_data[\"@odata.count\"] # total articles per given year/newspaper\n",
    "print(total)\n",
    "articles[s] = json_data[\"value\"]"
   ]
  },
  {
   "cell_type": "code",
   "execution_count": 110,
   "metadata": {},
   "outputs": [
    {
     "name": "stdout",
     "output_type": "stream",
     "text": [
      "2016-01-04T00:00:00Z\n",
      "2016-01-05T00:00:00Z\n",
      "2016-01-05T00:00:00Z\n",
      "2016-01-05T00:00:00Z\n",
      "2016-01-05T00:00:00Z\n",
      "2016-01-06T00:00:00Z\n",
      "2016-01-07T00:00:00Z\n",
      "2016-01-08T00:00:00Z\n",
      "2016-01-09T00:00:00Z\n",
      "2016-01-09T00:00:00Z\n",
      "2016-01-13T00:00:00Z\n",
      "2016-01-16T00:00:00Z\n",
      "2016-01-19T00:00:00Z\n",
      "2016-01-22T00:00:00Z\n",
      "2016-01-22T00:00:00Z\n",
      "2016-01-29T00:00:00Z\n",
      "2016-01-29T00:00:00Z\n",
      "2016-01-29T00:00:00Z\n",
      "2016-02-02T00:00:00Z\n",
      "2016-02-05T00:00:00Z\n",
      "2016-02-06T00:00:00Z\n",
      "2016-02-09T00:00:00Z\n",
      "2016-02-19T00:00:00Z\n",
      "2016-02-23T00:00:00Z\n",
      "2016-02-26T00:00:00Z\n",
      "2016-02-27T00:00:00Z\n",
      "2016-03-03T00:00:00Z\n",
      "2016-03-05T00:00:00Z\n",
      "2016-03-08T00:00:00Z\n",
      "2016-03-08T00:00:00Z\n",
      "2016-03-10T00:00:00Z\n",
      "2016-03-10T00:00:00Z\n",
      "2016-03-12T00:00:00Z\n",
      "2016-03-14T00:00:00Z\n",
      "2016-03-14T00:00:00Z\n",
      "2016-03-15T00:00:00Z\n",
      "2016-03-15T00:00:00Z\n",
      "2016-03-16T00:00:00Z\n",
      "2016-03-22T00:00:00Z\n",
      "2016-03-24T00:00:00Z\n",
      "2016-03-24T00:00:00Z\n",
      "2016-03-29T00:00:00Z\n",
      "2016-03-29T00:00:00Z\n",
      "2016-04-01T00:00:00Z\n",
      "2016-04-01T00:00:00Z\n",
      "2016-04-04T00:00:00Z\n",
      "2016-04-08T00:00:00Z\n",
      "2016-04-18T00:00:00Z\n",
      "2016-04-18T00:00:00Z\n",
      "2016-04-21T00:00:00Z\n"
     ]
    }
   ],
   "source": [
    "for i in articles[0]:\n",
    "    print(i[\"Date\"])"
   ]
  },
  {
   "cell_type": "code",
   "execution_count": 114,
   "metadata": {},
   "outputs": [
    {
     "name": "stdout",
     "output_type": "stream",
     "text": [
      "2016-04-21T00:00:00Z\n",
      "2016-04-22T00:00:00Z\n",
      "2016-04-23T00:00:00Z\n",
      "2016-04-23T00:00:00Z\n",
      "2016-04-29T00:00:00Z\n",
      "2016-04-29T00:00:00Z\n",
      "2016-04-29T00:00:00Z\n",
      "2016-04-29T00:00:00Z\n",
      "2016-05-02T00:00:00Z\n",
      "2016-05-03T00:00:00Z\n",
      "2016-05-14T00:00:00Z\n",
      "2016-05-17T00:00:00Z\n",
      "2016-05-17T00:00:00Z\n",
      "2016-05-19T00:00:00Z\n",
      "2016-05-20T00:00:00Z\n",
      "2016-05-23T00:00:00Z\n",
      "2016-05-23T00:00:00Z\n",
      "2016-05-24T00:00:00Z\n",
      "2016-05-25T00:00:00Z\n",
      "2016-05-27T00:00:00Z\n",
      "2016-06-04T00:00:00Z\n",
      "2016-06-07T00:00:00Z\n",
      "2016-06-07T00:00:00Z\n",
      "2016-06-07T00:00:00Z\n",
      "2016-06-08T00:00:00Z\n",
      "2016-06-10T00:00:00Z\n",
      "2016-06-16T00:00:00Z\n",
      "2016-06-17T00:00:00Z\n",
      "2016-06-17T00:00:00Z\n",
      "2016-06-17T00:00:00Z\n",
      "2016-06-18T00:00:00Z\n",
      "2016-06-18T00:00:00Z\n",
      "2016-06-18T00:00:00Z\n",
      "2016-06-21T00:00:00Z\n",
      "2016-06-21T00:00:00Z\n",
      "2016-06-25T00:00:00Z\n",
      "2016-06-25T00:00:00Z\n",
      "2016-06-27T00:00:00Z\n",
      "2016-07-07T00:00:00Z\n",
      "2016-07-13T00:00:00Z\n",
      "2016-07-14T00:00:00Z\n",
      "2016-07-14T00:00:00Z\n",
      "2016-07-14T00:00:00Z\n",
      "2016-07-20T00:00:00Z\n",
      "2016-07-22T00:00:00Z\n",
      "2016-07-26T00:00:00Z\n",
      "2016-07-26T00:00:00Z\n",
      "2016-07-26T00:00:00Z\n",
      "2016-07-26T00:00:00Z\n",
      "2016-07-26T00:00:00Z\n"
     ]
    }
   ],
   "source": [
    "for i in articles[50]:\n",
    "    print(i[\"Date\"])"
   ]
  },
  {
   "cell_type": "code",
   "execution_count": 119,
   "metadata": {},
   "outputs": [],
   "source": [
    "mega_batch = []"
   ]
  },
  {
   "cell_type": "code",
   "execution_count": 121,
   "metadata": {},
   "outputs": [],
   "source": [
    "for i in articles[50]:\n",
    "    mega_batch.append(i)"
   ]
  },
  {
   "cell_type": "code",
   "execution_count": 123,
   "metadata": {},
   "outputs": [
    {
     "name": "stdout",
     "output_type": "stream",
     "text": [
      "Private health funds 'misuse dental data' 2016-07-26T00:00:00Z 517\n",
      "Private health funds 'misuse dental data' 2016-07-26T00:00:00Z 517\n",
      "Private health funds 'misuse dental data' 2016-07-26T00:00:00Z 517\n",
      "Private health funds 'misuse dental data' 2016-07-26T00:00:00Z 517\n"
     ]
    }
   ],
   "source": [
    "titles = []\n",
    "for i in mega_batch:\n",
    "    if i[\"Title\"] not in titles:\n",
    "        titles.append(i[\"Title\"])\n",
    "    else:\n",
    "        print(i[\"Title\"], i[\"Date\"], i[\"WordLength\"])"
   ]
  },
  {
   "cell_type": "code",
   "execution_count": null,
   "metadata": {},
   "outputs": [],
   "source": []
  },
  {
   "cell_type": "code",
   "execution_count": 66,
   "metadata": {},
   "outputs": [
    {
     "data": {
      "text/plain": [
       "dict_keys(['Date', 'CompanyName', 'Geography', 'ContentType', 'GroupDuplicates', 'Industry', 'Publisher', 'Title', 'Location', 'LNGI', 'WebNewsUrl', 'SearchType', 'Company', 'NegativeNews', 'IsCitationMatch', 'DocumentContent@odata.mediaContentType', 'Language', 'Section', 'Subject', 'Document', 'People', 'PublicationType', 'Jurisdiction', 'Overview', 'Extracts', 'Source', 'DocumentContent@odata.mediaReadLink', 'LEI', 'InternationalLocation', 'Keyword', 'WordLength', 'Byline', 'ResultId'])"
      ]
     },
     "execution_count": 66,
     "metadata": {},
     "output_type": "execute_result"
    }
   ],
   "source": [
    "batches[0][10].keys()"
   ]
  },
  {
   "cell_type": "code",
   "execution_count": 77,
   "metadata": {},
   "outputs": [
    {
     "data": {
      "text/plain": [
       "'urn:contentItem:5KVT-PWJ1-JD34-V4XK-00000-00'"
      ]
     },
     "execution_count": 77,
     "metadata": {},
     "output_type": "execute_result"
    }
   ],
   "source": [
    "batches[0][10][\"ResultId\"]"
   ]
  },
  {
   "cell_type": "code",
   "execution_count": 82,
   "metadata": {},
   "outputs": [
    {
     "data": {
      "text/plain": [
       "200"
      ]
     },
     "execution_count": 82,
     "metadata": {},
     "output_type": "execute_result"
    }
   ],
   "source": [
    "len(set(resids))"
   ]
  },
  {
   "cell_type": "code",
   "execution_count": 93,
   "metadata": {},
   "outputs": [],
   "source": [
    "titles = []\n"
   ]
  },
  {
   "cell_type": "code",
   "execution_count": 96,
   "metadata": {},
   "outputs": [
    {
     "name": "stdout",
     "output_type": "stream",
     "text": [
      "NAB, Westpac join Ripple network 2016-09-16T00:00:00Z 486\n",
      "urn:contentItem:5KPT-TK01-JD34-V511-00000-00\n",
      "Property sector warns against more foreign investment rules 2016-09-21T00:00:00Z 432\n",
      "urn:contentItem:5KSG-DXH1-JD34-V3YD-00000-00\n",
      "Property sector warns against more foreign investment rules 2016-09-21T00:00:00Z 432\n",
      "urn:contentItem:5KSH-1P91-JD34-V27D-00000-00\n",
      "Rich-lister Gandel keeps on shopping;Retail 2016-09-24T00:00:00Z 563\n",
      "urn:contentItem:5KSG-DXG1-JD34-V1D6-00000-00\n",
      "Rich-lister Gandel keeps on shopping;Retail 2016-09-24T00:00:00Z 563\n",
      "urn:contentItem:5KSG-HSX1-JD34-V18P-00000-00\n",
      "Rich-lister Gandel keeps on shopping;Retail 2016-09-24T00:00:00Z 563\n",
      "urn:contentItem:5KSG-D7V1-F0J6-J4JV-00000-00\n",
      "We're all collateral damage in trans-Atlantic regulatory war;Washington observed 2016-09-20T00:00:00Z 797\n",
      "urn:contentItem:5KRN-1SX1-JD34-V3YK-00000-00\n"
     ]
    }
   ],
   "source": [
    "for i in batches[150]:\n",
    "    if i[\"Title\"] not in titles:\n",
    "        titles.append(i[\"Title\"])\n",
    "    else:\n",
    "        print(i[\"Title\"], i[\"Date\"], i[\"WordLength\"])\n",
    "        print(i[\"ResultId\"])"
   ]
  },
  {
   "cell_type": "code",
   "execution_count": 97,
   "metadata": {},
   "outputs": [
    {
     "data": {
      "text/plain": [
       "136"
      ]
     },
     "execution_count": 97,
     "metadata": {},
     "output_type": "execute_result"
    }
   ],
   "source": [
    "len(set(titles))"
   ]
  },
  {
   "cell_type": "code",
   "execution_count": 89,
   "metadata": {},
   "outputs": [
    {
     "data": {
      "text/plain": [
       "['Password tiff between CBA and Acorns',\n",
       " \"Private health funds 'misuse dental data'\",\n",
       " \"Private health funds 'misuse dental data'\",\n",
       " \"Private health funds 'misuse dental data'\",\n",
       " \"Private health funds 'misuse dental data'\",\n",
       " \"Private health funds 'misuse dental data'\",\n",
       " \"Queenslanders push for PM's top spots\",\n",
       " 'Room to party;HOTEL- REVIEW',\n",
       " 'Selfie drones all set for take-off;High tech',\n",
       " 'Simply the best BAGLIONI HOTEL REGINA, ROME;ITALY - TRAVEL',\n",
       " 'Single secure online access the way to go;Digital identity - Hacking',\n",
       " 'THE APOCALYPSE WE HAD TO HAVE;Culture',\n",
       " 'Turnbull says little point to Briggs inquiry',\n",
       " \"WE'RE ON THE CUSP OF AN AI REVOLUTION\",\n",
       " \"Why Jeremy Clarkson won't want a fully autonomous vehicle;Mobility\",\n",
       " '60,000 caught in NAB email breakdown;Banking',\n",
       " 'AFL is richer for Greater Western Sydney;The Adventures of Joe Aston',\n",
       " 'AFTER THE AFFAIR',\n",
       " 'A LONG ROAD FOR KIDMAN CLAN;Property',\n",
       " 'Anchorage called to the rescue of Dick Smith;Retail',\n",
       " \"Apple's tax battles far more epic than its dull products;McDuling\",\n",
       " 'As slim as it gets;DIGITAL LIFE - NOTEBOOKS',\n",
       " 'At home in all ports;TRAVEL PROPERTY',\n",
       " 'At home with whimsy;PROPERTY - DESIGN',\n",
       " 'Banks cop the cost of negative interest rates;Big picture',\n",
       " \"BANKS TAKE ON APPLE'S FAT WALLET;Digital commerce\",\n",
       " 'BHP signs US anti-graft lawyers',\n",
       " \"'Black lung' coal cases expected to rise\",\n",
       " 'Black lung shames coal sector',\n",
       " 'Brisbane revisits the liveable, walkable village;202020 Vision - Amenities',\n",
       " 'Building better behaviour starts with board, not regulator;Risk Culture - Business structures',\n",
       " 'Bureau of Statistics brought to its knees;GOVERNMENT BUSINESS - Canberra Insider',\n",
       " 'Business leaders claim higher standards on harassment issues',\n",
       " 'Buying anywhere, any time, anyhow',\n",
       " 'Buying anywhere, any time, anyhow;PageTwo',\n",
       " 'Can the internet revolutionise finance in China?;East Asia Forum',\n",
       " \"CBA whistleblower reveals core concern given 'bad apples' treatment\",\n",
       " 'CBUS board backs under-fire CEO',\n",
       " 'CBus to skite over its gap on retail funds',\n",
       " 'Census data sacrosanct, assures McCormack',\n",
       " 'Census hack blamed on protest',\n",
       " \"Census - IBM 'paid $30m';Census\",\n",
       " 'Clinton health doubt a new market risk',\n",
       " 'Clinton health doubt a new market risk;ROAD TO THE WHITE HOUSE',\n",
       " 'Close encounters of the gourmet kind;FOOD - QUEENSLAND',\n",
       " 'Co-housing because everyone needs good neighbours;Living',\n",
       " 'Computershare chief takes umbrage at blockchain fears',\n",
       " \"Credit 'gods' now watch everything;Page Two\",\n",
       " 'Curtis too busy to go to jail, says Jacenko',\n",
       " 'Cyber threat is rising',\n",
       " 'Data revolution leaves some behind;Culture Tech - Innovation',\n",
       " 'Data sharing may come in by mid-2018;Bank inquiry report - Finance',\n",
       " 'Data will give consumers upper hand;Data availability',\n",
       " \"DirectMoney can't fund loan demand\",\n",
       " 'DIVISION OF AN EMPIRE;Celebrity',\n",
       " 'DIVISION OF AN EMPIRE;Celebrity',\n",
       " 'DIVISION OF AN EMPIRE;Celebrity',\n",
       " 'DIVISION OF AN EMPIRE;Celebrity',\n",
       " \"Dodgy ABN's 'key to crackdown'\",\n",
       " \"DON'T FENCE ME IN;ROOM WITH A VIEW - NEW HOTELS\",\n",
       " 'Drone detection a $7m flyer in a show of faith;Exclusive',\n",
       " 'End of business as we know it;The case for',\n",
       " 'Energy plays catch-up on cyber security',\n",
       " 'EY sets sights on getting top specialists on staff',\n",
       " \"Facebook's dilemma: Aussies keep it personal\",\n",
       " 'FARMING FOR THE FUTURE;Agriculture',\n",
       " 'From cyber hacked to open attack;Communications',\n",
       " 'From those who brought you the census ... a world of innovation;On the other hand',\n",
       " 'Google dashes hopes of a quick NAB fix',\n",
       " 'Great survivors thrive despite thrashing',\n",
       " 'Grey area gives green light to geo-dodgers seeking content',\n",
       " 'Handbury to sell highlands gem',\n",
       " 'Harnessing the power of data',\n",
       " 'Healthcare reform off limits',\n",
       " 'Heavyweight champion;MOTORING - LUXURY SUV',\n",
       " \"Here's what a Slack HQ looks like\",\n",
       " 'Hi-tech devices you can use now',\n",
       " 'Hot property',\n",
       " \"How John Grill's private life drives his philanthropy;MEN'S HEALTH\",\n",
       " 'How the rich hide wealth;Exclusive',\n",
       " 'IBM goes to ground after Census tweet',\n",
       " 'Insurance chief: We need to win back trust',\n",
       " 'IOOF head of dealerships departs firm',\n",
       " \"JB Hi-Fi 'not doing too bad' online, says CEO Murray\",\n",
       " \"JB Hi-Fi 'not doing too bad' online, says CEO Murray;AFR Retail Summit\",\n",
       " 'Justin Ryan throws 50th in caravan park with JPY',\n",
       " \"Killing careers with kindness: the risks of revealing mental illness at work;Men's health\",\n",
       " 'Labor seeks to escalate Briggs investigation;Misconduct',\n",
       " \"Liberals want 'Mediscare' style texts made illegal\",\n",
       " 'Libs to co-operate with Parakeelia probe',\n",
       " 'Life on the green lures all sorts;PROPERTY - LINKS LIVING',\n",
       " 'Live webinars embarrass government watchdogs;Hands on',\n",
       " \"Local start-up disrupts Dell's $67b purchase;Exclusive\",\n",
       " 'Lodge renos may blow out to $15m',\n",
       " 'Many unconscious to ethical problems;Special Report',\n",
       " \"MARRIAGE'S WINTER CHILL;The screen from here\",\n",
       " 'Maurice Blackburn on the move in major lease deal',\n",
       " 'Missing HK publisher gives China confession',\n",
       " 'Morrison flags new fintech start-up rules',\n",
       " 'Mother of all balcony battles at Noosa Heads comes to an end',\n",
       " 'Murdochs come to aid Guvera;Technology',\n",
       " 'Musical chairs in the backyard;Affordability - Property',\n",
       " 'NAB opens portal to a world of shared data',\n",
       " 'NAB, Westpac join Ripple network',\n",
       " 'NAB, Westpac join Ripple network',\n",
       " 'NAB, Westpac, Qantas invest in Data Republic',\n",
       " 'New laws needed for driverless motoring;Guest opinion',\n",
       " 'Nine links with Data Republic',\n",
       " 'No free lunch from Yahoo',\n",
       " 'NO GOING BACK AFTER LIFE AT THE TOP;Lunch with The AFR',\n",
       " 'OPERATION FOX HUNT AND THE CAPTURE OF ZHANG JIANPING;Exclusive',\n",
       " 'Optus predicts mobile video to drive M&A',\n",
       " 'Paradise dusts off;TRAVEL - FIJI',\n",
       " 'Post-Brexit uncertainty a windfall for advisers',\n",
       " 'Property sector warns against more foreign investment rules',\n",
       " 'Property sector warns against more foreign investment rules',\n",
       " 'Property sector warns against more foreign investment rules',\n",
       " 'Protectionist politics in the digital age;Global economy',\n",
       " 'Quantum computing and the end of encryption;TechKnowledge',\n",
       " 'Retailers hail data analytics',\n",
       " 'Rich ditch mansions to upsize to luxury flats;Development',\n",
       " 'Rich-lister Gandel keeps on shopping;Retail',\n",
       " 'Rich-lister Gandel keeps on shopping;Retail',\n",
       " 'Rich-lister Gandel keeps on shopping;Retail',\n",
       " 'Rich-lister Gandel keeps on shopping;Retail',\n",
       " \"Rich man connects on economic pain;Trump's New America\",\n",
       " 'Sex addiction - addressing the compulsive cycle of shame',\n",
       " \"Sex addiction - addressing the compulsive cycle of shame;MEN'S HEALTH\",\n",
       " 'Shell tells industry to recover its voice',\n",
       " 'Singing mussels - an insight into the future city;Innovation - Vivid 2016',\n",
       " 'Social media photo sharing goes too far;App review',\n",
       " 'Spring house prices forecast to remain high, stocks lower;Real estate',\n",
       " 'Striking a deal with the EU will test Ciobo;Analysis',\n",
       " 'Suburban homes borrow from city;Architecture',\n",
       " 'Telstra to test whether staff ready for tech terrorists',\n",
       " 'The app that takes Tarot reading to another level;App review',\n",
       " \"The e-valley answer to China's economy;Page Two\",\n",
       " 'THE (NEW) SPACE RACE',\n",
       " 'Thresholds of light;DESIGN - TRENDS',\n",
       " 'Time is right for scanning treasured family photos;Digital life',\n",
       " 'Tributes flow for four who died at theme park',\n",
       " 'Trump, Brexit and Cricket Australia ruin 2016;The Adventures of Joe Aston',\n",
       " 'Universities hope business tax incentives will boost research;Education observed',\n",
       " 'Unprecedented information on consumers from big events;Data',\n",
       " 'Voters happy to give up liberties to fight terror',\n",
       " \"We're all collateral damage in trans-Atlantic regulatory war\",\n",
       " \"We're all collateral damage in trans-Atlantic regulatory war;Washington observed\",\n",
       " \"We're all collateral damage in trans-Atlantic regulatory war;Washington observed\",\n",
       " 'What millennials really think about the banks',\n",
       " \"WHAT'S THE BIG DEAL?;Trade\"]"
      ]
     },
     "execution_count": 89,
     "metadata": {},
     "output_type": "execute_result"
    }
   ],
   "source": [
    "titles"
   ]
  },
  {
   "cell_type": "code",
   "execution_count": null,
   "metadata": {},
   "outputs": [],
   "source": []
  },
  {
   "cell_type": "code",
   "execution_count": null,
   "metadata": {},
   "outputs": [],
   "source": []
  },
  {
   "cell_type": "code",
   "execution_count": null,
   "metadata": {},
   "outputs": [],
   "source": []
  },
  {
   "cell_type": "code",
   "execution_count": 29,
   "metadata": {},
   "outputs": [],
   "source": [
    "def first(str) :\n",
    "     \n",
    "    for i in range(0, len(str)) :\n",
    "         \n",
    "        if (str[i].istitle()) :\n",
    "            return i#str[i]\n",
    "             \n",
    "    return 0"
   ]
  },
  {
   "cell_type": "code",
   "execution_count": 46,
   "metadata": {},
   "outputs": [],
   "source": [
    "# for i in articles[2011].keys():\n",
    "#     x = first(articles[2011][i][\"content\"][:20])\n",
    "#     print(articles[2011][i][\"content\"][x:20])"
   ]
  },
  {
   "cell_type": "code",
   "execution_count": 46,
   "metadata": {},
   "outputs": [],
   "source": [
    "years = [2020]"
   ]
  },
  {
   "cell_type": "code",
   "execution_count": 47,
   "metadata": {},
   "outputs": [],
   "source": [
    "#years = [2010, 2011, 2012, 2013, 2014, 2015, 2016, 2017, 2018, 2019, 2020]\n",
    "\n",
    "key = 0\n",
    "\n",
    "articles = {}\n",
    "for y in years:\n",
    "    articles[y] = {}"
   ]
  },
  {
   "cell_type": "code",
   "execution_count": 48,
   "metadata": {},
   "outputs": [],
   "source": [
    "# for i in articles[2011].keys():\n",
    "#     print(articles[2011][i][\"content\"][:20])"
   ]
  },
  {
   "cell_type": "code",
   "execution_count": 49,
   "metadata": {},
   "outputs": [],
   "source": [
    "not_added = {}"
   ]
  },
  {
   "cell_type": "code",
   "execution_count": 112,
   "metadata": {},
   "outputs": [],
   "source": [
    "# for i in not_added.keys():\n",
    "#     not_added[i][\"title\"] = get_clean_content(not_added[i][\"title\"])\n",
    "#     try:\n",
    "#         insert_article(not_added[i], mycursor, mydb)\n",
    "#     except Exception as e: \n",
    "#         print(i)\n",
    "#         print(e)"
   ]
  },
  {
   "cell_type": "code",
   "execution_count": null,
   "metadata": {},
   "outputs": [],
   "source": []
  },
  {
   "cell_type": "code",
   "execution_count": 14,
   "metadata": {},
   "outputs": [],
   "source": [
    "#s = \"some\\x00string. with\\x15 funny characters\"\n",
    "import string\n",
    "printable = set(string.printable)\n",
    "#filter(lambda x: x in printable, s)\n",
    "#'somestring. with funny characters'"
   ]
  },
  {
   "cell_type": "code",
   "execution_count": 35,
   "metadata": {},
   "outputs": [],
   "source": [
    "def get_clean_content(s):\n",
    "    return ''.join(filter(lambda x: x in printable, s))"
   ]
  },
  {
   "cell_type": "code",
   "execution_count": 50,
   "metadata": {},
   "outputs": [
    {
     "data": {
      "text/plain": [
       "[2020]"
      ]
     },
     "execution_count": 50,
     "metadata": {},
     "output_type": "execute_result"
    }
   ],
   "source": [
    "years\n"
   ]
  },
  {
   "cell_type": "code",
   "execution_count": 55,
   "metadata": {
    "scrolled": false
   },
   "outputs": [
    {
     "name": "stdout",
     "output_type": "stream",
     "text": [
      "YEAR 2020\n",
      "Total\tTS-2020: 669\n",
      "Processing...  Left:\t 669\n",
      "Processing...  Left:\t 619\n",
      "Processing...  Left:\t 569\n",
      "Processing...  Left:\t 519\n",
      "Processing...  Left:\t 469\n",
      "Processing...  Left:\t 419\n",
      "Processing...  Left:\t 369\n",
      "Processing...  Left:\t 319\n",
      "Processing...  Left:\t 269\n",
      "Processing...  Left:\t 219\n",
      "Processing...  Left:\t 169\n",
      "Processing...  Left:\t 119\n",
      "Processing...  Left:\t 69\n",
      "Processing...  Left:\t 19\n",
      "key:  7588\n",
      "Dropping to db...\n"
     ]
    }
   ],
   "source": [
    "### 2 modify\n",
    "# per newspaper\n",
    "\n",
    "key = 6919\n",
    "#years = [2018, 2019, 2020]\n",
    "\n",
    "n = \"TS\"\n",
    "#years = [2011, 2012, 2013]\n",
    "\n",
    "for y in years:\n",
    "    \n",
    "    print(\"YEAR\", y)\n",
    "    key = collect(n, y, key, s=0, t=50) # s = skip_value\n",
    "    \n",
    "    print(\"key: \", key)\n",
    "        \n",
    "    print(\"Dropping to db...\")\n",
    "    for a in articles[y].values():\n",
    "        try:\n",
    "            insert_article(a, mycursor, mydb)\n",
    "        except Exception as e: \n",
    "            not_added[a[\"article_id\"]] = a \n",
    "            print(e)"
   ]
  },
  {
   "cell_type": "code",
   "execution_count": 17,
   "metadata": {},
   "outputs": [],
   "source": [
    "import mysql.connector\n",
    "\n",
    "mydb = mysql.connector.connect(\n",
    "  host=\"127.0.0.1\",\n",
    "  user=USER,\n",
    "  password=PASSWORD,\n",
    "  database=\"mpp21\"\n",
    ")\n",
    "\n",
    "mycursor = mydb.cursor()"
   ]
  },
  {
   "cell_type": "code",
   "execution_count": 18,
   "metadata": {},
   "outputs": [],
   "source": [
    "def insert_article(a, curs, db):\n",
    "\n",
    "    sql = \"INSERT INTO articles (newspaper, article_id, title, content, summary, metadata, date, stage, endeavor, tone, tone_result, is_privacy) VALUES (%s, %s, %s, %s, %s, %s, %s, %s, %s, %s, %s, %s)\"\n",
    "    val = (\n",
    "        a[\"newspaper\"], \n",
    "        a[\"article_id\"],\n",
    "        a[\"title\"],\n",
    "        a[\"content\"],\n",
    "        json.dumps(a[\"summary\"]),\n",
    "        json.dumps(a[\"metadata\"]),\n",
    "        a[\"date\"],\n",
    "        json.dumps(a[\"stage\"]),\n",
    "        json.dumps(a[\"endeavor\"]),\n",
    "        json.dumps(a[\"tone\"]),\n",
    "        json.dumps(a[\"tone_result\"]),\n",
    "        a[\"is_privacy\"]\n",
    "    )\n",
    "    \n",
    "    curs.execute(sql, val)\n",
    "\n",
    "    db.commit()\n",
    "\n",
    "    return"
   ]
  },
  {
   "cell_type": "code",
   "execution_count": 51,
   "metadata": {},
   "outputs": [],
   "source": [
    "def select_content(curs, db):\n",
    "    \n",
    "    curs.execute(\"SELECT article_id FROM articles WHERE newspaper = 'TS'\") \n",
    "\n",
    "    all_titles = []\n",
    "    result = curs.fetchall()\n",
    "    for r in result:\n",
    "        all_titles.append(int(r[0][3:]))\n",
    "    \n",
    "    return all_titles"
   ]
  },
  {
   "cell_type": "code",
   "execution_count": 52,
   "metadata": {},
   "outputs": [],
   "source": [
    "x = select_content(mycursor, mydb)"
   ]
  },
  {
   "cell_type": "code",
   "execution_count": 53,
   "metadata": {},
   "outputs": [],
   "source": [
    "#x"
   ]
  },
  {
   "cell_type": "code",
   "execution_count": 54,
   "metadata": {},
   "outputs": [
    {
     "data": {
      "text/plain": [
       "6918"
      ]
     },
     "execution_count": 54,
     "metadata": {},
     "output_type": "execute_result"
    }
   ],
   "source": [
    "max(x)"
   ]
  },
  {
   "cell_type": "code",
   "execution_count": null,
   "metadata": {},
   "outputs": [],
   "source": [
    "titls = []\n",
    "\n",
    "for i in x.keys()"
   ]
  },
  {
   "cell_type": "code",
   "execution_count": 137,
   "metadata": {},
   "outputs": [
    {
     "data": {
      "text/plain": [
       "[]"
      ]
     },
     "execution_count": 137,
     "metadata": {},
     "output_type": "execute_result"
    }
   ],
   "source": [
    "x"
   ]
  },
  {
   "cell_type": "code",
   "execution_count": 45,
   "metadata": {},
   "outputs": [],
   "source": [
    "# print(\"Dropping to db...\")\n",
    "# for a in articles.values():\n",
    "#     try:\n",
    "#         insert_article(a, mycursor, mydb)\n",
    "#     except Exception as e: \n",
    "#         print(e)"
   ]
  },
  {
   "cell_type": "markdown",
   "metadata": {},
   "source": [
    "## Estimate collection time"
   ]
  },
  {
   "cell_type": "code",
   "execution_count": 26,
   "metadata": {},
   "outputs": [],
   "source": [
    "stats = pd.DataFrame.to_dict(current_stats)"
   ]
  },
  {
   "cell_type": "code",
   "execution_count": 30,
   "metadata": {},
   "outputs": [
    {
     "data": {
      "text/plain": [
       "{2010: 0,\n",
       " 2011: 0,\n",
       " 2012: 0,\n",
       " 2013: 0,\n",
       " 2014: 0,\n",
       " 2015: 0,\n",
       " 2016: 0,\n",
       " 2017: 0,\n",
       " 2018: 0,\n",
       " 2019: 0,\n",
       " 2020: 0}"
      ]
     },
     "execution_count": 30,
     "metadata": {},
     "output_type": "execute_result"
    }
   ],
   "source": [
    "stats[\"NZH\"]"
   ]
  },
  {
   "cell_type": "code",
   "execution_count": 17,
   "metadata": {},
   "outputs": [],
   "source": [
    "#stats = {}\n",
    "\n",
    "# for n in newspapers.keys():\n",
    "#     stats[n] = {}\n",
    "#     for y in years:\n",
    "#         stats[n][str(y)] = 0"
   ]
  },
  {
   "cell_type": "code",
   "execution_count": null,
   "metadata": {},
   "outputs": [],
   "source": []
  },
  {
   "cell_type": "code",
   "execution_count": 22,
   "metadata": {},
   "outputs": [],
   "source": [
    "#newspapers.keys()"
   ]
  },
  {
   "cell_type": "code",
   "execution_count": 36,
   "metadata": {},
   "outputs": [
    {
     "name": "stdout",
     "output_type": "stream",
     "text": [
      "https://services-api.lexisnexis.com/v1/News?$expand=Document&$search=privacy&$skip=0&$top=10&$filter=Source/Name eq 'The Dominion Post (Wellington, New Zealand)' and year(Date) eq 2010\n",
      "b'{\\r\\n  \"@odata.context\":\"https://services-api.lexisnexis.com/v1/$metadata#News\",\"@odata.count\":107,\"value\":[\\r\\n    {\\r\\n      \"ResultId\":\"urn:contentItem:7Y5D-HTM1-2R6X-P014-00000-00\",\"Jurisdiction\":\"U.S. Federal; International\",\"Location\":null,\"ContentType\":\"News\",\"Byline\":null,\"WordLength\":472,\"WebNewsUrl\":null,\"Geography\":null,\"NegativeNews\":null,\"Language\":null,\"Industry\":null,\"People\":null,\"Subject\":null,\"Section\":\"BUSINESS; Pg. 9\",\"Company\":null,\"PublicationType\":null,\"Publisher\":null,\"GroupDuplicates\":null,\"InternationalLocation\":null,\"LEI\":[\\r\\n        \\r\\n      ],\"CompanyName\":[\\r\\n        \\r\\n      ],\"LNGI\":[\\r\\n        \\r\\n      ],\"SearchType\":\"NaturalLanguageAnd\",\"Date\":\"2010-04-05T00:00:00Z\",\"Keyword\":null,\"Title\":\"UN treaty on privacy possible\",\"DocumentContent@odata.mediaReadLink\":\"Documents(DocumentId=\\'%2fshared%2fdocument%2fnews%2furn%3acontentItem%3a7Y5D-HTM1-2R6X-P014-00000-00\\',DocumentIdType=\\'DocFullPath\\')/$value?ind=y\",\"DocumentContent@odata.mediaContentType\":\"application/atom+xml\",\"Overview\":\"The Dominion Post (Wellington, New Zealand), BUSINESS; Pg. 9, 472words\",\"Extracts\":[\\r\\n        {\\r\\n          \"Type\":\"Extract\",\"SummaryText\":\"<div>...  signed a letter calling for international <xhtml:span class=\\\\\"hit\\\\\" xmlns:xhtml=\\\\\"http://www.w3.org/1999/xhtml\\\\\">privacy</xhtml:span> standards before the Madrid conference, she says. \\\\\"The reason for this is they would bring legal certainty. Far from it being some sort of a bureaucratic initiative to impose more regulation on business, businesses are recognising this is a highly volatile environment and they are particularly focused on the fact many developing companies do not have <xhtml:span class=\\\\\"hit\\\\\" xmlns:xhtml=\\\\\"http://www.w3.org/1999/xhtml\\\\\">privacy</xhtml:span> regulation or laws and it is hard for them to operate their businesses in this very varied  ...</div>\"\\r\\n        },{\\r\\n          \"Type\":\"Term\",\"SummaryText\":\"<xhtml:span id=\\\\\"h1\\\\\" class=\\\\\"hits-fragment\\\\\" xmlns:xhtml=\\\\\"http://www.w3.org/1999/xhtml\\\\\">... had joined US <xhtml:span class=\\\\\"hit\\\\\">privacy</xhtml:span> groups and academics in establishing a \\\\\"Digital Due Process Coalition\\\\\" that ...</xhtml:span>\"\\r\\n        },{\\r\\n          \"Type\":\"Term\",\"SummaryText\":\"<xhtml:span id=\\\\\"h2\\\\\" class=\\\\\"hits-fragment\\\\\" xmlns:xhtml=\\\\\"http://www.w3.org/1999/xhtml\\\\\">... federal law makers in Washington to give personal information stored online <xhtml:span class=\\\\\"hit\\\\\">privacy</xhtml:span> protections that are on a par with letters or pictures kept in homes. --------------- CAPTION: Private eye: <xhtml:span class=\\\\\"hit\\\\\">Privacy</xhtml:span> Commissioner Marie Shroff says calls for global <xhtml:span class=\\\\\"hit\\\\\">privacy</xhtml:span> standards and laws are growing. Picture: ROBERT KITCHIN...</xhtml:span>\"\\r\\n        },{\\r\\n          \"Type\":\"Term\",\"SummaryText\":\"<xhtml:span id=\\\\\"h3\\\\\" class=\\\\\"hits-fragment\\\\\" xmlns:xhtml=\\\\\"http://www.w3.org/1999/xhtml\\\\\">... treaty may be required to protect <xhtml:span class=\\\\\"hit\\\\\">privacy</xhtml:span> now that cloud computing, online search engines and the globalisation of ...</xhtml:span>\"\\r\\n        },{\\r\\n          \"Type\":\"Term\",\"SummaryText\":\"<xhtml:span id=\\\\\"h4\\\\\" class=\\\\\"hits-fragment\\\\\" xmlns:xhtml=\\\\\"http://www.w3.org/1999/xhtml\\\\\">... marketing are resulting in \\\\\"huge increases in international data flows\\\\\", says <xhtml:span class=\\\\\"hit\\\\\">Privacy</xhtml:span> Commissioner Marie Shroff. Ms Schroff says global <xhtml:span class=\\\\\"hit\\\\\">privacy</xhtml:span> standards and enforcement have been discussed by her counterparts in Canada and Australia. China is beginning to consider <xhtml:span class=\\\\\"hit\\\\\">privacy</xhtml:span> legislation and calls for better regulation are growing in the  United States . Draft international standards on the protection of <xhtml:span class=\\\\\"hit\\\\\">privacy</xhtml:span> were agreed at a <xhtml:span class=\\\\\"hit\\\\\">privacy</xhtml:span> commissioners\\' conference in Madrid in November, but Ms Shroff says these ...</xhtml:span>\"\\r\\n        },{\\r\\n          \"Type\":\"Term\",\"SummaryText\":\"<xhtml:span id=\\\\\"h5\\\\\" class=\\\\\"hits-fragment\\\\\" xmlns:xhtml=\\\\\"http://www.w3.org/1999/xhtml\\\\\">... reported Microsoft and Google had joined US <xhtml:span class=\\\\\"hit\\\\\">privacy</xhtml:span> groups and academics in establishing a \\\\\"Digital Due Process Coalition\\\\\" that ...</xhtml:span>\"\\r\\n        },{\\r\\n          \"Type\":\"Term\",\"SummaryText\":\"<xhtml:span id=\\\\\"h6\\\\\" class=\\\\\"hits-fragment\\\\\" xmlns:xhtml=\\\\\"http://www.w3.org/1999/xhtml\\\\\">... federal law makers in Washington to give personal information stored online <xhtml:span class=\\\\\"hit\\\\\">privacy</xhtml:span> protections that are on a par with letters or pictures kept in homes. --------------- CAPTION: Private eye:  ...</xhtml:span>\"\\r\\n        }\\r\\n      ],\"IsCitationMatch\":false,\"Document\":{\\r\\n        \"DocumentId\":\"/shared/document/news/urn:contentItem:7Y5D-HTM1-2R6X-P014-00000-00\",\"DocumentIdType\":\"DocFullPath\",\"Content\":\"<entry xmlns=\\\\\"http://www.w3.org/2005/Atom\\\\\"><id>urn:contentItem:7Y5D-HTM1-2R6X-P014-00000-00</id><title>UN treaty on privacy possible</title><published>2010-04-05T00:00:00Z</published><updated>2021-02-06T12:50:46Z</updated><author><name>LexisNexis</name></author><content type=\\\\\"application/xml\\\\\"><!--Transformation version 1.25--><articleDoc xmlns=\\\\\"\\\\\" xmlns:xsi=\\\\\"http://www.w3.org/2001/XMLSchema-instance\\\\\" xsi:noNamespaceSchemaLocation=\\\\\"http://www.lexisnexis.com/xmlschemas/content/public/articledoc/1/\\\\\" schemaVersion=\\\\\"1.8\\\\\" xml:lang=\\\\\"en\\\\\"><articleDocHead><itemInfo><sourceSectionInfo><positionSection>BUSINESS</positionSection><positionSequence>Pg. 9</positionSequence></sourceSectionInfo></itemInfo></articleDocHead><nitf:body xmlns:nitf=\\\\\"http://iptc.org/std/NITF/2006-10-18/\\\\\"><nitf:body.head><nitf:hedline><nitf:hl1>UN treaty on privacy possible</nitf:hl1></nitf:hedline></nitf:body.head><nitf:body.content><bodyText><p nitf:lede=\\\\\"true\\\\\">TOM PULLAR-STRECKER</p><p nitf:lede=\\\\\"true\\\\\">A UNITED NATIONS treaty may be required to protect privacy now that cloud computing, online search engines and the globalisation of direct marketing are resulting in \\\\\"huge increases in international data flows\\\\\", says Privacy Commissioner Marie Shroff.</p><p>Ms Schroff says global privacy standards and enforcement have been discussed by her counterparts in Canada and Australia. China is beginning to consider privacy legislation and calls for better regulation are growing in the United States.</p><p>Draft international standards on the protection of privacy were agreed at a privacy commissioners\\' conference in Madrid in November, but Ms Shroff says these are \\\\\"very much a work in progress.\\\\\"</p><p>Some of the issues a treaty might tackle could include the collection of information by international search engines, the practice of companies contracting call centres in developing countries to carry out international telemarketing, and the protection of personal information when people used credit cards to purchase items from businesses in countries with no privacy law.</p><p>\\\\\"It would also potentially I hope apply to government uses of information as well. One of the drivers of international data flows is [counter] terrorism.\\\\\"</p><p>Ms Shroff says multinationals want more rules. Ten corporations including Microsoft, Google, IBM, Walt Disney, Proctor and Gamble and General Electric signed a letter calling for international privacy standards before the Madrid conference, she says.</p><p>\\\\\"The reason for this is they would bring legal certainty. Far from it being some sort of a bureaucratic initiative to impose more regulation on business, businesses are recognising this is a highly volatile environment and they are particularly focused on the fact many developing companies do not have privacy regulation or laws and it is hard for them to operate their businesses in this very varied world.</p><p>\\\\\"We have to look at whether and how we can regulate to provide certainty for businesses and protections for individual citizens. New Zealand is on the working group that is looking at what the next steps might be toward some form of global privacy regulation.\\\\\"</p><p>A UN treaty was one option. Another might be guidelines from an organisation such as APEC.</p><p>The US Federal Trade Commission is considering establishing a \\\\\"Global Privacy Enforcement Network\\\\\" to co-ordinate international enforcement.</p><p>AFP reported Microsoft and Google had joined US privacy groups and academics in establishing a \\\\\"Digital Due Process Coalition\\\\\" that has petitioned federal law makers in Washington to give personal information stored online privacy protections that are on a par with letters or pictures kept in homes.</p><p>---------------</p><p>CAPTION:</p><p>Private eye: Privacy Commissioner Marie Shroff says calls for global privacy standards and laws are growing.</p><p>Picture: ROBERT KITCHIN</p></bodyText></nitf:body.content></nitf:body><metadata><dc:metadata xmlns:dc=\\\\\"http://purl.org/dc/elements/1.1/\\\\\"><dc:identifier identifierScheme=\\\\\"DOC-ID\\\\\">DOPST-TDP100405C009125103705-FI</dc:identifier><dc:source sourceScheme=\\\\\"royaltyReportingKey\\\\\">DOPST2010</dc:source><dc:identifier identifierScheme=\\\\\"PGUID\\\\\">urn:contentItem:7Y5D-HTM1-2R6X-P014-00000-00</dc:identifier><dc:source sourceScheme=\\\\\"productContentSetIdentifier\\\\\">256380</dc:source><dc:date dateType=\\\\\"last-updated\\\\\">2019-01-29</dc:date></dc:metadata><wordCount number=\\\\\"472\\\\\"/><publicationInfo><copyright>Copyright 2010 Fairfax New Zealand All Rights Reserved</copyright><publicationName>The Dominion Post (Wellington, New Zealand)</publicationName><publicationDate day=\\\\\"05\\\\\" month=\\\\\"04\\\\\" year=\\\\\"2010\\\\\"><dateText>April 5, 2010 Monday</dateText></publicationDate><classification classificationScheme=\\\\\"publicationtype\\\\\"><classificationItem><className>Newspaper</className></classificationItem></classification><classification classificationScheme=\\\\\"publicationtype\\\\\"><classificationItem><className>Newspapers</className></classificationItem></classification></publicationInfo><classification classificationScheme=\\\\\"language\\\\\"><classificationItem classificationScheme=\\\\\"lang.english\\\\\"><className>ENGLISH</className></classificationItem></classification><classificationGroup classificationScheme=\\\\\"indexing-terms\\\\\"><classification classificationScheme=\\\\\"company\\\\\"><classificationItem score=\\\\\"85\\\\\"><classCode>CC00055NZ</classCode><className>GOOGLE INC</className></classificationItem><classificationItem score=\\\\\"55\\\\\"><classCode>CC000299K</classCode><className>GENERAL ELECTRIC CO</className></classificationItem><classificationItem score=\\\\\"55\\\\\"><classCode>CC0002LO7</classCode><className>WALT DISNEY CO</className></classificationItem><classificationItem score=\\\\\"55\\\\\"><classCode>CC0002QN2</classCode><className>MICROSOFT CORP</className></classificationItem></classification><classification classificationScheme=\\\\\"industry\\\\\"><classificationItem score=\\\\\"85\\\\\"><className>NAICS519130 INTERNET PUBLISHING &amp; BROADCASTING &amp; WEB SEARCH PORTALS</className></classificationItem><classificationItem score=\\\\\"55\\\\\"><className>NAICS336412 AIRCRAFT ENGINE &amp; ENGINE PARTS MANUFACTURING</className></classificationItem><classificationItem score=\\\\\"55\\\\\"><className>NAICS335220 MAJOR HOUSEHOLD APPLIANCE MANUFACTURING</className></classificationItem><classificationItem score=\\\\\"55\\\\\"><className>NAICS335210 SMALL ELECTRICAL APPLIANCE MANUFACTURING</className></classificationItem><classificationItem score=\\\\\"55\\\\\"><className>NAICS333132 OIL &amp; GAS FIELD MACHINERY &amp; EQUIPMENT MANUFACTURING</className></classificationItem><classificationItem score=\\\\\"55\\\\\"><className>NAICS332912 FLUID POWER VALVE &amp; HOSE FITTING MANUFACTURING</className></classificationItem><classificationItem score=\\\\\"55\\\\\"><className>SIC6798 REAL ESTATE INVESTMENT TRUSTS</className></classificationItem><classificationItem score=\\\\\"55\\\\\"><className>SIC3533 OIL &amp; GAS FIELD MACHINERY &amp; EQUIPMENT</className></classificationItem><classificationItem score=\\\\\"55\\\\\"><className>SIC3492 FLUID POWER VALVES &amp; HOSE FITTINGS</className></classificationItem><classificationItem score=\\\\\"55\\\\\"><className>NAICS713110 AMUSEMENT &amp; THEME PARKS</className></classificationItem><classificationItem score=\\\\\"55\\\\\"><className>NAICS515112 RADIO STATIONS</className></classificationItem><classificationItem score=\\\\\"55\\\\\"><className>NAICS512110 MOTION PICTURE &amp; VIDEO PRODUCTION</className></classificationItem><classificationItem score=\\\\\"55\\\\\"><className>NAICS453220 GIFT, NOVELTY &amp; SOUVENIR STORES</className></classificationItem><classificationItem score=\\\\\"55\\\\\"><className>NAICS511210 SOFTWARE PUBLISHERS</className></classificationItem><classificationItem score=\\\\\"55\\\\\"><className>SIC7372 PREPACKAGED SOFTWARE</className></classificationItem></classification><classification classificationScheme=\\\\\"ticker\\\\\"><classificationItem score=\\\\\"55\\\\\"><className>GNE (PAR)</className></classificationItem><classificationItem score=\\\\\"55\\\\\"><className>GEC (LSE)</className></classificationItem><classificationItem score=\\\\\"55\\\\\"><className>GE (SWX)</className></classificationItem><classificationItem score=\\\\\"55\\\\\"><className>GE (NYSE)</className></classificationItem><classificationItem score=\\\\\"55\\\\\"><className>DIS (NYSE)</className></classificationItem><classificationItem score=\\\\\"55\\\\\"><className>MSFT (NASDAQ)</className></classificationItem></classification></classificationGroup><classificationGroup classificationScheme=\\\\\"indexing-terms\\\\\"><classification classificationScheme=\\\\\"legal\\\\\"><classificationItem score=\\\\\"50\\\\\"><className>Antitrust &amp; Trade Law</className><classCode>Z3VpZD11cm46dG9waWM6REEyRTNDM0JGQzYyNEMyOEFGNTAwNUJEOUU1MDg4NjU7cGFyZW50Z3VpZD0</classCode><classificationItem score=\\\\\"50\\\\\"><className>Discretion</className><classCode>Z3VpZD11cm46dG9waWM6RjdERjFENTBEOTdDNENFRjk5ODNBRUJDM0MwRjc4MzM7cGFyZW50Z3VpZD11cm46dG9waWM6RUU1OTEyOTNEQ0U4NEQ1RkEwMkU0MzZCQkE0QjBBOTA</classCode></classificationItem></classificationItem><classificationItem score=\\\\\"50\\\\\"><className>Civil Rights Law</className><classCode>Z3VpZD11cm46dG9waWM6NURDOUM5MEJFQUZGNEFBMDgzMkM0RTgwODdDNTMxREM7cGFyZW50Z3VpZD0</classCode><classificationItem score=\\\\\"50\\\\\"><className>Privacy Protection Act</className><classCode>Z3VpZD11cm46dG9waWM6MjM4NTMwNTA1Nzg1NENDNDgzOEM1QUM5NUZCNTZCRTY7cGFyZW50Z3VpZD11cm46dG9waWM6MzU5NUZDRDhEOEEyNDc5MDk0QTY0RDREQ0NGNjc5RDg</classCode></classificationItem><classificationItem score=\\\\\"50\\\\\"><className>Driver Privacy Protection Act</className><classCode>Z3VpZD11cm46dG9waWM6QUI5MDE4QjA3RTlBNDhDNzlBNkNGMjI4RTQ1RkIzREE7cGFyZW50Z3VpZD11cm46dG9waWM6MzU5NUZDRDhEOEEyNDc5MDk0QTY0RDREQ0NGNjc5RDg</classCode></classificationItem></classificationItem></classification><classification classificationScheme=\\\\\"subject\\\\\"><classificationItem score=\\\\\"91\\\\\"><classCode>STX001384</classCode><className>PRIVACY RIGHTS</className></classificationItem><classificationItem score=\\\\\"90\\\\\"><classCode>STX000445</classCode><className>DATA PROTECTION LAWS</className></classificationItem><classificationItem score=\\\\\"90\\\\\"><classCode>STX001758</classCode><className>TREATIES &amp; AGREEMENTS</className></classificationItem><classificationItem score=\\\\\"90\\\\\"><classCode>ST000DKU4</classCode><className>UNITED NATIONS</className></classificationItem><classificationItem score=\\\\\"90\\\\\"><classCode>ST00097CV</classCode><className>UNITED NATIONS INSTITUTIONS</className></classificationItem><classificationItem score=\\\\\"89\\\\\"><classCode>STX000963</classCode><className>INTERNET PRIVACY</className></classificationItem><classificationItem score=\\\\\"89\\\\\"><classCode>ST0008X90</classCode><className>MANUFACTURING OUTPUT</className></classificationItem><classificationItem score=\\\\\"89\\\\\"><classCode>N921100MM</classCode><className>US FEDERAL GOVERNMENT</className></classificationItem><classificationItem score=\\\\\"78\\\\\"><classCode>STX000483</classCode><className>DEVELOPING COUNTRIES</className></classificationItem><classificationItem score=\\\\\"78\\\\\"><classCode>ST000CMQF</classCode><className>DUE PROCESS</className></classificationItem><classificationItem score=\\\\\"78\\\\\"><classCode>STX000797</classCode><className>GLOBALIZATION</className></classificationItem><classificationItem score=\\\\\"76\\\\\"><classCode>STX001020</classCode><className>LEGISLATION</className></classificationItem><classificationItem score=\\\\\"73\\\\\"><classCode>ST0008X5U</classCode><className>CALL CENTERS</className></classificationItem><classificationItem score=\\\\\"73\\\\\"><classCode>ST00090NP</classCode><className>MULTINATIONAL CORPORATIONS</className></classificationItem><classificationItem score=\\\\\"72\\\\\"><classCode>ST00097CC</classCode><className>COMMERCE DEPARTMENTS</className></classificationItem><classificationItem score=\\\\\"72\\\\\"><classCode>ST0009HMV</classCode><className>STANDARDS &amp; MEASUREMENTS</className></classificationItem><classificationItem score=\\\\\"71\\\\\"><classCode>N525920EM</classCode><className>INVESTMENT TRUSTS</className></classificationItem><classificationItem score=\\\\\"71\\\\\"><classCode>ST0008XMR</classCode><className>LAW &amp; LEGAL SYSTEM</className></classificationItem><classificationItem score=\\\\\"71\\\\\"><classCode>STX001013</classCode><className>REAL ESTATE INVESTMENT TRUSTS</className></classificationItem><classificationItem score=\\\\\"70\\\\\"><classCode>STX001317</classCode><className>PETITIONS</className></classificationItem><classificationItem score=\\\\\"61\\\\\"><classCode>ST000A7IS</classCode><className>ASSOCIATIONS &amp; ORGANIZATIONS</className></classificationItem><classificationItem score=\\\\\"52\\\\\"><classCode>STX000417</classCode><className>COUNTERTERRORISM</className></classificationItem><classificationItem score=\\\\\"52\\\\\"><classCode>STX001710</classCode><className>TERRORISM</className></classificationItem></classification><classification classificationScheme=\\\\\"industry\\\\\"><classificationItem score=\\\\\"91\\\\\"><classCode>N713110MM</classCode><className>AMUSEMENT &amp; THEME PARKS</className></classificationItem><classificationItem score=\\\\\"91\\\\\"><classCode>ST000A39R</classCode><className>COMPUTER SOFTWARE</className></classificationItem><classificationItem score=\\\\\"91\\\\\"><classCode>N335200CC</classCode><className>HOUSEHOLD APPLIANCE MFG</className></classificationItem><classificationItem score=\\\\\"91\\\\\"><classCode>STX001536</classCode><className>SEARCH ENGINES</className></classificationItem><classificationItem score=\\\\\"90\\\\\"><classCode>STX000354</classCode><className>COMPUTER NETWORKS</className></classificationItem><classificationItem score=\\\\\"90\\\\\"><classCode>STX000445</classCode><className>DATA PROTECTION LAWS</className></classificationItem><classificationItem score=\\\\\"90\\\\\"><classCode>STX000498</classCode><className>DIRECT MARKETING</className></classificationItem><classificationItem score=\\\\\"90\\\\\"><classCode>N335211MM</classCode><className>ELECTRIC HOUSEWARES MFG</className></classificationItem><classificationItem score=\\\\\"90\\\\\"><classCode>STX000580</classCode><className>ELECTRONIC PUBLISHING</className></classificationItem><classificationItem score=\\\\\"90\\\\\"><classCode>STX002014</classCode><className>MANUFACTURING</className></classificationItem><classificationItem score=\\\\\"90\\\\\"><classCode>N332910CC</classCode><className>METAL VALVE MFG</className></classificationItem><classificationItem score=\\\\\"90\\\\\"><classCode>N512110MM</classCode><className>MOVIE &amp; VIDEO PRODUCTION</className></classificationItem><classificationItem score=\\\\\"90\\\\\"><classCode>N333132MM</classCode><className>OIL &amp; GAS FIELD EQUIPMENT MFG</className></classificationItem><classificationItem score=\\\\\"90\\\\\"><classCode>N511200CC</classCode><className>SOFTWARE MAKERS</className></classificationItem><classificationItem score=\\\\\"90\\\\\"><classCode>N518112MM</classCode><className>WEB SEARCH PORTALS</className></classificationItem><classificationItem score=\\\\\"90\\\\\"><classCode>STX000962</classCode><className>WEBSITES &amp; PORTALS</className></classificationItem><classificationItem score=\\\\\"89\\\\\"><classCode>ST000D7DY</classCode><className>INFORMATION SECURITY &amp; PRIVACY</className></classificationItem><classificationItem score=\\\\\"89\\\\\"><classCode>STX000963</classCode><className>INTERNET PRIVACY</className></classificationItem><classificationItem score=\\\\\"89\\\\\"><classCode>ST0008X90</classCode><className>MANUFACTURING OUTPUT</className></classificationItem><classificationItem score=\\\\\"89\\\\\"><classCode>STX001455</classCode><className>REAL ESTATE</className></classificationItem><classificationItem score=\\\\\"89\\\\\"><classCode>ST000A2W7</classCode></classificationItem><classificationItem score=\\\\\"78\\\\\"><classCode>STX002160</classCode><className>AIRCRAFT ENGINES</className></classificationItem><classificationItem score=\\\\\"78\\\\\"><classCode>ST000C42T</classCode><className>CLOUD COMPUTING</className></classificationItem><classificationItem score=\\\\\"78\\\\\"><classCode>N561422MM</classCode><className>TELEMARKETING</className></classificationItem><classificationItem score=\\\\\"77\\\\\"><classCode>N515110CC</classCode><className>RADIO BROADCAST INDUSTRY</className></classificationItem><classificationItem score=\\\\\"73\\\\\"><classCode>ST0009F6A</classCode><className>ADMINISTRATIVE SUPPORT SERVICES</className></classificationItem><classificationItem score=\\\\\"73\\\\\"><classCode>ST0008X5U</classCode><className>CALL CENTERS</className></classificationItem><classificationItem score=\\\\\"71\\\\\"><classCode>N525920EM</classCode><className>INVESTMENT TRUSTS</className></classificationItem><classificationItem score=\\\\\"71\\\\\"><classCode>ST00096KM</classCode><className>REAL ESTATE INVESTING</className></classificationItem><classificationItem score=\\\\\"71\\\\\"><classCode>STX001013</classCode><className>REAL ESTATE INVESTMENT TRUSTS</className></classificationItem><classificationItem score=\\\\\"53\\\\\"><classCode>STX000424</classCode><className>CREDIT CARDS</className></classificationItem></classification><classification classificationScheme=\\\\\"city\\\\\"><classificationItem score=\\\\\"88\\\\\"><classCode>GX234</classCode><className>WELLINGTON, NEW ZEALAND</className></classificationItem></classification><classification classificationScheme=\\\\\"country\\\\\"><classificationItem score=\\\\\"93\\\\\"><classCode>GC343</classCode><className>UNITED STATES</className></classificationItem><classificationItem score=\\\\\"92\\\\\"><classCode>GC351</classCode><className>NEW ZEALAND</className></classificationItem><classificationItem score=\\\\\"79\\\\\"><classCode>GC301</classCode><className>AUSTRALIA</className></classificationItem><classificationItem score=\\\\\"79\\\\\"><classCode>GC339</classCode><className>CANADA</className></classificationItem><classificationItem score=\\\\\"79\\\\\"><classCode>GC325</classCode><className>SPAIN</className></classificationItem></classification></classificationGroup></metadata></articleDoc></content></entry>\",\"Citation\":\"\"\\r\\n      },\"Source\":{\\r\\n        \"Id\":\"\",\"Name\":\"The Dominion Post (Wellington, New Zealand)\",\"ContentType\":\"\",\"Jurisdiction\":null,\"Publisher\":null,\"AlphaCategory\":null\\r\\n      }\\r\\n    },{\\r\\n      \"ResultId\":\"urn:contentItem:7Y0Y-0JS0-Y9P0-D4TF-00000-00\",\"Jurisdiction\":\"U.S. Federal; International\",\"Location\":null,\"ContentType\":\"News\",\"Byline\":\"PULLAR-STRECKER Tom\",\"WordLength\":855,\"WebNewsUrl\":null,\"Geography\":null,\"NegativeNews\":null,\"Language\":null,\"Industry\":null,\"People\":null,\"Subject\":null,\"Section\":\"BUSINESS; Pg. 5\",\"Company\":null,\"PublicationType\":null,\"Publisher\":null,\"GroupDuplicates\":null,\"InternationalLocation\":null,\"LEI\":[\\r\\n        \\r\\n      ],\"CompanyName\":[\\r\\n        \\r\\n      ],\"LNGI\":[\\r\\n        \\r\\n      ],\"SearchType\":\"NaturalLanguageAnd\",\"Date\":\"2010-03-15T00:00:00Z\",\"Keyword\":null,\"Title\":\"\\'Do not call register\\' among ideas to improve privacy\",\"DocumentContent@odata.mediaReadLink\":\"Documents(DocumentId=\\'%2fshared%2fdocument%2fnews%2furn%3acontentItem%3a7Y0Y-0JS0-Y9P0-D4TF-00000-00\\',DocumentIdType=\\'DocFullPath\\')/$value?ind=y\",\"DocumentContent@odata.mediaContentType\":\"application/atom+xml\",\"Overview\":\"The Dominion Post (Wellington, New Zealand), BUSINESS; Pg. 5, 855words\",\"Extracts\":[\\r\\n        {\\r\\n          \"Type\":\"Extract\",\"SummaryText\":\"<div>... <xhtml:span class=\\\\\"hit\\\\\" xmlns:xhtml=\\\\\"http://www.w3.org/1999/xhtml\\\\\">Privacy</xhtml:span> Code are designed to stop internet providers from spying on customers, but the commission questions \\\\\"whether more is needed\\\\\" given deep packet inspection - a technology that can help internet providers better manage their networks - had the potential to be misused. The commission has previously maintained that unwanted direct marketing was more of an irritant than an invasion of <xhtml:span class=\\\\\"hit\\\\\" xmlns:xhtml=\\\\\"http://www.w3.org/1999/xhtml\\\\\">privacy</xhtml:span>, but says some see it as an intrusion, or \\\\\"invasion of spatial <xhtml:span class=\\\\\"hit\\\\\" xmlns:xhtml=\\\\\"http://www.w3.org/1999/xhtml\\\\\">privacy</xhtml:span>\\\\\". Direct marketing could also be ...</div>\"\\r\\n        },{\\r\\n          \"Type\":\"Term\",\"SummaryText\":\"<xhtml:span id=\\\\\"h1\\\\\" class=\\\\\"hits-fragment\\\\\" xmlns:xhtml=\\\\\"http://www.w3.org/1999/xhtml\\\\\">... information once it is available on the internet. On social networking: <xhtml:span class=\\\\\"hit\\\\\">Privacy</xhtml:span> groups have voiced concern that <xhtml:span class=\\\\\"hit\\\\\">privacy</xhtml:span> - friendly settings are often not the default settings on social ...</xhtml:span>\"\\r\\n        },{\\r\\n          \"Type\":\"Term\",\"SummaryText\":\"<xhtml:span id=\\\\\"h2\\\\\" class=\\\\\"hits-fragment\\\\\" xmlns:xhtml=\\\\\"http://www.w3.org/1999/xhtml\\\\\">... that an individual must actively set their security settings in a <xhtml:span class=\\\\\"hit\\\\\">privacy</xhtml:span> -friendly manner. On cloud computing: The rapid growth in these services ...</xhtml:span>\"\\r\\n        },{\\r\\n          \"Type\":\"Term\",\"SummaryText\":\"<xhtml:span id=\\\\\"h3\\\\\" class=\\\\\"hits-fragment\\\\\" xmlns:xhtml=\\\\\"http://www.w3.org/1999/xhtml\\\\\">... Interception provisions in the Crimes Act and Telecommunications Information <xhtml:span class=\\\\\"hit\\\\\">Privacy</xhtml:span> Code are designed to stop internet providers from spying on customers, ...</xhtml:span>\"\\r\\n        },{\\r\\n          \"Type\":\"Term\",\"SummaryText\":\"<xhtml:span id=\\\\\"h4\\\\\" class=\\\\\"hits-fragment\\\\\" xmlns:xhtml=\\\\\"http://www.w3.org/1999/xhtml\\\\\">... direct marketing was more of an irritant than an invasion of <xhtml:span class=\\\\\"hit\\\\\">privacy</xhtml:span>, but says some see it as an intrusion, or \\\\\"invasion of spatial <xhtml:span class=\\\\\"hit\\\\\">privacy</xhtml:span>\\\\\". Direct marketing could also be regarded as a <xhtml:span class=\\\\\"hit\\\\\">privacy</xhtml:span> issue if it involved the use of personal details for an ...</xhtml:span>\"\\r\\n        },{\\r\\n          \"Type\":\"Term\",\"SummaryText\":\"<xhtml:span id=\\\\\"h5\\\\\" class=\\\\\"hits-fragment\\\\\" xmlns:xhtml=\\\\\"http://www.w3.org/1999/xhtml\\\\\">... lost or stolen are among a raft of ideas to tighten <xhtml:span class=\\\\\"hit\\\\\">privacy</xhtml:span> law canvassed by the Law Commission. In a 500-page report, the ...</xhtml:span>\"\\r\\n        },{\\r\\n          \"Type\":\"Term\",\"SummaryText\":\"<xhtml:span id=\\\\\"h6\\\\\" class=\\\\\"hits-fragment\\\\\" xmlns:xhtml=\\\\\"http://www.w3.org/1999/xhtml\\\\\">... or potentially by means of a chip implanted under the skin. <xhtml:span class=\\\\\"hit\\\\\">Privacy</xhtml:span> concerns about RFID also arise from the ability for RFID data ...</xhtml:span>\"\\r\\n        },{\\r\\n          \"Type\":\"Term\",\"SummaryText\":\"<xhtml:span id=\\\\\"h7\\\\\" class=\\\\\"hits-fragment\\\\\" xmlns:xhtml=\\\\\"http://www.w3.org/1999/xhtml\\\\\">... about consumers, and the ability to clone RFID chips. On biometrics: <xhtml:span class=\\\\\"hit\\\\\">Privacy</xhtml:span> concerns about the use of biometrics include that the technology makes ...</xhtml:span>\"\\r\\n        }\\r\\n      ],\"IsCitationMatch\":false,\"Document\":{\\r\\n        \"DocumentId\":\"/shared/document/news/urn:contentItem:7Y0Y-0JS0-Y9P0-D4TF-00000-00\",\"DocumentIdType\":\"DocFullPath\",\"Content\":\"<entry xmlns=\\\\\"http://www.w3.org/2005/Atom\\\\\"><id>urn:contentItem:7Y0Y-0JS0-Y9P0-D4TF-00000-00</id><title>\\'Do not call register\\' among ideas to improve privacy</title><published>2010-03-15T00:00:00Z</published><updated>2021-02-06T12:50:46Z</updated><author><name>LexisNexis</name></author><content type=\\\\\"application/xml\\\\\"><!--Transformation version 1.25--><articleDoc xmlns=\\\\\"\\\\\" xmlns:xsi=\\\\\"http://www.w3.org/2001/XMLSchema-instance\\\\\" xsi:noNamespaceSchemaLocation=\\\\\"http://www.lexisnexis.com/xmlschemas/content/public/articledoc/1/\\\\\" schemaVersion=\\\\\"1.8\\\\\" xml:lang=\\\\\"en\\\\\"><articleDocHead><itemInfo><sourceSectionInfo><positionSection>BUSINESS</positionSection><positionSequence>Pg. 5</positionSequence></sourceSectionInfo></itemInfo></articleDocHead><nitf:body xmlns:nitf=\\\\\"http://iptc.org/std/NITF/2006-10-18/\\\\\"><nitf:body.head><nitf:hedline><nitf:hl1>\\'Do not call register\\' among ideas to improve privacy</nitf:hl1></nitf:hedline><nitf:byline><author><person><nameText>PULLAR-STRECKER Tom</nameText></person></author></nitf:byline></nitf:body.head><nitf:body.content><bodyText><p nitf:lede=\\\\\"true\\\\\">Private Matters The Law Commission on RFID technology: There are concerns about its potential to track people by the tagged objects they carry or potentially by means of a chip implanted under the skin. Privacy concerns about RFID also arise from the ability for RFID data to be aggregated with other information so as to create detailed profiles about consumers, and the ability to clone RFID chips.</p><p nitf:lede=\\\\\"true\\\\\">On biometrics: Privacy concerns about the use of biometrics include that the technology makes it easier to monitor people and link information about them and that biometrics may reveal sensitive information, such as information about a person\\'s health, emotional state or ethnicity. There are also concerns about security and accuracy.</p><p>On Web 2.0: Of primary concern is the lack of transparency around the collection, retention and use of personal information. Also of concern is the reduced ability individuals have to control the use of their personal information once it is available on the internet.</p><p>On social networking: Privacy groups have voiced concern that privacy- friendly settings are often not the default settings on social networking sites. This means that an individual must actively set their security settings in a privacy-friendly manner.</p><p>On cloud computing: The rapid growth in these services has given rise to some security glitches that have allowed private information to be shared without authority. In some cases, users have found it difficult to regain or erase their data when they wish to terminate their use of one of these services.</p><p>--------------------</p><p>A \\\\\"DO not call\\\\\" register that would prohibit telemarketers making unsolicited sales calls and a law that would oblige government agencies to tell people if their personal information had been lost or stolen are among a raft of ideas to tighten privacy law canvassed by the Law Commission.</p><p>In a 500-page report, the commission also floats the possibility of controls on \\\\\"cloud computing\\\\\" and questions whether tougher regulations may be required to prevent internet providers snooping on customers\\' emails and web surfing habits.</p><p>Interception provisions in the Crimes Act and Telecommunications Information Privacy Code are designed to stop internet providers from spying on customers, but the commission questions \\\\\"whether more is needed\\\\\" given deep packet inspection - a technology that can help internet providers better manage their networks - had the potential to be misused.</p><p>The commission has previously maintained that unwanted direct marketing was more of an irritant than an invasion of privacy, but says some see it as an intrusion, or \\\\\"invasion of spatial privacy\\\\\".</p><p>Direct marketing could also be regarded as a privacy issue if it involved the use of personal details for an unwanted purpose.</p><p>The Marketing Association has a code of practice that stipulates members should not make telesales calls to the 44,000 people on a register who have objected, but the Law Commission says a weakness is the code applies only to members of the association and it \\\\\"lacks enforcement mechanisms\\\\\".</p><p>Other countries, including Australia, Canada and the United States, have legally-binding \\\\\"do not call registers\\\\\". The commission said that in its view \\\\\"an efficient user-friendly remedy for people affected by direct marketing approaches of various kinds\\\\\" was required.</p><p>Keith Norris, public affairs director of the Marketing Association, says it would strongly oppose any moves to increase the legislative pressure on any form of marketing.</p><p>\\\\\"We really don\\'t have a problem in this country. We don\\'t have the kind of wholesale buying and selling of customer information that occurs in the United States and certain parts of Europe. We have a very well-disciplined industry and we have excellent codes of practice.\\\\\"</p><p>The commission says there have been serious data breaches in New Zealand, including:</p><p>* The Treasury losing a CD in the post that contained the personal and company tax details of numerous individuals.</p><p>* 2degrees website making it possible to see the personal details of previous visitors to the site.</p><p>* A fault in Massey University\\'s intranet potentially exposing sensitive information about students to anyone who accessed the site.</p><p>It was desirable if victims were informed and people might have a \\\\\"right to know\\\\\" about such breaches. But the commission says studies in the US suggest legislation requiring disclosure of data breaches had little effect on the incidence of identity fraud.</p><p>Most data breaches did not result in problems and there was a risk people might overreact.</p><p>The commission has \\\\\"no firm view\\\\\" but says some feel that forcing organisations to disclose data breaches might be \\\\\"out of proportion\\\\\", except in the most serious cases.</p><p>The potential of a raft of technologies from social networking sites to radio-frequency identification chips are \\\\\"both exciting and worrying\\\\\", the commission says. It is inviting public comment on its report by April 30.</p><p>--------------------</p><p>CAPTION:</p><p>Quiet please: Canada\\'s Privacy Commissioner Jennifer Stoddard. Canada is one of the countries which have legally binding \\\\\"do not call registers\\\\\".</p><p>Picture: REUTERS</p></bodyText></nitf:body.content></nitf:body><metadata><dc:metadata xmlns:dc=\\\\\"http://purl.org/dc/elements/1.1/\\\\\"><dc:identifier identifierScheme=\\\\\"DOC-ID\\\\\">DOPST-TDP100315C005124465966-FE</dc:identifier><dc:source sourceScheme=\\\\\"royaltyReportingKey\\\\\">DOPST2010</dc:source><dc:identifier identifierScheme=\\\\\"PGUID\\\\\">urn:contentItem:7Y0Y-0JS0-Y9P0-D4TF-00000-00</dc:identifier><dc:source sourceScheme=\\\\\"productContentSetIdentifier\\\\\">256380</dc:source><dc:date dateType=\\\\\"last-updated\\\\\">2019-01-29</dc:date></dc:metadata><wordCount number=\\\\\"855\\\\\"/><publicationInfo><copyright>Copyright 2010 Fairfax New Zealand All Rights Reserved</copyright><publicationName>The Dominion Post (Wellington, New Zealand)</publicationName><publicationDate day=\\\\\"15\\\\\" month=\\\\\"03\\\\\" year=\\\\\"2010\\\\\"><dateText>March 15, 2010 Monday</dateText></publicationDate><classification classificationScheme=\\\\\"publicationtype\\\\\"><classificationItem><className>Newspaper</className></classificationItem></classification><classification classificationScheme=\\\\\"publicationtype\\\\\"><classificationItem><className>Newspapers</className></classificationItem></classification></publicationInfo><classification classificationScheme=\\\\\"language\\\\\"><classificationItem classificationScheme=\\\\\"lang.english\\\\\"><className>ENGLISH</className></classificationItem></classification><classificationGroup classificationScheme=\\\\\"indexing-terms\\\\\"><classification classificationScheme=\\\\\"legal\\\\\"><classificationItem score=\\\\\"57\\\\\"><className>Computer &amp; Internet Law</className><classCode>Z3VpZD11cm46dG9waWM6Qzk0QUJBRENDQzhBNDc2MDk5OTAyQzI3QkRFMkU0OUU7cGFyZW50Z3VpZD0</classCode><classificationItem score=\\\\\"57\\\\\"><className>Social Networking Sites</className><classCode>Z3VpZD11cm46dG9waWM6MkJEOEE3NERCMEE5NDAyRTgzQ0QzNTc3MkM3NzI0MUY7cGFyZW50Z3VpZD11cm46dG9waWM6N0U2OEYyMDlBMThBNDQxRjg4NkFGM0I4REVDODE1QTE</classCode></classificationItem></classificationItem></classification><classification classificationScheme=\\\\\"subject\\\\\"><classificationItem score=\\\\\"91\\\\\"><classCode>STX001384</classCode><className>PRIVACY RIGHTS</className></classificationItem><classificationItem score=\\\\\"91\\\\\"><classCode>ST0008WYT</classCode><className>RADIO FREQUENCY IDENTIFICATION</className></classificationItem><classificationItem score=\\\\\"90\\\\\"><classCode>STX000184</classCode><className>BIOMETRICS</className></classificationItem><classificationItem score=\\\\\"90\\\\\"><classCode>ST0009RD1</classCode><className>INTERNET SOCIAL NETWORKING</className></classificationItem><classificationItem score=\\\\\"89\\\\\"><classCode>ST0008YUP</classCode><className>DO NOT CALL LISTS</className></classificationItem><classificationItem score=\\\\\"89\\\\\"><classCode>STX000963</classCode><className>INTERNET PRIVACY</className></classificationItem><classificationItem score=\\\\\"89\\\\\"><classCode>ST00007237</classCode><className>INVASION OF PRIVACY</className></classificationItem><classificationItem score=\\\\\"89\\\\\"><classCode>ST000DJLY</classCode><className>SOCIAL NETWORKING</className></classificationItem><classificationItem score=\\\\\"89\\\\\"><classCode>STX001659</classCode><className>SURVEILLANCE TECHNOLOGY</className></classificationItem><classificationItem score=\\\\\"79\\\\\"><classCode>STX000445</classCode><className>DATA PROTECTION LAWS</className></classificationItem><classificationItem score=\\\\\"78\\\\\"><classCode>ST0009FJK</classCode><className>NEGATIVE PERSONAL NEWS</className></classificationItem><classificationItem score=\\\\\"78\\\\\"><classCode>ST0008XJY</classCode><className>SALES &amp; SELLING</className></classificationItem><classificationItem score=\\\\\"78\\\\\"><classCode>ST00096ST</classCode><className>TELEMARKETING REGULATION</className></classificationItem><classificationItem score=\\\\\"76\\\\\"><classCode>ST000DJQC</classCode><className>CONSUMERS</className></classificationItem><classificationItem score=\\\\\"74\\\\\"><classCode>STX001209</classCode><className>NEW ISSUES</className></classificationItem><classificationItem score=\\\\\"73\\\\\"><classCode>N813910MM</classCode><className>BUSINESS &amp; PROFESSIONAL ASSOCIATIONS</className></classificationItem><classificationItem score=\\\\\"73\\\\\"><classCode>N920000CC</classCode><className>GOVERNMENT &amp; PUBLIC ADMINISTRATION</className></classificationItem><classificationItem score=\\\\\"71\\\\\"><classCode>STX001444</classCode><className>RACE &amp; ETHNICITY</className></classificationItem><classificationItem score=\\\\\"69\\\\\"><classCode>ST000DMYZ</classCode><className>EMOTIONS</className></classificationItem></classification><classification classificationScheme=\\\\\"industry\\\\\"><classificationItem score=\\\\\"91\\\\\"><classCode>ST0008WYT</classCode><className>RADIO FREQUENCY IDENTIFICATION</className></classificationItem><classificationItem score=\\\\\"90\\\\\"><classCode>ST000D7DY</classCode><className>INFORMATION SECURITY &amp; PRIVACY</className></classificationItem><classificationItem score=\\\\\"90\\\\\"><classCode>ST0009RD1</classCode><className>INTERNET SOCIAL NETWORKING</className></classificationItem><classificationItem score=\\\\\"89\\\\\"><classCode>STX000498</classCode><className>DIRECT MARKETING</className></classificationItem><classificationItem score=\\\\\"89\\\\\"><classCode>ST0008YUP</classCode><className>DO NOT CALL LISTS</className></classificationItem><classificationItem score=\\\\\"89\\\\\"><classCode>STX000963</classCode><className>INTERNET PRIVACY</className></classificationItem><classificationItem score=\\\\\"89\\\\\"><classCode>N561422MM</classCode><className>TELEMARKETING</className></classificationItem><classificationItem score=\\\\\"88\\\\\"><classCode>ST000C42T</classCode><className>CLOUD COMPUTING</className></classificationItem><classificationItem score=\\\\\"88\\\\\"><classCode>STX000354</classCode><className>COMPUTER NETWORKS</className></classificationItem><classificationItem score=\\\\\"79\\\\\"><classCode>STX000445</classCode><className>DATA PROTECTION LAWS</className></classificationItem><classificationItem score=\\\\\"78\\\\\"><classCode>ST0008YT5</classCode><className>COMPUTER CHIPS</className></classificationItem><classificationItem score=\\\\\"78\\\\\"><classCode>STX000954</classCode><className>INTERNET &amp; WWW</className></classificationItem><classificationItem score=\\\\\"78\\\\\"><classCode>ST00096ST</classCode><className>TELEMARKETING REGULATION</className></classificationItem><classificationItem score=\\\\\"74\\\\\"><classCode>STX001209</classCode><className>NEW ISSUES</className></classificationItem><classificationItem score=\\\\\"74\\\\\"><classCode>ST0009UKO</classCode><className>WEB 2</className></classificationItem><classificationItem score=\\\\\"72\\\\\"><classCode>STX001693</classCode><className>TELECOMMUNICATIONS</className></classificationItem></classification><classification classificationScheme=\\\\\"city\\\\\"><classificationItem score=\\\\\"73\\\\\"><classCode>GX234</classCode><className>WELLINGTON, NEW ZEALAND</className></classificationItem></classification><classification classificationScheme=\\\\\"country\\\\\"><classificationItem score=\\\\\"93\\\\\"><classCode>GC351</classCode><className>NEW ZEALAND</className></classificationItem></classification></classificationGroup></metadata></articleDoc></content></entry>\",\"Citation\":\"\"\\r\\n      },\"Source\":{\\r\\n        \"Id\":\"\",\"Name\":\"The Dominion Post (Wellington, New Zealand)\",\"ContentType\":\"\",\"Jurisdiction\":null,\"Publisher\":null,\"AlphaCategory\":null\\r\\n      }\\r\\n    },{\\r\\n      \"ResultId\":\"urn:contentItem:7YCC-PYD0-Y9P0-D0PG-00000-00\",\"Jurisdiction\":\"International\",\"Location\":null,\"ContentType\":\"News\",\"Byline\":null,\"WordLength\":593,\"WebNewsUrl\":null,\"Geography\":null,\"NegativeNews\":null,\"Language\":null,\"Industry\":null,\"People\":null,\"Subject\":null,\"Section\":\"NEWS; Pg. 2\",\"Company\":null,\"PublicationType\":null,\"Publisher\":null,\"GroupDuplicates\":null,\"InternationalLocation\":null,\"LEI\":[\\r\\n        \\r\\n      ],\"CompanyName\":[\\r\\n        \\r\\n      ],\"LNGI\":[\\r\\n        \\r\\n      ],\"SearchType\":\"NaturalLanguageAnd\",\"Date\":\"2010-05-03T00:00:00Z\",\"Keyword\":null,\"Title\":\"Social site use rising as privacy fears grow\",\"DocumentContent@odata.mediaReadLink\":\"Documents(DocumentId=\\'%2fshared%2fdocument%2fnews%2furn%3acontentItem%3a7YCC-PYD0-Y9P0-D0PG-00000-00\\',DocumentIdType=\\'DocFullPath\\')/$value?ind=y\",\"DocumentContent@odata.mediaContentType\":\"application/atom+xml\",\"Overview\":\"The Dominion Post (Wellington, New Zealand), NEWS; Pg. 2, 593words\",\"Extracts\":[\\r\\n        {\\r\\n          \"Type\":\"Extract\",\"SummaryText\":\"<div>... <xhtml:span class=\\\\\"hit\\\\\" xmlns:xhtml=\\\\\"http://www.w3.org/1999/xhtml\\\\\">Privacy</xhtml:span> Commissioner Marie Shroff shows high levels of concern about <xhtml:span class=\\\\\"hit\\\\\" xmlns:xhtml=\\\\\"http://www.w3.org/1999/xhtml\\\\\">privacy</xhtml:span> and risks to personal information on the internet, especially that posted by children, as their social life is increasingly being lived online. Overall, 43 per cent of those surveyed used a social networking site, up from 32 per cent last June and just 14 per cent in August 2007. About four-fifths of those aged 18 to 30 use social networking sites. \\\\\"These results show that social life is increasingly being lived online,\\\\\" ...</div>\"\\r\\n        },{\\r\\n          \"Type\":\"Term\",\"SummaryText\":\"<xhtml:span id=\\\\\"h1\\\\\" class=\\\\\"hits-fragment\\\\\" xmlns:xhtml=\\\\\"http://www.w3.org/1999/xhtml\\\\\">... survey 86 per cent claimed they knew how to protect their <xhtml:span class=\\\\\"hit\\\\\">privacy</xhtml:span> settings, and 66 per cent said they had changed <xhtml:span class=\\\\\"hit\\\\\">privacy</xhtml:span> settings. Ms Shroff recommended internet safety resources available through Hectors World, Netsafe and the <xhtml:span class=\\\\\"hit\\\\\">Privacy</xhtml:span> Commissioner\\'s website....</xhtml:span>\"\\r\\n        },{\\r\\n          \"Type\":\"Term\",\"SummaryText\":\"<xhtml:span id=\\\\\"h2\\\\\" class=\\\\\"hits-fragment\\\\\" xmlns:xhtml=\\\\\"http://www.w3.org/1999/xhtml\\\\\">... Netsafe, says there are two main pieces of advice: Set your <xhtml:span class=\\\\\"hit\\\\\">privacy</xhtml:span> settings to control who sees what. Understand <xhtml:span class=\\\\\"hit\\\\\">privacy</xhtml:span> settings are not 100 per cent foolproof. \\\\\"Be aware that everything ...</xhtml:span>\"\\r\\n        },{\\r\\n          \"Type\":\"Term\",\"SummaryText\":\"<xhtml:span id=\\\\\"h3\\\\\" class=\\\\\"hits-fragment\\\\\" xmlns:xhtml=\\\\\"http://www.w3.org/1999/xhtml\\\\\">... as Facebook and Twitter is soaring amid growing public concern about <xhtml:span class=\\\\\"hit\\\\\">privacy</xhtml:span> on the web, a new poll shows....</xhtml:span>\"\\r\\n        },{\\r\\n          \"Type\":\"Term\",\"SummaryText\":\"<xhtml:span id=\\\\\"h4\\\\\" class=\\\\\"hits-fragment\\\\\" xmlns:xhtml=\\\\\"http://www.w3.org/1999/xhtml\\\\\">... is soaring amid growing public concern about <xhtml:span class=\\\\\"hit\\\\\">privacy</xhtml:span> on the web, a new poll shows. The UMR survey made public yesterday by <xhtml:span class=\\\\\"hit\\\\\">Privacy</xhtml:span> Commissioner Marie Shroff shows high levels of concern about <xhtml:span class=\\\\\"hit\\\\\">privacy</xhtml:span> and risks to personal information on the internet, especially that posted ...</xhtml:span>\"\\r\\n        },{\\r\\n          \"Type\":\"Term\",\"SummaryText\":\"<xhtml:span id=\\\\\"h5\\\\\" class=\\\\\"hits-fragment\\\\\" xmlns:xhtml=\\\\\"http://www.w3.org/1999/xhtml\\\\\">... Netsafe, says there are two main pieces of advice: Set your <xhtml:span class=\\\\\"hit\\\\\">privacy</xhtml:span> settings to control who sees what. Understand <xhtml:span class=\\\\\"hit\\\\\">privacy</xhtml:span> settings are not 100 per cent foolproof. \\\\\"Be aware that everything ...</xhtml:span>\"\\r\\n        },{\\r\\n          \"Type\":\"Term\",\"SummaryText\":\"<xhtml:span id=\\\\\"h6\\\\\" class=\\\\\"hits-fragment\\\\\" xmlns:xhtml=\\\\\"http://www.w3.org/1999/xhtml\\\\\">... as Facebook and Twitter is soaring amid growing public concern about <xhtml:span class=\\\\\"hit\\\\\">privacy</xhtml:span> on the web, a new poll shows. The UMR survey made public yesterday by  ...</xhtml:span>\"\\r\\n        }\\r\\n      ],\"IsCitationMatch\":false,\"Document\":{\\r\\n        \"DocumentId\":\"/shared/document/news/urn:contentItem:7YCC-PYD0-Y9P0-D0PG-00000-00\",\"DocumentIdType\":\"DocFullPath\",\"Content\":\"<entry xmlns=\\\\\"http://www.w3.org/2005/Atom\\\\\"><id>urn:contentItem:7YCC-PYD0-Y9P0-D0PG-00000-00</id><title>Social site use rising as privacy fears grow</title><published>2010-05-03T00:00:00Z</published><updated>2021-02-06T12:50:46Z</updated><author><name>LexisNexis</name></author><content type=\\\\\"application/xml\\\\\"><!--Transformation version 1.25--><articleDoc xmlns=\\\\\"\\\\\" xmlns:xsi=\\\\\"http://www.w3.org/2001/XMLSchema-instance\\\\\" xsi:noNamespaceSchemaLocation=\\\\\"http://www.lexisnexis.com/xmlschemas/content/public/articledoc/1/\\\\\" schemaVersion=\\\\\"1.8\\\\\" xml:lang=\\\\\"en\\\\\"><articleDocHead><itemInfo><sourceSectionInfo><positionSection>NEWS</positionSection><positionSequence>Pg. 2</positionSequence></sourceSectionInfo></itemInfo></articleDocHead><nitf:body xmlns:nitf=\\\\\"http://iptc.org/std/NITF/2006-10-18/\\\\\"><nitf:body.head><nitf:hedline><nitf:hl1>Social site use rising as privacy fears grow</nitf:hl1></nitf:hedline></nitf:body.head><nitf:body.content><bodyText><p nitf:lede=\\\\\"true\\\\\">VERNON SMALL</p><p nitf:lede=\\\\\"true\\\\\"/><p nitf:lede=\\\\\"true\\\\\">What Can Go Wrong? A Taranaki principal has been shocked to find how many of his year 7 and 8 children (10 to 12-year-olds) were on social networking sites. An older boy had allegedly singled out a girl online. He had pretended to be a girl from her school. </p><p>Lady Sawers, wife of the new MI6 boss in Britain, posted on her social networking site photographs of her and her husband, their contacts and their home, causing a major security worry. In a recent case near Christchurch, a predator befriended hundreds of girls with what seemed harmless conversations and after weeks, sometimes months he would move to more sexual conversations and ask for body measurements. He coaxed photographs, sometimes naked, and in return sent photographs of his genitalia. -------------------- How To Stay Safe Lee Chisholm, operations manager with Internet security advisers Netsafe, says there are two main pieces of advice: Set your privacy settings to control who sees what. Understand privacy settings are not 100 per cent foolproof. \\\\\"Be aware that everything you post has the potential to be seen by anyone. A friend could copy anything and pass it on.\\\\\" -------------------- NEW ZEALANDERS\\' use of social networking sites such as Facebook and Twitter is soaring amid growing public concern about privacy on the web, a new poll shows.</p><p>The UMR survey made public yesterday by Privacy Commissioner Marie Shroff shows high levels of concern about privacy and risks to personal information on the internet, especially that posted by children, as their social life is increasingly being lived online.</p><p>Overall, 43 per cent of those surveyed used a social networking site, up from 32 per cent last June and just 14 per cent in August 2007.</p><p>About four-fifths of those aged 18 to 30 use social networking sites.</p><p>\\\\\"These results show that social life is increasingly being lived online,\\\\\" Ms Shroff said.</p><p>Use is likely to be even higher among those under 18, though there is no accurate data on that.</p><p>Of the 750 people surveyed 83 per cent were concerned about the security of their personal information and 88 per cent were concerned about information shared by children on the internet.</p><p>Ms Shroff said it was surprising many thought their social networking was more private than it may be.</p><p>More than half believed they were mainly private spaces where people shared information with their friends, while 42 per cent believed they were mainly public and information could be seen by many.</p><p>\\\\\"If I had only one tip to give to people, it is to realise that when you\\'re putting information on social networking sites, you\\'re publishing that information to the whole world, and that it\\'s there for ever,\\\\\" she said.</p><p>\\\\\"Don\\'t ever assume you\\'re only having a chat with your friends.\\\\\"</p><p>Users should always be careful with information such as cellphone numbers, birth date, mother\\'s maiden name or other ways they could be identified.</p><p>In the survey 86 per cent claimed they knew how to protect their privacy settings, and 66 per cent said they had changed privacy settings.</p><p>Ms Shroff recommended internet safety resources available through Hectors World, Netsafe and the Privacy Commissioner\\'s website.</p><p>The UMR survey found that in the public sector, the health service, including doctors, hospitals and pharmacists, had the highest level of trust at 94 per cent (92 per cent in 2008), followed by police at 88 per cent (up 4 per cent) and Inland Revenue at 84 per cent (up 8 per cent).</p><p>But those surveyed were less confident about government agencies\\' use of their information.</p><p>Colin James OPINION B5</p></bodyText></nitf:body.content></nitf:body><metadata><dc:metadata xmlns:dc=\\\\\"http://purl.org/dc/elements/1.1/\\\\\"><dc:identifier identifierScheme=\\\\\"DOC-ID\\\\\">DOPST-TDP100503A002125979799-AU</dc:identifier><dc:source sourceScheme=\\\\\"royaltyReportingKey\\\\\">DOPST2010</dc:source><dc:identifier identifierScheme=\\\\\"PGUID\\\\\">urn:contentItem:7YCC-PYD0-Y9P0-D0PG-00000-00</dc:identifier><dc:source sourceScheme=\\\\\"productContentSetIdentifier\\\\\">256380</dc:source><dc:date dateType=\\\\\"last-updated\\\\\">2019-01-29</dc:date></dc:metadata><wordCount number=\\\\\"593\\\\\"/><publicationInfo><copyright>Copyright 2010 Fairfax New Zealand All Rights Reserved</copyright><publicationName>The Dominion Post (Wellington, New Zealand)</publicationName><publicationDate day=\\\\\"03\\\\\" month=\\\\\"05\\\\\" year=\\\\\"2010\\\\\"><dateText>May 3, 2010 Monday</dateText></publicationDate><classification classificationScheme=\\\\\"publicationtype\\\\\"><classificationItem><className>Newspaper</className></classificationItem></classification><classification classificationScheme=\\\\\"publicationtype\\\\\"><classificationItem><className>Newspapers</className></classificationItem></classification></publicationInfo><classification classificationScheme=\\\\\"language\\\\\"><classificationItem classificationScheme=\\\\\"lang.english\\\\\"><className>ENGLISH</className></classificationItem></classification><classificationGroup classificationScheme=\\\\\"indexing-terms\\\\\"><classification classificationScheme=\\\\\"company\\\\\"><classificationItem score=\\\\\"54\\\\\"><classCode>CC0009VRA</classCode><className>FACEBOOK INC</className></classificationItem></classification><classification classificationScheme=\\\\\"industry\\\\\"><classificationItem score=\\\\\"54\\\\\"><className>NAICS519130 INTERNET PUBLISHING &amp; BROADCASTING &amp; WEB SEARCH PORTALS</className></classificationItem></classification><classification classificationScheme=\\\\\"ticker\\\\\"><classificationItem score=\\\\\"54\\\\\"><className>FB (NASDAQ)</className></classificationItem></classification></classificationGroup><classificationGroup classificationScheme=\\\\\"indexing-terms\\\\\"><classification classificationScheme=\\\\\"legal\\\\\"><classificationItem score=\\\\\"94\\\\\"><className>Computer &amp; Internet Law</className><classCode>Z3VpZD11cm46dG9waWM6Qzk0QUJBRENDQzhBNDc2MDk5OTAyQzI3QkRFMkU0OUU7cGFyZW50Z3VpZD0</classCode><classificationItem score=\\\\\"94\\\\\"><className>Social Networking Sites</className><classCode>Z3VpZD11cm46dG9waWM6MkJEOEE3NERCMEE5NDAyRTgzQ0QzNTc3MkM3NzI0MUY7cGFyZW50Z3VpZD11cm46dG9waWM6N0U2OEYyMDlBMThBNDQxRjg4NkFGM0I4REVDODE1QTE</classCode></classificationItem><classificationItem score=\\\\\"79\\\\\"><className>General Overview</className><classCode>Z3VpZD11cm46dG9waWM6OENGQTc3MzU4Q0YxNDAxMEI3ODdFMDkwNkE3NDg1MzY7cGFyZW50Z3VpZD11cm46dG9waWM6QTJENDFFOTRERkUzNEM4RUFDNTJEQTY3QjQ1MDk5MzY</classCode></classificationItem></classificationItem></classification><classification classificationScheme=\\\\\"subject\\\\\"><classificationItem score=\\\\\"93\\\\\"><classCode>ST0009RD1</classCode><className>INTERNET SOCIAL NETWORKING</className></classificationItem><classificationItem score=\\\\\"90\\\\\"><classCode>STX000290</classCode><className>CHILDREN</className></classificationItem><classificationItem score=\\\\\"90\\\\\"><classCode>STX001347</classCode><className>POLLS &amp; SURVEYS</className></classificationItem><classificationItem score=\\\\\"90\\\\\"><classCode>ST000D0VJ</classCode><className>SOCIAL MEDIA</className></classificationItem><classificationItem score=\\\\\"90\\\\\"><classCode>ST000DJLY</classCode><className>SOCIAL NETWORKING</className></classificationItem><classificationItem score=\\\\\"89\\\\\"><classCode>STX000963</classCode><className>INTERNET PRIVACY</className></classificationItem><classificationItem score=\\\\\"78\\\\\"><classCode>STX001066</classCode><className>MANAGERS &amp; SUPERVISORS</className></classificationItem><classificationItem score=\\\\\"72\\\\\"><classCode>ST0009RQI</classCode><className>ONLINE MARKETING &amp; ADVERTISING</className></classificationItem></classification><classification classificationScheme=\\\\\"industry\\\\\"><classificationItem score=\\\\\"93\\\\\"><classCode>ST0009RD1</classCode><className>INTERNET SOCIAL NETWORKING</className></classificationItem><classificationItem score=\\\\\"90\\\\\"><classCode>STX000354</classCode><className>COMPUTER NETWORKS</className></classificationItem><classificationItem score=\\\\\"90\\\\\"><classCode>ST000D0VJ</classCode><className>SOCIAL MEDIA</className></classificationItem><classificationItem score=\\\\\"89\\\\\"><classCode>STX000580</classCode><className>ELECTRONIC PUBLISHING</className></classificationItem><classificationItem score=\\\\\"89\\\\\"><classCode>STX000954</classCode><className>INTERNET &amp; WWW</className></classificationItem><classificationItem score=\\\\\"89\\\\\"><classCode>STX000963</classCode><className>INTERNET PRIVACY</className></classificationItem><classificationItem score=\\\\\"78\\\\\"><classCode>ST000D7DY</classCode><className>INFORMATION SECURITY &amp; PRIVACY</className></classificationItem><classificationItem score=\\\\\"77\\\\\"><classCode>STX001536</classCode><className>SEARCH ENGINES</className></classificationItem><classificationItem score=\\\\\"77\\\\\"><classCode>STX000962</classCode><className>WEBSITES &amp; PORTALS</className></classificationItem><classificationItem score=\\\\\"72\\\\\"><classCode>ST0009RQI</classCode><className>ONLINE MARKETING &amp; ADVERTISING</className></classificationItem><classificationItem score=\\\\\"72\\\\\"><classCode>STX001251</classCode><className>ONLINE SECURITY &amp; PRIVACY</className></classificationItem><classificationItem score=\\\\\"72\\\\\"><classCode>N518112MM</classCode><className>WEB SEARCH PORTALS</className></classificationItem></classification><classification classificationScheme=\\\\\"city\\\\\"><classificationItem score=\\\\\"73\\\\\"><classCode>GX639</classCode><className>CHRISTCHURCH, NEW ZEALAND</className></classificationItem><classificationItem score=\\\\\"73\\\\\"><classCode>GX234</classCode><className>WELLINGTON, NEW ZEALAND</className></classificationItem></classification><classification classificationScheme=\\\\\"country\\\\\"><classificationItem score=\\\\\"92\\\\\"><classCode>GC351</classCode><className>NEW ZEALAND</className></classificationItem><classificationItem score=\\\\\"57\\\\\"><classCode>GC329</classCode><className>UNITED KINGDOM</className></classificationItem></classification></classificationGroup></metadata></articleDoc></content></entry>\",\"Citation\":\"\"\\r\\n      },\"Source\":{\\r\\n        \"Id\":\"\",\"Name\":\"The Dominion Post (Wellington, New Zealand)\",\"ContentType\":\"\",\"Jurisdiction\":null,\"Publisher\":null,\"AlphaCategory\":null\\r\\n      }\\r\\n    },{\\r\\n      \"ResultId\":\"urn:contentItem:7YN8-NGG1-2R6X-P0P8-00000-00\",\"Jurisdiction\":\"International\",\"Location\":null,\"ContentType\":\"News\",\"Byline\":null,\"WordLength\":502,\"WebNewsUrl\":null,\"Geography\":null,\"NegativeNews\":null,\"Language\":null,\"Industry\":null,\"People\":null,\"Subject\":null,\"Section\":\"NEWS; Pg. 6\",\"Company\":null,\"PublicationType\":null,\"Publisher\":null,\"GroupDuplicates\":null,\"InternationalLocation\":null,\"LEI\":[\\r\\n        \\r\\n      ],\"CompanyName\":[\\r\\n        \\r\\n      ],\"LNGI\":[\\r\\n        \\r\\n      ],\"SearchType\":\"NaturalLanguageAnd\",\"Date\":\"2010-06-09T00:00:00Z\",\"Keyword\":null,\"Title\":\"Google may be investigated over privacy\",\"DocumentContent@odata.mediaReadLink\":\"Documents(DocumentId=\\'%2fshared%2fdocument%2fnews%2furn%3acontentItem%3a7YN8-NGG1-2R6X-P0P8-00000-00\\',DocumentIdType=\\'DocFullPath\\')/$value?ind=y\",\"DocumentContent@odata.mediaContentType\":\"application/atom+xml\",\"Overview\":\"The Dominion Post (Wellington, New Zealand), NEWS; Pg. 6, 502words\",\"Extracts\":[\\r\\n        {\\r\\n          \"Type\":\"Extract\",\"SummaryText\":\"<div>... It was already working with <xhtml:span class=\\\\\"hit\\\\\" xmlns:xhtml=\\\\\"http://www.w3.org/1999/xhtml\\\\\">privacy</xhtml:span> commissioners in other countries, including Australia and Canada, to determine whether the internet search giant had breached the <xhtml:span class=\\\\\"hit\\\\\" xmlns:xhtml=\\\\\"http://www.w3.org/1999/xhtml\\\\\">Privacy</xhtml:span> Act. Chapman Tripp partner Matt Sumpter said it was illegal under the Crimes Act to intentionally intercept a private communication with an interception device, although certain organisations such as the police and the SIS were exempt. \\\\\"On the face of things there certainly is reason for the <xhtml:span class=\\\\\"hit\\\\\" xmlns:xhtml=\\\\\"http://www.w3.org/1999/xhtml\\\\\">privacy</xhtml:span> commissioner to be concerned,  ...</div>\"\\r\\n        },{\\r\\n          \"Type\":\"Term\",\"SummaryText\":\"<xhtml:span id=\\\\\"h1\\\\\" class=\\\\\"hits-fragment\\\\\" xmlns:xhtml=\\\\\"http://www.w3.org/1999/xhtml\\\\\">... investigated for breaching the Crimes Act. It was already working with <xhtml:span class=\\\\\"hit\\\\\">privacy</xhtml:span> commissioners in other countries, including Australia and Canada, to determine whether the internet search giant had breached the <xhtml:span class=\\\\\"hit\\\\\">Privacy</xhtml:span> Act. Chapman Tripp partner Matt Sumpter said it was illegal under ...</xhtml:span>\"\\r\\n        },{\\r\\n          \"Type\":\"Term\",\"SummaryText\":\"<xhtml:span id=\\\\\"h2\\\\\" class=\\\\\"hits-fragment\\\\\" xmlns:xhtml=\\\\\"http://www.w3.org/1999/xhtml\\\\\">... \\\\\"On the face of things there certainly is reason for the <xhtml:span class=\\\\\"hit\\\\\">privacy</xhtml:span> commissioner to be concerned, and every reason for the commissioner to ...</xhtml:span>\"\\r\\n        },{\\r\\n          \"Type\":\"Term\",\"SummaryText\":\"<xhtml:span id=\\\\\"h3\\\\\" class=\\\\\"hits-fragment\\\\\" xmlns:xhtml=\\\\\"http://www.w3.org/1999/xhtml\\\\\">... details and could link people\\'s internet behaviour to home addresses. Assistant <xhtml:span class=\\\\\"hit\\\\\">Privacy</xhtml:span> Commissioner Katrine Evans said her office would discuss with the police ...</xhtml:span>\"\\r\\n        },{\\r\\n          \"Type\":\"Term\",\"SummaryText\":\"<xhtml:span id=\\\\\"h4\\\\\" class=\\\\\"hits-fragment\\\\\" xmlns:xhtml=\\\\\"http://www.w3.org/1999/xhtml\\\\\">... If the office found Google had breached the <xhtml:span class=\\\\\"hit\\\\\">Privacy</xhtml:span> Act, it could request the company make various undertakings about how ...</xhtml:span>\"\\r\\n        },{\\r\\n          \"Type\":\"Term\",\"SummaryText\":\"<xhtml:span id=\\\\\"h5\\\\\" class=\\\\\"hits-fragment\\\\\" xmlns:xhtml=\\\\\"http://www.w3.org/1999/xhtml\\\\\">... NEWS Pg. 6 Google may be investigated over <xhtml:span class=\\\\\"hit\\\\\">privacy</xhtml:span> CLAIRE MCENTEE GOOGLE could face a criminal investigation for collecting personal ...</xhtml:span>\"\\r\\n        },{\\r\\n          \"Type\":\"Term\",\"SummaryText\":\"<xhtml:span id=\\\\\"h6\\\\\" class=\\\\\"hits-fragment\\\\\" xmlns:xhtml=\\\\\"http://www.w3.org/1999/xhtml\\\\\">... Sumpter: \\\\\"On the face of things there is reason for the <xhtml:span class=\\\\\"hit\\\\\">privacy</xhtml:span> commissioner to be concerned.\\\\\"...</xhtml:span>\"\\r\\n        }\\r\\n      ],\"IsCitationMatch\":false,\"Document\":{\\r\\n        \"DocumentId\":\"/shared/document/news/urn:contentItem:7YN8-NGG1-2R6X-P0P8-00000-00\",\"DocumentIdType\":\"DocFullPath\",\"Content\":\"<entry xmlns=\\\\\"http://www.w3.org/2005/Atom\\\\\"><id>urn:contentItem:7YN8-NGG1-2R6X-P0P8-00000-00</id><title>Google may be investigated over privacy</title><published>2010-06-09T00:00:00Z</published><updated>2021-02-06T12:50:46Z</updated><author><name>LexisNexis</name></author><content type=\\\\\"application/xml\\\\\"><!--Transformation version 1.25--><articleDoc xmlns=\\\\\"\\\\\" xmlns:xsi=\\\\\"http://www.w3.org/2001/XMLSchema-instance\\\\\" xsi:noNamespaceSchemaLocation=\\\\\"http://www.lexisnexis.com/xmlschemas/content/public/articledoc/1/\\\\\" schemaVersion=\\\\\"1.8\\\\\" xml:lang=\\\\\"en\\\\\"><articleDocHead><itemInfo><sourceSectionInfo><positionSection>NEWS</positionSection><positionSequence>Pg. 6</positionSequence></sourceSectionInfo></itemInfo></articleDocHead><nitf:body xmlns:nitf=\\\\\"http://iptc.org/std/NITF/2006-10-18/\\\\\"><nitf:body.head><nitf:hedline><nitf:hl1>Google may be investigated over privacy</nitf:hl1></nitf:hedline></nitf:body.head><nitf:body.content><bodyText><p nitf:lede=\\\\\"true\\\\\">CLAIRE MCENTEE</p><p nitf:lede=\\\\\"true\\\\\">GOOGLE could face a criminal investigation for collecting personal wireless internet data from New Zealanders while filming for its Street View project.</p><p nitf:lede=\\\\\"true\\\\\">The privacy scandal has sparked fears that Google intercepted personal banking details and could link people\\'s internet behaviour to home addresses.</p><p>Assistant Privacy Commissioner Katrine Evans said her office would discuss with the police today whether Google should be investigated for breaching the Crimes Act.</p><p>It was already working with privacy commissioners in other countries, including Australia and Canada, to determine whether the internet search giant had breached the Privacy Act.</p><p>Chapman Tripp partner Matt Sumpter said it was illegal under the Crimes Act to intentionally intercept a private communication with an interception device, although certain organisations such as the police and the SIS were exempt.</p><p>\\\\\"On the face of things there certainly is reason for the privacy commissioner to be concerned, and every reason for the commissioner to be discussing what is potentially a very serious issue with the police.\\\\\"</p><p>The usual penalty was up to two years\\' imprisonment, but courts could instead impose a fine and must take into account the financial capacity of the offender, he said.</p><p>\\\\\"You\\'re looking here at a very, very large organisation and the depth of its pockets would be a material factor.\\\\\"</p><p>The Australian Federal Police is investigating possible breaches of the Telecommunications Interceptions Act.</p><p>Federal Communications Minister Stephen Conroy said Google could have \\\\\"hoovered\\\\\" up data from banking transactions, but the company has denied this.</p><p>Ms Evans said it was not known what information Google had collected.</p><p>\\\\\"It\\'s all pretty speculative at the moment. We don\\'t know whether it\\'s the actual content of communications or [data saying] this computer spoke to this computer at this time.\\\\\"</p><p>Google had \\\\\"locked down\\\\\" the data while affected countries investigated the matter.</p><p>If the office found Google had breached the Privacy Act, it could request the company make various undertakings about how it behaved in future, and compensate any individuals who were harmed by the breach, she said.</p><p>If Google refused to observe the undertakings, the office could ask the Human Rights Review Tribunal to order it to do so.</p><p>Google has admitted collecting public WiFi data in more than 30 countries while it photographed streets and homes using cars equipped with 3-D cameras for its Street View mapping service.</p><p>Spokeswoman Annie Baxter said it was \\\\\"profoundly sorry\\\\\" for its mistake, and would work with authorities to answer any questions they had.</p><p>Ms Baxter said the kind of information collected would have been limited because its cars were on the move and a person would have had to be using their WiFi network when Google drove by. It had not collected encrypted data, which usually includes bank transaction data.</p><p>---------------</p><p>CAPTION:</p><p>Matt Sumpter: \\\\\"On the face of things there is reason for the privacy commissioner to be concerned.\\\\\"</p></bodyText></nitf:body.content></nitf:body><metadata><dc:metadata xmlns:dc=\\\\\"http://purl.org/dc/elements/1.1/\\\\\"><dc:identifier identifierScheme=\\\\\"DOC-ID\\\\\">DOPST-TDP100609A006127068597-BO</dc:identifier><dc:source sourceScheme=\\\\\"royaltyReportingKey\\\\\">DOPST2010</dc:source><dc:identifier identifierScheme=\\\\\"PGUID\\\\\">urn:contentItem:7YN8-NGG1-2R6X-P0P8-00000-00</dc:identifier><dc:source sourceScheme=\\\\\"productContentSetIdentifier\\\\\">256380</dc:source><dc:date dateType=\\\\\"last-updated\\\\\">2019-01-29</dc:date></dc:metadata><wordCount number=\\\\\"502\\\\\"/><publicationInfo><copyright>Copyright 2010 Fairfax New Zealand All Rights Reserved</copyright><publicationName>The Dominion Post (Wellington, New Zealand)</publicationName><publicationDate day=\\\\\"09\\\\\" month=\\\\\"06\\\\\" year=\\\\\"2010\\\\\"><dateText>June 9, 2010 Wednesday</dateText></publicationDate><classification classificationScheme=\\\\\"publicationtype\\\\\"><classificationItem><className>Newspaper</className></classificationItem></classification><classification classificationScheme=\\\\\"publicationtype\\\\\"><classificationItem><className>Newspapers</className></classificationItem></classification></publicationInfo><classification classificationScheme=\\\\\"language\\\\\"><classificationItem classificationScheme=\\\\\"lang.english\\\\\"><className>ENGLISH</className></classificationItem></classification><classificationGroup classificationScheme=\\\\\"indexing-terms\\\\\"><classification classificationScheme=\\\\\"company\\\\\"><classificationItem score=\\\\\"92\\\\\"><classCode>CC00055NZ</classCode><className>GOOGLE INC</className></classificationItem></classification><classification classificationScheme=\\\\\"industry\\\\\"><classificationItem score=\\\\\"92\\\\\"><className>NAICS519130 INTERNET PUBLISHING &amp; BROADCASTING &amp; WEB SEARCH PORTALS</className></classificationItem></classification></classificationGroup><classificationGroup classificationScheme=\\\\\"indexing-terms\\\\\"><classification classificationScheme=\\\\\"subject\\\\\"><classificationItem score=\\\\\"91\\\\\"><classCode>STX001932</classCode><className>CRIME, LAW ENFORCEMENT &amp; CORRECTIONS</className></classificationItem><classificationItem score=\\\\\"91\\\\\"><classCode>STX000969</classCode><className>INVESTIGATIONS</className></classificationItem><classificationItem score=\\\\\"90\\\\\"><classCode>ST000D4JV</classCode><className>CRIMINAL INVESTIGATIONS</className></classificationItem><classificationItem score=\\\\\"90\\\\\"><classCode>STX000445</classCode><className>DATA PROTECTION LAWS</className></classificationItem><classificationItem score=\\\\\"90\\\\\"><classCode>ST0009FJK</classCode><className>NEGATIVE PERSONAL NEWS</className></classificationItem><classificationItem score=\\\\\"89\\\\\"><classCode>ST00007237</classCode><className>INVASION OF PRIVACY</className></classificationItem><classificationItem score=\\\\\"89\\\\\"><classCode>STX001384</classCode><className>PRIVACY RIGHTS</className></classificationItem><classificationItem score=\\\\\"78\\\\\"><classCode>ST000DJX1</classCode><className>FEDERAL INVESTIGATIONS</className></classificationItem><classificationItem score=\\\\\"78\\\\\"><classCode>STX000873</classCode><className>HUMAN RIGHTS</className></classificationItem><classificationItem score=\\\\\"78\\\\\"><classCode>ST0008X5W</classCode><className>SPECIAL INVESTIGATIVE FORCES</className></classificationItem><classificationItem score=\\\\\"78\\\\\"><classCode>N926130QJ</classCode><className>TELECOMMUNICATIONS DEPARTMENTS</className></classificationItem><classificationItem score=\\\\\"69\\\\\"><classCode>ST000A7IS</classCode><className>ASSOCIATIONS &amp; ORGANIZATIONS</className></classificationItem><classificationItem score=\\\\\"67\\\\\"><classCode>STX000722</classCode><className>FINES &amp; PENALTIES</className></classificationItem></classification><classification classificationScheme=\\\\\"industry\\\\\"><classificationItem score=\\\\\"90\\\\\"><classCode>STX000445</classCode><className>DATA PROTECTION LAWS</className></classificationItem><classificationItem score=\\\\\"90\\\\\"><classCode>STX000954</classCode><className>INTERNET &amp; WWW</className></classificationItem><classificationItem score=\\\\\"90\\\\\"><classCode>N518112MM</classCode><className>WEB SEARCH PORTALS</className></classificationItem><classificationItem score=\\\\\"89\\\\\"><classCode>N520000CC</classCode><className>BANKING &amp; FINANCE</className></classificationItem><classificationItem score=\\\\\"89\\\\\"><classCode>STX000354</classCode><className>COMPUTER NETWORKS</className></classificationItem><classificationItem score=\\\\\"89\\\\\"><classCode>STX000962</classCode><className>WEBSITES &amp; PORTALS</className></classificationItem><classificationItem score=\\\\\"89\\\\\"><classCode>STX001845</classCode><className>WIRELESS INTERNET ACCESS</className></classificationItem><classificationItem score=\\\\\"89\\\\\"><classCode>ST0009RX6</classCode></classificationItem><classificationItem score=\\\\\"78\\\\\"><classCode>ST000D4VG</classCode><className>DATA SECURITY</className></classificationItem><classificationItem score=\\\\\"78\\\\\"><classCode>STX000580</classCode><className>ELECTRONIC PUBLISHING</className></classificationItem><classificationItem score=\\\\\"78\\\\\"><classCode>STX001693</classCode><className>TELECOMMUNICATIONS</className></classificationItem><classificationItem score=\\\\\"78\\\\\"><classCode>N926130QJ</classCode><className>TELECOMMUNICATIONS DEPARTMENTS</className></classificationItem><classificationItem score=\\\\\"78\\\\\"><classCode>STX001881</classCode><className>WIRELESS INDUSTRY</className></classificationItem><classificationItem score=\\\\\"78\\\\\"><classCode>ST000CFF0</classCode><className>WIRELESS NETWORKS</className></classificationItem><classificationItem score=\\\\\"77\\\\\"><classCode>STX001536</classCode><className>SEARCH ENGINES</className></classificationItem></classification><classification classificationScheme=\\\\\"city\\\\\"><classificationItem score=\\\\\"88\\\\\"><classCode>GX234</classCode><className>WELLINGTON, NEW ZEALAND</className></classificationItem></classification><classification classificationScheme=\\\\\"country\\\\\"><classificationItem score=\\\\\"94\\\\\"><classCode>GC351</classCode><className>NEW ZEALAND</className></classificationItem><classificationItem score=\\\\\"92\\\\\"><classCode>GC301</classCode><className>AUSTRALIA</className></classificationItem><classificationItem score=\\\\\"79\\\\\"><classCode>GC339</classCode><className>CANADA</className></classificationItem></classification></classificationGroup></metadata></articleDoc></content></entry>\",\"Citation\":\"\"\\r\\n      },\"Source\":{\\r\\n        \"Id\":\"\",\"Name\":\"The Dominion Post (Wellington, New Zealand)\",\"ContentType\":\"\",\"Jurisdiction\":null,\"Publisher\":null,\"AlphaCategory\":null\\r\\n      }\\r\\n    },{\\r\\n      \"ResultId\":\"urn:contentItem:51TJ-1X31-DYTR-J4S6-00000-00\",\"Jurisdiction\":\"U.S. Federal; California; International\",\"Location\":null,\"ContentType\":\"News\",\"Byline\":null,\"WordLength\":373,\"WebNewsUrl\":null,\"Geography\":null,\"NegativeNews\":null,\"Language\":null,\"Industry\":null,\"People\":null,\"Subject\":null,\"Section\":\"NEWS; Pg. 1\",\"Company\":null,\"PublicationType\":null,\"Publisher\":null,\"GroupDuplicates\":null,\"InternationalLocation\":null,\"LEI\":[\\r\\n        \\r\\n      ],\"CompanyName\":[\\r\\n        \\r\\n      ],\"LNGI\":[\\r\\n        \\r\\n      ],\"SearchType\":\"NaturalLanguageAnd\",\"Date\":\"2010-12-29T00:00:00Z\",\"Keyword\":null,\"Title\":\"Kiwi privacy boss keeps watching brief on US spy lawsuit against Apple\",\"DocumentContent@odata.mediaReadLink\":\"Documents(DocumentId=\\'%2fshared%2fdocument%2fnews%2furn%3acontentItem%3a51TJ-1X31-DYTR-J4S6-00000-00\\',DocumentIdType=\\'DocFullPath\\')/$value?ind=y\",\"DocumentContent@odata.mediaContentType\":\"application/atom+xml\",\"Overview\":\"The Dominion Post (Wellington, New Zealand), NEWS; Pg. 1, 373words\",\"Extracts\":[\\r\\n        {\\r\\n          \"Type\":\"Extract\",\"SummaryText\":\"<div>... <xhtml:span class=\\\\\"hit\\\\\" xmlns:xhtml=\\\\\"http://www.w3.org/1999/xhtml\\\\\">Privacy</xhtml:span> Commissioner Katrine Evans said that although there did not appear to be cause for alarm yet, the lawsuit would be watched \\\\\"with a lot of interest\\\\\". If the claims were true, and the allegations related to New Zealand\\'s estimated 200,000 iPhones and 50,000 iPads, her office would investigate. But people should always be aware of how much information they might be unwittingly providing when signing up for applications, she said. Always reading the small print could prevent people \\\\\"losing control\\\\\" ...</div>\"\\r\\n        },{\\r\\n          \"Type\":\"Term\",\"SummaryText\":\"<xhtml:span id=\\\\\"h1\\\\\" class=\\\\\"hits-fragment\\\\\" xmlns:xhtml=\\\\\"http://www.w3.org/1999/xhtml\\\\\">... the potential danger - whether that\\'s what\\'s happening here, goodness knows.\\\\\" <xhtml:span class=\\\\\"hit\\\\\">Privacy</xhtml:span> Commissioner Marie Shroff found this month that  Google  committed an unwarranted and \\\\\"seriously intrusive\\\\\" breach of <xhtml:span class=\\\\\"hit\\\\\">privacy</xhtml:span> law while it filmed homes and buildings for its Street View ...</xhtml:span>\"\\r\\n        },{\\r\\n          \"Type\":\"Term\",\"SummaryText\":\"<xhtml:span id=\\\\\"h2\\\\\" class=\\\\\"hits-fragment\\\\\" xmlns:xhtml=\\\\\"http://www.w3.org/1999/xhtml\\\\\">... views - a violation of United States federal computer fraud and <xhtml:span class=\\\\\"hit\\\\\">privacy</xhtml:span> laws. Apple says it does not let applications send data without ...</xhtml:span>\"\\r\\n        },{\\r\\n          \"Type\":\"Term\",\"SummaryText\":\"<xhtml:span id=\\\\\"h3\\\\\" class=\\\\\"hits-fragment\\\\\" xmlns:xhtml=\\\\\"http://www.w3.org/1999/xhtml\\\\\">... Kiwi <xhtml:span class=\\\\\"hit\\\\\">privacy</xhtml:span> boss keeps watching brief on US spy lawsuit against Apple MICHELLE ...</xhtml:span>\"\\r\\n        },{\\r\\n          \"Type\":\"Term\",\"SummaryText\":\"<xhtml:span id=\\\\\"h4\\\\\" class=\\\\\"hits-fragment\\\\\" xmlns:xhtml=\\\\\"http://www.w3.org/1999/xhtml\\\\\">... information to advertising companies is being watched closely by New Zealand\\'s <xhtml:span class=\\\\\"hit\\\\\">privacy</xhtml:span> commissioner....</xhtml:span>\"\\r\\n        },{\\r\\n          \"Type\":\"Term\",\"SummaryText\":\"<xhtml:span id=\\\\\"h5\\\\\" class=\\\\\"hits-fragment\\\\\" xmlns:xhtml=\\\\\"http://www.w3.org/1999/xhtml\\\\\">... could be reached for comment last night. In New Zealand, Assistant <xhtml:span class=\\\\\"hit\\\\\">Privacy</xhtml:span> Commissioner Katrine Evans said that although there did not appear to ...</xhtml:span>\"\\r\\n        }\\r\\n      ],\"IsCitationMatch\":false,\"Document\":{\\r\\n        \"DocumentId\":\"/shared/document/news/urn:contentItem:51TJ-1X31-DYTR-J4S6-00000-00\",\"DocumentIdType\":\"DocFullPath\",\"Content\":\"<entry xmlns=\\\\\"http://www.w3.org/2005/Atom\\\\\"><id>urn:contentItem:51TJ-1X31-DYTR-J4S6-00000-00</id><title>Kiwi privacy boss keeps watching brief on US spy lawsuit against Apple</title><published>2010-12-29T00:00:00Z</published><updated>2021-02-06T12:50:45Z</updated><author><name>LexisNexis</name></author><content type=\\\\\"application/xml\\\\\"><!--Transformation version 1.25--><articleDoc xmlns=\\\\\"\\\\\" xmlns:xsi=\\\\\"http://www.w3.org/2001/XMLSchema-instance\\\\\" xsi:noNamespaceSchemaLocation=\\\\\"http://www.lexisnexis.com/xmlschemas/content/public/articledoc/1/\\\\\" schemaVersion=\\\\\"1.8\\\\\" xml:lang=\\\\\"en\\\\\"><articleDocHead><itemInfo><sourceSectionInfo><positionSection>NEWS</positionSection><positionSequence>Pg. 1</positionSequence></sourceSectionInfo></itemInfo></articleDocHead><nitf:body xmlns:nitf=\\\\\"http://iptc.org/std/NITF/2006-10-18/\\\\\"><nitf:body.head><nitf:hedline><nitf:hl1>Kiwi privacy boss keeps watching brief on US spy lawsuit against Apple</nitf:hl1></nitf:hedline></nitf:body.head><nitf:body.content><bodyText><p nitf:lede=\\\\\"true\\\\\">MICHELLE DUFF</p><p nitf:lede=\\\\\"true\\\\\">ANTONIO BRADLEY</p><p nitf:lede=\\\\\"true\\\\\">A LAWSUIT that claims Apple\\'s iPads and iPhones are sending users\\' personal information to advertising companies is being watched closely by New Zealand\\'s privacy commissioner.</p><p>The computer giant is being sued in San Jose, California, over claims that applications for the company\\'s popular iPhone and iPad transmit the owners\\' personal details and internet habits to advertising networks without consent, Bloomberg news agency reports.</p><p>The complaint, filed on December 23, claims iPhones and iPads from the California company are encoded with identifying devices that allow the networks to track what applications users download, how frequently they are used and for how long. It says some applications are also selling additional information to the networks, including users\\' location, age, sex, income, ethnicity, sexual orientation and political views - a violation of United States federal computer fraud and privacy laws.</p><p>Apple says it does not let applications send data without seeking users\\' permission. No-one from the company could be reached for comment last night.</p><p>In New Zealand, Assistant Privacy Commissioner Katrine Evans said that although there did not appear to be cause for alarm yet, the lawsuit would be watched \\\\\"with a lot of interest\\\\\".</p><p>If the claims were true, and the allegations related to New Zealand\\'s estimated 200,000 iPhones and 50,000 iPads, her office would investigate.</p><p>But people should always be aware of how much information they might be unwittingly providing when signing up for applications, she said.</p><p>Always reading the small print could prevent people \\\\\"losing control\\\\\" of personal details. \\\\\"That\\'s the potential danger - whether that\\'s what\\'s happening here, goodness knows.\\\\\"</p><p>Privacy Commissioner Marie Shroff found this month that Google committed an unwarranted and \\\\\"seriously intrusive\\\\\" breach of privacy law while it filmed homes and buildings for its Street View service.</p><p>Google collected complete emails and real names, addresses and phone numbers overseas, and it was \\\\\"reasonably likely\\\\\" it had collected some personal information in New Zealand, she said.</p><p>---------------</p><p>CAPTION:</p><p>iSpy?: If allegations relate to iPads and iPhones in New Zealand, they could be investigated.</p></bodyText></nitf:body.content></nitf:body><metadata><dc:metadata xmlns:dc=\\\\\"http://purl.org/dc/elements/1.1/\\\\\"><dc:identifier identifierScheme=\\\\\"DOC-ID\\\\\">DOPST-TDP101229A001132902565-AE</dc:identifier><dc:source sourceScheme=\\\\\"royaltyReportingKey\\\\\">DOPST2010</dc:source><dc:identifier identifierScheme=\\\\\"PGUID\\\\\">urn:contentItem:51TJ-1X31-DYTR-J4S6-00000-00</dc:identifier><dc:source sourceScheme=\\\\\"productContentSetIdentifier\\\\\">256380</dc:source><dc:date dateType=\\\\\"last-updated\\\\\">2019-01-29</dc:date></dc:metadata><wordCount number=\\\\\"373\\\\\"/><publicationInfo><copyright>Copyright 2010 Fairfax New Zealand All Rights Reserved</copyright><publicationName>The Dominion Post (Wellington, New Zealand)</publicationName><publicationDate day=\\\\\"29\\\\\" month=\\\\\"12\\\\\" year=\\\\\"2010\\\\\"><dateText>December 29, 2010 Wednesday</dateText></publicationDate><classification classificationScheme=\\\\\"publicationtype\\\\\"><classificationItem><className>Newspaper</className></classificationItem></classification><classification classificationScheme=\\\\\"publicationtype\\\\\"><classificationItem><className>Newspapers</className></classificationItem></classification></publicationInfo><classification classificationScheme=\\\\\"language\\\\\"><classificationItem classificationScheme=\\\\\"lang.english\\\\\"><className>ENGLISH</className></classificationItem></classification><classificationGroup classificationScheme=\\\\\"indexing-terms\\\\\"><classification classificationScheme=\\\\\"company\\\\\"><classificationItem score=\\\\\"96\\\\\"><classCode>CC000258H</classCode><className>APPLE INC</className></classificationItem><classificationItem score=\\\\\"58\\\\\"><classCode>CC00055NZ</classCode><className>GOOGLE INC</className></classificationItem></classification><classification classificationScheme=\\\\\"industry\\\\\"><classificationItem score=\\\\\"96\\\\\"><className>NAICS423430 COMPUTER &amp; COMPUTER PERIPHERAL EQUIPMENT &amp; SOFTWARE MERCHANT WHOLESALERS</className></classificationItem><classificationItem score=\\\\\"96\\\\\"><className>NAICS334413 SEMICONDUCTOR &amp; RELATED DEVICE MANUFACTURING</className></classificationItem><classificationItem score=\\\\\"96\\\\\"><className>NAICS334112 COMPUTER STORAGE DEVICE MANUFACTURING</className></classificationItem><classificationItem score=\\\\\"96\\\\\"><className>NAICS334111 ELECTRONIC COMPUTER MANUFACTURING</className></classificationItem><classificationItem score=\\\\\"96\\\\\"><className>SIC5045 COMPUTERS &amp; COMPUTER PERIPHERAL EQUIPMENT &amp; SOFTWARE</className></classificationItem><classificationItem score=\\\\\"96\\\\\"><className>SIC3674 SEMICONDUCTORS &amp; RELATED DEVICES</className></classificationItem><classificationItem score=\\\\\"96\\\\\"><className>SIC3577 COMPUTER PERIPHERAL EQUIPMENT, NEC</className></classificationItem><classificationItem score=\\\\\"96\\\\\"><className>SIC3572 COMPUTER STORAGE DEVICES</className></classificationItem><classificationItem score=\\\\\"96\\\\\"><className>SIC3571 ELECTRONIC COMPUTERS</className></classificationItem><classificationItem score=\\\\\"58\\\\\"><className>NAICS519130 INTERNET PUBLISHING &amp; BROADCASTING &amp; WEB SEARCH PORTALS</className></classificationItem></classification><classification classificationScheme=\\\\\"ticker\\\\\"><classificationItem score=\\\\\"96\\\\\"><className>AAPL (NASDAQ)</className></classificationItem></classification></classificationGroup><classificationGroup classificationScheme=\\\\\"indexing-terms\\\\\"><classification classificationScheme=\\\\\"subject\\\\\"><classificationItem score=\\\\\"95\\\\\"><classCode>STX001648</classCode><className>SUITS &amp; CLAIMS</className></classificationItem><classificationItem score=\\\\\"90\\\\\"><classCode>STX000445</classCode><className>DATA PROTECTION LAWS</className></classificationItem><classificationItem score=\\\\\"90\\\\\"><classCode>STX001040</classCode><className>LITIGATION</className></classificationItem><classificationItem score=\\\\\"90\\\\\"><classCode>ST0008X90</classCode><className>MANUFACTURING OUTPUT</className></classificationItem><classificationItem score=\\\\\"90\\\\\"><classCode>ST0009FJK</classCode><className>NEGATIVE PERSONAL NEWS</className></classificationItem><classificationItem score=\\\\\"89\\\\\"><classCode>STX000969</classCode><className>INVESTIGATIONS</className></classificationItem><classificationItem score=\\\\\"89\\\\\"><classCode>STX001384</classCode><className>PRIVACY RIGHTS</className></classificationItem><classificationItem score=\\\\\"78\\\\\"><classCode>ST0008ZGX</classCode><className>CYBERCRIME</className></classificationItem><classificationItem score=\\\\\"78\\\\\"><classCode>ST00007237</classCode><className>INVASION OF PRIVACY</className></classificationItem><classificationItem score=\\\\\"77\\\\\"><classCode>STX000350</classCode><className>COMPUTER CRIME</className></classificationItem><classificationItem score=\\\\\"75\\\\\"><classCode>ST00098X6</classCode><className>SEX &amp; GENDER ISSUES</className></classificationItem><classificationItem score=\\\\\"73\\\\\"><classCode>STX000777</classCode><className>GAYS &amp; LESBIANS</className></classificationItem><classificationItem score=\\\\\"70\\\\\"><classCode>STX001444</classCode><className>RACE &amp; ETHNICITY</className></classificationItem><classificationItem score=\\\\\"68\\\\\"><classCode>ST000DB0R</classCode><className>WIRE FRAUD</className></classificationItem></classification><classification classificationScheme=\\\\\"industry\\\\\"><classificationItem score=\\\\\"92\\\\\"><classCode>ST000A1SM</classCode><className>COMPUTER PERIPHERALS</className></classificationItem><classificationItem score=\\\\\"91\\\\\"><classCode>N334111MM</classCode><className>COMPUTER MAKERS</className></classificationItem><classificationItem score=\\\\\"91\\\\\"><classCode>ST000CF4G</classCode><className>TABLET COMPUTERS</className></classificationItem><classificationItem score=\\\\\"90\\\\\"><classCode>ST0009MY8</classCode><className>COMPUTER EQUIPMENT</className></classificationItem><classificationItem score=\\\\\"90\\\\\"><classCode>STX000354</classCode><className>COMPUTER NETWORKS</className></classificationItem><classificationItem score=\\\\\"90\\\\\"><classCode>ST000A39R</classCode><className>COMPUTER SOFTWARE</className></classificationItem><classificationItem score=\\\\\"90\\\\\"><classCode>STX000445</classCode><className>DATA PROTECTION LAWS</className></classificationItem><classificationItem score=\\\\\"90\\\\\"><classCode>STX000446</classCode><className>DATA STORAGE DEVICES</className></classificationItem><classificationItem score=\\\\\"90\\\\\"><classCode>ST0008X90</classCode><className>MANUFACTURING OUTPUT</className></classificationItem><classificationItem score=\\\\\"90\\\\\"><classCode>N541810MM</classCode><className>MARKETING &amp; ADVERTISING AGENCIES</className></classificationItem><classificationItem score=\\\\\"90\\\\\"><classCode>ST000A0Z7</classCode><className>MOBILE &amp; CELLULAR TELEPHONES</className></classificationItem><classificationItem score=\\\\\"90\\\\\"><classCode>STX001549</classCode><className>SEMICONDUCTORS</className></classificationItem><classificationItem score=\\\\\"90\\\\\"><classCode>ST000CYWJ</classCode><className>SMARTPHONES</className></classificationItem><classificationItem score=\\\\\"90\\\\\"><classCode>STX001702</classCode><className>TELEPHONIC EQUIPMENT</className></classificationItem><classificationItem score=\\\\\"90\\\\\"><classCode>N518112MM</classCode><className>WEB SEARCH PORTALS</className></classificationItem><classificationItem score=\\\\\"90\\\\\"><classCode>STX000962</classCode><className>WEBSITES &amp; PORTALS</className></classificationItem><classificationItem score=\\\\\"90\\\\\"><classCode>STX001836</classCode><className>WHOLESALERS</className></classificationItem><classificationItem score=\\\\\"89\\\\\"><classCode>STX000580</classCode><className>ELECTRONIC PUBLISHING</className></classificationItem><classificationItem score=\\\\\"78\\\\\"><classCode>ST0008ZGX</classCode><className>CYBERCRIME</className></classificationItem><classificationItem score=\\\\\"78\\\\\"><classCode>STX000025</classCode><className>MARKETING &amp; ADVERTISING</className></classificationItem><classificationItem score=\\\\\"78\\\\\"><classCode>STX001912</classCode><className>RETAIL &amp; WHOLESALE TRADE</className></classificationItem><classificationItem score=\\\\\"78\\\\\"><classCode>ST0009RDZ</classCode></classificationItem><classificationItem score=\\\\\"77\\\\\"><classCode>STX000350</classCode><className>COMPUTER CRIME</className></classificationItem><classificationItem score=\\\\\"69\\\\\"><classCode>STX001536</classCode><className>SEARCH ENGINES</className></classificationItem><classificationItem score=\\\\\"68\\\\\"><classCode>ST000DB0R</classCode><className>WIRE FRAUD</className></classificationItem></classification><classification classificationScheme=\\\\\"city\\\\\"><classificationItem score=\\\\\"73\\\\\"><classCode>GX234</classCode><className>WELLINGTON, NEW ZEALAND</className></classificationItem><classificationItem score=\\\\\"58\\\\\"><classCode>GX514</classCode><className>SAN JOSE, CA, USA</className></classificationItem></classification><classification classificationScheme=\\\\\"state\\\\\"><classificationItem score=\\\\\"91\\\\\"><classCode>GS120</classCode><className>CALIFORNIA, USA</className></classificationItem></classification><classification classificationScheme=\\\\\"country\\\\\"><classificationItem score=\\\\\"94\\\\\"><classCode>GC351</classCode><className>NEW ZEALAND</className></classificationItem><classificationItem score=\\\\\"79\\\\\"><classCode>GC343</classCode><className>UNITED STATES</className></classificationItem></classification></classificationGroup></metadata></articleDoc></content></entry>\",\"Citation\":\"\"\\r\\n      },\"Source\":{\\r\\n        \"Id\":\"\",\"Name\":\"The Dominion Post (Wellington, New Zealand)\",\"ContentType\":\"\",\"Jurisdiction\":null,\"Publisher\":null,\"AlphaCategory\":null\\r\\n      }\\r\\n    },{\\r\\n      \"ResultId\":\"urn:contentItem:803F-0980-Y9P0-D4S0-00000-00\",\"Jurisdiction\":\"International\",\"Location\":null,\"ContentType\":\"News\",\"Byline\":null,\"WordLength\":576,\"WebNewsUrl\":null,\"Geography\":null,\"NegativeNews\":null,\"Language\":null,\"Industry\":null,\"People\":null,\"Subject\":null,\"Section\":\"NEWS; Pg. 2\",\"Company\":null,\"PublicationType\":null,\"Publisher\":null,\"GroupDuplicates\":null,\"InternationalLocation\":null,\"LEI\":[\\r\\n        \\r\\n      ],\"CompanyName\":[\\r\\n        \\r\\n      ],\"LNGI\":[\\r\\n        \\r\\n      ],\"SearchType\":\"NaturalLanguageAnd\",\"Date\":\"2010-08-05T00:00:00Z\",\"Keyword\":null,\"Title\":\"Privacy fears over unpaid fines law\",\"DocumentContent@odata.mediaReadLink\":\"Documents(DocumentId=\\'%2fshared%2fdocument%2fnews%2furn%3acontentItem%3a803F-0980-Y9P0-D4S0-00000-00\\',DocumentIdType=\\'DocFullPath\\')/$value?ind=y\",\"DocumentContent@odata.mediaContentType\":\"application/atom+xml\",\"Overview\":\"The Dominion Post (Wellington, New Zealand), NEWS; Pg. 2, 576words\",\"Extracts\":[\\r\\n        {\\r\\n          \"Type\":\"Extract\",\"SummaryText\":\"<div>... <xhtml:span class=\\\\\"hit\\\\\" xmlns:xhtml=\\\\\"http://www.w3.org/1999/xhtml\\\\\">Privacy</xhtml:span> Commissioner Marie Shroff told MPs on the law and order select committee yesterday that the merits of collecting outstanding fines did not outweigh \\\\\"serious <xhtml:span class=\\\\\"hit\\\\\" xmlns:xhtml=\\\\\"http://www.w3.org/1999/xhtml\\\\\">privacy</xhtml:span> implications\\\\\". The committee should consider removing the clause from the bill. Innocent people would be wrongly identified as having outstanding fines, she said. This could see them rejected for housing, jobs, insurance and credit. She said individuals might be unaware of the reasons for rejections - and some of the consequences, ...</div>\"\\r\\n        },{\\r\\n          \"Type\":\"Term\",\"SummaryText\":\"<xhtml:span id=\\\\\"h1\\\\\" class=\\\\\"hits-fragment\\\\\" xmlns:xhtml=\\\\\"http://www.w3.org/1999/xhtml\\\\\">... personal information private were being eroded as information became more widespread. <xhtml:span class=\\\\\"hit\\\\\">Privacy</xhtml:span> Commissioner Marie Shroff told MPs on the law and order select ...</xhtml:span>\"\\r\\n        },{\\r\\n          \"Type\":\"Term\",\"SummaryText\":\"<xhtml:span id=\\\\\"h2\\\\\" class=\\\\\"hits-fragment\\\\\" xmlns:xhtml=\\\\\"http://www.w3.org/1999/xhtml\\\\\">... that the merits of collecting outstanding fines did not outweigh \\\\\"serious <xhtml:span class=\\\\\"hit\\\\\">privacy</xhtml:span> implications\\\\\". The committee should consider removing the clause from the bill. ...</xhtml:span>\"\\r\\n        },{\\r\\n          \"Type\":\"Term\",\"SummaryText\":\"<xhtml:span id=\\\\\"h3\\\\\" class=\\\\\"hits-fragment\\\\\" xmlns:xhtml=\\\\\"http://www.w3.org/1999/xhtml\\\\\">... evidence\\\\\" the proposals would \\\\\"yield significant financial returns to justify these <xhtml:span class=\\\\\"hit\\\\\">privacy</xhtml:span> impacts\\\\\", she said in a written submission. Yesterday she warned MPs ...</xhtml:span>\"\\r\\n        },{\\r\\n          \"Type\":\"Term\",\"SummaryText\":\"<xhtml:span id=\\\\\"h4\\\\\" class=\\\\\"hits-fragment\\\\\" xmlns:xhtml=\\\\\"http://www.w3.org/1999/xhtml\\\\\">... could be given to credit reporting agencies if proposed changes to <xhtml:span class=\\\\\"hit\\\\\">privacy</xhtml:span> of tax information go ahead. Leading human rights lawyer Michael Bott ...</xhtml:span>\"\\r\\n        },{\\r\\n          \"Type\":\"Term\",\"SummaryText\":\"<xhtml:span id=\\\\\"h5\\\\\" class=\\\\\"hits-fragment\\\\\" xmlns:xhtml=\\\\\"http://www.w3.org/1999/xhtml\\\\\">... Pg. 2 <xhtml:span class=\\\\\"hit\\\\\">Privacy</xhtml:span> fears over unpaid fines law ANDREA VANCE THE <xhtml:span class=\\\\\"hit\\\\\">privacy</xhtml:span> commissioner has described plans to give details of unpaid fines to ...</xhtml:span>\"\\r\\n        }\\r\\n      ],\"IsCitationMatch\":false,\"Document\":{\\r\\n        \"DocumentId\":\"/shared/document/news/urn:contentItem:803F-0980-Y9P0-D4S0-00000-00\",\"DocumentIdType\":\"DocFullPath\",\"Content\":\"<entry xmlns=\\\\\"http://www.w3.org/2005/Atom\\\\\"><id>urn:contentItem:803F-0980-Y9P0-D4S0-00000-00</id><title>Privacy fears over unpaid fines law</title><published>2010-08-05T00:00:00Z</published><updated>2021-02-06T12:50:45Z</updated><author><name>LexisNexis</name></author><content type=\\\\\"application/xml\\\\\"><!--Transformation version 1.25--><articleDoc xmlns=\\\\\"\\\\\" xmlns:xsi=\\\\\"http://www.w3.org/2001/XMLSchema-instance\\\\\" xsi:noNamespaceSchemaLocation=\\\\\"http://www.lexisnexis.com/xmlschemas/content/public/articledoc/1/\\\\\" schemaVersion=\\\\\"1.8\\\\\" xml:lang=\\\\\"en\\\\\"><articleDocHead><itemInfo><sourceSectionInfo><positionSection>NEWS</positionSection><positionSequence>Pg. 2</positionSequence></sourceSectionInfo></itemInfo></articleDocHead><nitf:body xmlns:nitf=\\\\\"http://iptc.org/std/NITF/2006-10-18/\\\\\"><nitf:body.head><nitf:hedline><nitf:hl1>Privacy fears over unpaid fines law</nitf:hl1></nitf:hedline></nitf:body.head><nitf:body.content><bodyText><p nitf:lede=\\\\\"true\\\\\">ANDREA VANCE</p><p nitf:lede=\\\\\"true\\\\\">THE privacy commissioner has described plans to give details of unpaid fines to \\\\\"profit-driven\\\\\" credit rating agencies as disturbing.</p><p nitf:lede=\\\\\"true\\\\\">A proposed law authorises the Justice Ministry to release overdue penalty amounts to credit reporting agencies. Those agencies can also pass credit card application information to justice officials to help them enforce fines.</p><p>The provisions are detailed in the Courts and Criminal Matters Bill, which also allows driving licences to be suspended when people have not coughed up for overdue traffic fines.</p><p>It comes as the Inland Revenue Department revealed that personal information it held could be given to credit reporting agencies if proposed changes to privacy of tax information go ahead.</p><p>Leading human rights lawyer Michael Bott said individuals\\' rights to keep personal information private were being eroded as information became more widespread.</p><p>Privacy Commissioner Marie Shroff told MPs on the law and order select committee yesterday that the merits of collecting outstanding fines did not outweigh \\\\\"serious privacy implications\\\\\". The committee should consider removing the clause from the bill.</p><p>Innocent people would be wrongly identified as having outstanding fines, she said. This could see them rejected for housing, jobs, insurance and credit.</p><p>She said individuals might be unaware of the reasons for rejections - and some of the consequences, such as being refused a job, were irreversible.</p><p>There was \\\\\"little evidence\\\\\" the proposals would \\\\\"yield significant financial returns to justify these privacy impacts\\\\\", she said in a written submission.</p><p>Yesterday she warned MPs that the release of such sensitive information would reduce public trust in the Government. It would also alter the role of the credit reporting industry by adding a law enforcement function. \\\\\"It\\'s probably better to keep a bright line between law enforcement information . . . it\\'s very questionable if that information should be shared with the private sector, who have a commercial interest in it.\\\\\"</p><p>There were \\\\\"less invasive ways\\\\\" for the Justice Ministry to collect details, such as from the Social Development Ministry and IRD, she said.</p><p>The bill aims to strengthen collection measures for fines, reparation payments and civil debt when people have not continued to pay or have not made payment arrangements.</p><p>Currently, if property - such as a car - is bought with finance and then seized to pay overdue fines, the creditor takes priority in the proceeds of any sale. The law will allow creditors to check with the Justice Ministry for unpaid fines. If the finance is still granted when there are fines, the creditor will not take priority.</p><p>Last week Inland Revenue Commissioner Bob Russell told Parliament\\'s finance and expenditure select committee that changes proposed under the \\\\\"Making Tax Easier\\\\\" proposal could see information shared with credit reporting agencies.</p><p>The measure is designed to encourage people to pay their tax debt - they are thought more likely to comply if the debt will affect their credit rating.</p><p>The taxpayer concerned would be notified and offered the chance to pay up before the details were passed to an agency.</p><p>Mr Bott, chairman of the Council for Civil Liberties, said there were many instances of the wrong information being recorded by officials, and mistaken identity was a real risk.</p><p>Recording digital information, which could be held on computers for years, would leave an \\\\\"indelible stain\\\\\" on people.</p></bodyText></nitf:body.content></nitf:body><metadata><dc:metadata xmlns:dc=\\\\\"http://purl.org/dc/elements/1.1/\\\\\"><dc:identifier identifierScheme=\\\\\"DOC-ID\\\\\">DOPST-TDP100805A002128697224-AH</dc:identifier><dc:source sourceScheme=\\\\\"royaltyReportingKey\\\\\">DOPST2010</dc:source><dc:identifier identifierScheme=\\\\\"PGUID\\\\\">urn:contentItem:803F-0980-Y9P0-D4S0-00000-00</dc:identifier><dc:source sourceScheme=\\\\\"productContentSetIdentifier\\\\\">256380</dc:source><dc:date dateType=\\\\\"last-updated\\\\\">2019-01-29</dc:date></dc:metadata><wordCount number=\\\\\"576\\\\\"/><publicationInfo><copyright>Copyright 2010 Fairfax New Zealand All Rights Reserved</copyright><publicationName>The Dominion Post (Wellington, New Zealand)</publicationName><publicationDate day=\\\\\"05\\\\\" month=\\\\\"08\\\\\" year=\\\\\"2010\\\\\"><dateText>August 5, 2010 Thursday</dateText></publicationDate><classification classificationScheme=\\\\\"publicationtype\\\\\"><classificationItem><className>Newspaper</className></classificationItem></classification><classification classificationScheme=\\\\\"publicationtype\\\\\"><classificationItem><className>Newspapers</className></classificationItem></classification></publicationInfo><classification classificationScheme=\\\\\"language\\\\\"><classificationItem classificationScheme=\\\\\"lang.english\\\\\"><className>ENGLISH</className></classificationItem></classification><classificationGroup classificationScheme=\\\\\"indexing-terms\\\\\"><classification classificationScheme=\\\\\"subject\\\\\"><classificationItem score=\\\\\"90\\\\\"><classCode>STX000426</classCode><className>CREDIT REGULATION</className></classificationItem><classificationItem score=\\\\\"90\\\\\"><classCode>STX000445</classCode><className>DATA PROTECTION LAWS</className></classificationItem><classificationItem score=\\\\\"90\\\\\"><classCode>ST00097CJ</classCode><className>JUSTICE DEPARTMENTS</className></classificationItem><classificationItem score=\\\\\"90\\\\\"><classCode>STX001020</classCode><className>LEGISLATION</className></classificationItem><classificationItem score=\\\\\"89\\\\\"><classCode>STX001932</classCode><className>CRIME, LAW ENFORCEMENT &amp; CORRECTIONS</className></classificationItem><classificationItem score=\\\\\"89\\\\\"><classCode>STX000722</classCode><className>FINES &amp; PENALTIES</className></classificationItem><classificationItem score=\\\\\"89\\\\\"><classCode>N922120CC</classCode><className>LAW ENFORCEMENT</className></classificationItem><classificationItem score=\\\\\"89\\\\\"><classCode>STX001688</classCode><className>TAXES &amp; TAXATION</className></classificationItem><classificationItem score=\\\\\"78\\\\\"><classCode>ST0009J49</classCode><className>HUMAN RIGHTS &amp; CIVIL LIBERTIES LAW</className></classificationItem><classificationItem score=\\\\\"78\\\\\"><classCode>N921120CC</classCode><className>LEGISLATIVE BODIES</className></classificationItem><classificationItem score=\\\\\"78\\\\\"><classCode>STX001965</classCode><className>SOCIETY, SOCIAL ASSISTANCE &amp; LIFESTYLE</className></classificationItem><classificationItem score=\\\\\"78\\\\\"><classCode>STX002188</classCode><className>TRANSPORTATION LAW</className></classificationItem><classificationItem score=\\\\\"74\\\\\"><classCode>N541110GM</classCode><className>LAWYERS</className></classificationItem><classificationItem score=\\\\\"73\\\\\"><classCode>STX000873</classCode><className>HUMAN RIGHTS</className></classificationItem><classificationItem score=\\\\\"72\\\\\"><classCode>STX001030</classCode><className>LICENSES &amp; PERMITS</className></classificationItem><classificationItem score=\\\\\"71\\\\\"><classCode>ST000A4DQ</classCode><className>DRIVERS LICENSE SUSPENSION &amp; REVOCATION</className></classificationItem><classificationItem score=\\\\\"56\\\\\"><classCode>ST000DA1C</classCode><className>DRIVERS LICENSES</className></classificationItem></classification><classification classificationScheme=\\\\\"industry\\\\\"><classificationItem score=\\\\\"90\\\\\"><classCode>N561450MM</classCode><className>CREDIT BUREAUS</className></classificationItem><classificationItem score=\\\\\"90\\\\\"><classCode>STX000426</classCode><className>CREDIT REGULATION</className></classificationItem><classificationItem score=\\\\\"90\\\\\"><classCode>STX000445</classCode><className>DATA PROTECTION LAWS</className></classificationItem><classificationItem score=\\\\\"89\\\\\"><classCode>ST00629349</classCode><className>CREDIT RATINGS</className></classificationItem><classificationItem score=\\\\\"78\\\\\"><classCode>ST000D7DY</classCode><className>INFORMATION SECURITY &amp; PRIVACY</className></classificationItem><classificationItem score=\\\\\"78\\\\\"><classCode>STX002188</classCode><className>TRANSPORTATION LAW</className></classificationItem><classificationItem score=\\\\\"74\\\\\"><classCode>N541110GM</classCode><className>LAWYERS</className></classificationItem><classificationItem score=\\\\\"73\\\\\"><classCode>STX000424</classCode><className>CREDIT CARDS</className></classificationItem><classificationItem score=\\\\\"71\\\\\"><classCode>ST000A4DQ</classCode><className>DRIVERS LICENSE SUSPENSION &amp; REVOCATION</className></classificationItem><classificationItem score=\\\\\"56\\\\\"><classCode>ST000DA1C</classCode><className>DRIVERS LICENSES</className></classificationItem></classification><classification classificationScheme=\\\\\"city\\\\\"><classificationItem score=\\\\\"90\\\\\"><classCode>GX234</classCode><className>WELLINGTON, NEW ZEALAND</className></classificationItem></classification><classification classificationScheme=\\\\\"country\\\\\"><classificationItem score=\\\\\"93\\\\\"><classCode>GC351</classCode><className>NEW ZEALAND</className></classificationItem></classification></classificationGroup></metadata></articleDoc></content></entry>\",\"Citation\":\"\"\\r\\n      },\"Source\":{\\r\\n        \"Id\":\"\",\"Name\":\"The Dominion Post (Wellington, New Zealand)\",\"ContentType\":\"\",\"Jurisdiction\":null,\"Publisher\":null,\"AlphaCategory\":null\\r\\n      }\\r\\n    },{\\r\\n      \"ResultId\":\"urn:contentItem:7XWH-P651-2R6X-P51G-00000-00\",\"Jurisdiction\":\"International\",\"Location\":null,\"ContentType\":\"News\",\"Byline\":null,\"WordLength\":596,\"WebNewsUrl\":null,\"Geography\":null,\"NegativeNews\":null,\"Language\":null,\"Industry\":null,\"People\":null,\"Subject\":null,\"Section\":\"NEWS; Pg. 3\",\"Company\":null,\"PublicationType\":null,\"Publisher\":null,\"GroupDuplicates\":null,\"InternationalLocation\":null,\"LEI\":[\\r\\n        \\r\\n      ],\"CompanyName\":[\\r\\n        \\r\\n      ],\"LNGI\":[\\r\\n        \\r\\n      ],\"SearchType\":\"NaturalLanguageAnd\",\"Date\":\"2010-02-27T00:00:00Z\",\"Keyword\":null,\"Title\":\"Tighten privacy law boundaries says review\",\"DocumentContent@odata.mediaReadLink\":\"Documents(DocumentId=\\'%2fshared%2fdocument%2fnews%2furn%3acontentItem%3a7XWH-P651-2R6X-P51G-00000-00\\',DocumentIdType=\\'DocFullPath\\')/$value?ind=y\",\"DocumentContent@odata.mediaContentType\":\"application/atom+xml\",\"Overview\":\"The Dominion Post (Wellington, New Zealand), NEWS; Pg. 3, 596words\",\"Extracts\":[\\r\\n        {\\r\\n          \"Type\":\"Extract\",\"SummaryText\":\"<div>...  outlawed as it provides a public safety service, but should be better regulated by the <xhtml:span class=\\\\\"hit\\\\\" xmlns:xhtml=\\\\\"http://www.w3.org/1999/xhtml\\\\\">Privacy</xhtml:span> Act. Peeping toms would also be caught under proposed new laws on voyeurism. The commission says while intimate covert filming is already illegal, the current law is vague on spying on people in \\\\\"intimate situations\\\\\" - such as having sex, showering or going to the toilet. It proposes a new crime of deliberately observing without consent people in such situations, where they would reasonably expect <xhtml:span class=\\\\\"hit\\\\\" xmlns:xhtml=\\\\\"http://www.w3.org/1999/xhtml\\\\\">privacy</xhtml:span> ...</div>\"\\r\\n        },{\\r\\n          \"Type\":\"Term\",\"SummaryText\":\"<xhtml:span id=\\\\\"h1\\\\\" class=\\\\\"hits-fragment\\\\\" xmlns:xhtml=\\\\\"http://www.w3.org/1999/xhtml\\\\\">... without consent people in such situations, where they would reasonably expect <xhtml:span class=\\\\\"hit\\\\\">privacy</xhtml:span> - with or without a device. Existing media freedoms to record ...</xhtml:span>\"\\r\\n        },{\\r\\n          \"Type\":\"Term\",\"SummaryText\":\"<xhtml:span id=\\\\\"h2\\\\\" class=\\\\\"hits-fragment\\\\\" xmlns:xhtml=\\\\\"http://www.w3.org/1999/xhtml\\\\\">... The report is the latest in a series of reports on <xhtml:span class=\\\\\"hit\\\\\">privacy</xhtml:span> issues by the Law Commission. Justice Minister Simon Power is refusing ...</xhtml:span>\"\\r\\n        },{\\r\\n          \"Type\":\"Term\",\"SummaryText\":\"<xhtml:span id=\\\\\"h3\\\\\" class=\\\\\"hits-fragment\\\\\" xmlns:xhtml=\\\\\"http://www.w3.org/1999/xhtml\\\\\">... NEWS Pg. 3 Tighten <xhtml:span class=\\\\\"hit\\\\\">privacy</xhtml:span> law boundaries says review COLIN ESPINER Case Studies The Law Commission ...</xhtml:span>\"\\r\\n        },{\\r\\n          \"Type\":\"Term\",\"SummaryText\":\"<xhtml:span id=\\\\\"h4\\\\\" class=\\\\\"hits-fragment\\\\\" xmlns:xhtml=\\\\\"http://www.w3.org/1999/xhtml\\\\\">... the Government from the Law Commission. A review of the country\\'s <xhtml:span class=\\\\\"hit\\\\\">privacy</xhtml:span> laws says legislation should be enacted making it illegal to install ...</xhtml:span>\"\\r\\n        },{\\r\\n          \"Type\":\"Term\",\"SummaryText\":\"<xhtml:span id=\\\\\"h5\\\\\" class=\\\\\"hits-fragment\\\\\" xmlns:xhtml=\\\\\"http://www.w3.org/1999/xhtml\\\\\">... a public safety service, but should be better regulated by the <xhtml:span class=\\\\\"hit\\\\\">Privacy</xhtml:span> Act. Peeping toms would also be caught under proposed new laws ...</xhtml:span>\"\\r\\n        }\\r\\n      ],\"IsCitationMatch\":false,\"Document\":{\\r\\n        \"DocumentId\":\"/shared/document/news/urn:contentItem:7XWH-P651-2R6X-P51G-00000-00\",\"DocumentIdType\":\"DocFullPath\",\"Content\":\"<entry xmlns=\\\\\"http://www.w3.org/2005/Atom\\\\\"><id>urn:contentItem:7XWH-P651-2R6X-P51G-00000-00</id><title>Tighten privacy law boundaries says review</title><published>2010-02-27T00:00:00Z</published><updated>2021-02-06T12:50:45Z</updated><author><name>LexisNexis</name></author><content type=\\\\\"application/xml\\\\\"><!--Transformation version 1.25--><articleDoc xmlns=\\\\\"\\\\\" xmlns:xsi=\\\\\"http://www.w3.org/2001/XMLSchema-instance\\\\\" xsi:noNamespaceSchemaLocation=\\\\\"http://www.lexisnexis.com/xmlschemas/content/public/articledoc/1/\\\\\" schemaVersion=\\\\\"1.8\\\\\" xml:lang=\\\\\"en\\\\\"><articleDocHead><itemInfo><sourceSectionInfo><positionSection>NEWS</positionSection><positionSequence>Pg. 3</positionSequence></sourceSectionInfo></itemInfo></articleDocHead><nitf:body xmlns:nitf=\\\\\"http://iptc.org/std/NITF/2006-10-18/\\\\\"><nitf:body.head><nitf:hedline><nitf:hl1>Tighten privacy law boundaries says review</nitf:hl1></nitf:hedline></nitf:body.head><nitf:body.content><bodyText><p nitf:lede=\\\\\"true\\\\\">COLIN ESPINER</p><p nitf:lede=\\\\\"true\\\\\">Case Studies The Law Commission says these examples are legal at present, but would not be under proposed law changes: A man secretly installs an audio recorder, connected to the telephone system in the house of his former partner. The recorder activates automatically when the receiver of the phone is lifted and records the telephone conversations A woman suspects her husband is having an affair. She employs a private investigator, who secretly installs software on her husband\\'s GPS-equipped cellphone, which allows the investigator to view the phone\\'s location via an online mapping service The marriage of a prominent political figure is rumoured to be ending. Using a long-lens camera, a newspaper photographer takes pictures of him and his wife eating a meal together in their house, and the photographs are published -------------------- SPYING on your partner or monitoring the movements of employees could soon be illegal, under new recommendations to the Government from the Law Commission.</p><p nitf:lede=\\\\\"true\\\\\">A review of the country\\'s privacy laws says legislation should be enacted making it illegal to install tracking devices on cellphones or vehicles, or to use visual surveillance devices without consent.</p><p>The Law Commission\\'s report says surveillance technology is developing at great speed, and its potential is \\\\\"virtually limitless\\\\\". The current law had not kept pace with the technology.</p><p>\\\\\"It is important to put boundaries in place to control its harmful use before it is too late. \\\\\"</p><p>The report is the latest in a series of reports on privacy issues by the Law Commission.</p><p>Justice Minister Simon Power is refusing to comment on whether any of the recommendations will be accepted. A spokesman said yesterday he would not respond until the fourth and final report was issued next week.</p><p>Currently it is not against the law for a suspicious partner to download and install GPS tracking information on to a cellphone, or for a journalist to install a hidden audio recording device on a car.</p><p>Employers can also monitor the movements of their staff through trackers on fleet vehicles without an employee\\'s knowledge.</p><p>Under the changes, if accepted by the Government, employers would have to gain the consent of staff for the tracking of people, although not for freight.</p><p>Employers would still be able to use hidden cameras to detect workplace theft, however, and the Law Commission says consumer affairs programmes such as Target should still be able to use covert filming to catch out errant tradespeople - as long as they have the permission of the occupier.</p><p>The commission says covert tracking has now become so sophisticated that it \\\\\"robs the ability to choose whether or not others know where they are at a particular time\\\\\".</p><p>Exemptions would be made for police, or where people agreed to being tracked, such as via social networking sites.</p><p>The commission says CCTV surveillance should not be outlawed as it provides a public safety service, but should be better regulated by the Privacy Act.</p><p>Peeping toms would also be caught under proposed new laws on voyeurism. The commission says while intimate covert filming is already illegal, the current law is vague on spying on people in \\\\\"intimate situations\\\\\" - such as having sex, showering or going to the toilet.</p><p>It proposes a new crime of deliberately observing without consent people in such situations, where they would reasonably expect privacy - with or without a device.</p><p>Existing media freedoms to record and intercept telephone conversations or data where it is in the public interest should be preserved, the commission says.</p></bodyText></nitf:body.content></nitf:body><metadata><dc:metadata xmlns:dc=\\\\\"http://purl.org/dc/elements/1.1/\\\\\"><dc:identifier identifierScheme=\\\\\"DOC-ID\\\\\">DOPST-TDP100227A003124161383-AU</dc:identifier><dc:source sourceScheme=\\\\\"royaltyReportingKey\\\\\">DOPST2010</dc:source><dc:identifier identifierScheme=\\\\\"PGUID\\\\\">urn:contentItem:7XWH-P651-2R6X-P51G-00000-00</dc:identifier><dc:source sourceScheme=\\\\\"productContentSetIdentifier\\\\\">256380</dc:source><dc:date dateType=\\\\\"last-updated\\\\\">2019-01-29</dc:date></dc:metadata><wordCount number=\\\\\"596\\\\\"/><publicationInfo><copyright>Copyright 2010 Fairfax New Zealand All Rights Reserved</copyright><publicationName>The Dominion Post (Wellington, New Zealand)</publicationName><publicationDate day=\\\\\"27\\\\\" month=\\\\\"02\\\\\" year=\\\\\"2010\\\\\"><dateText>February 27, 2010 Saturday</dateText></publicationDate><classification classificationScheme=\\\\\"publicationtype\\\\\"><classificationItem><className>Newspaper</className></classificationItem></classification><classification classificationScheme=\\\\\"publicationtype\\\\\"><classificationItem><className>Newspapers</className></classificationItem></classification></publicationInfo><classification classificationScheme=\\\\\"language\\\\\"><classificationItem classificationScheme=\\\\\"lang.english\\\\\"><className>ENGLISH</className></classificationItem></classification><classificationGroup classificationScheme=\\\\\"indexing-terms\\\\\"><classification classificationScheme=\\\\\"subject\\\\\"><classificationItem score=\\\\\"90\\\\\"><classCode>STX000445</classCode><className>DATA PROTECTION LAWS</className></classificationItem><classificationItem score=\\\\\"90\\\\\"><classCode>STX000969</classCode><className>INVESTIGATIONS</className></classificationItem><classificationItem score=\\\\\"90\\\\\"><classCode>STX001020</classCode><className>LEGISLATION</className></classificationItem><classificationItem score=\\\\\"90\\\\\"><classCode>STX001384</classCode><className>PRIVACY RIGHTS</className></classificationItem><classificationItem score=\\\\\"90\\\\\"><classCode>ST000DKTF</classCode><className>SURVEILLANCE</className></classificationItem><classificationItem score=\\\\\"90\\\\\"><classCode>STX001659</classCode><className>SURVEILLANCE TECHNOLOGY</className></classificationItem><classificationItem score=\\\\\"78\\\\\"><classCode>STX001905</classCode><className>JOURNALISM</className></classificationItem><classificationItem score=\\\\\"78\\\\\"><classCode>ST0008XMR</classCode><className>LAW &amp; LEGAL SYSTEM</className></classificationItem><classificationItem score=\\\\\"78\\\\\"><classCode>ST0009FJK</classCode><className>NEGATIVE PERSONAL NEWS</className></classificationItem><classificationItem score=\\\\\"78\\\\\"><classCode>STX001325</classCode><className>PHOTOJOURNALISM</className></classificationItem><classificationItem score=\\\\\"76\\\\\"><classCode>STX001932</classCode><className>CRIME, LAW ENFORCEMENT &amp; CORRECTIONS</className></classificationItem><classificationItem score=\\\\\"76\\\\\"><classCode>ST00097CJ</classCode><className>JUSTICE DEPARTMENTS</className></classificationItem><classificationItem score=\\\\\"74\\\\\"><classCode>ST000DLOJ</classCode><className>GOVERNMENT ADVISORS &amp; MINISTERS</className></classificationItem><classificationItem score=\\\\\"74\\\\\"><classCode>N541920CC</classCode><className>PHOTOGRAPHY SERVICES</className></classificationItem><classificationItem score=\\\\\"74\\\\\"><classCode>STX001865</classCode><className>WRITERS</className></classificationItem><classificationItem score=\\\\\"73\\\\\"><classCode>ST000DPPQ</classCode><className>GOSSIP &amp; RUMORS</className></classificationItem><classificationItem score=\\\\\"70\\\\\"><classCode>ST000DJQC</classCode><className>CONSUMERS</className></classificationItem><classificationItem score=\\\\\"69\\\\\"><classCode>ST0008XAA</classCode><className>VISUAL ARTISTS</className></classificationItem></classification><classification classificationScheme=\\\\\"industry\\\\\"><classificationItem score=\\\\\"90\\\\\"><classCode>STX000445</classCode><className>DATA PROTECTION LAWS</className></classificationItem><classificationItem score=\\\\\"90\\\\\"><classCode>ST000A0Z7</classCode><className>MOBILE &amp; CELLULAR TELEPHONES</className></classificationItem><classificationItem score=\\\\\"90\\\\\"><classCode>STX001702</classCode><className>TELEPHONIC EQUIPMENT</className></classificationItem><classificationItem score=\\\\\"89\\\\\"><classCode>ST000DOOG</classCode><className>CAMERAS</className></classificationItem><classificationItem score=\\\\\"78\\\\\"><classCode>STX001325</classCode><className>PHOTOJOURNALISM</className></classificationItem><classificationItem score=\\\\\"76\\\\\"><classCode>N561611MM</classCode><className>INVESTIGATIVE SERVICES</className></classificationItem><classificationItem score=\\\\\"74\\\\\"><classCode>N541920CC</classCode><className>PHOTOGRAPHY SERVICES</className></classificationItem><classificationItem score=\\\\\"74\\\\\"><classCode>STX001865</classCode><className>WRITERS</className></classificationItem><classificationItem score=\\\\\"71\\\\\"><classCode>ST000A39R</classCode><className>COMPUTER SOFTWARE</className></classificationItem><classificationItem score=\\\\\"69\\\\\"><classCode>ST0008XAA</classCode><className>VISUAL ARTISTS</className></classificationItem></classification><classification classificationScheme=\\\\\"city\\\\\"><classificationItem score=\\\\\"73\\\\\"><classCode>GX234</classCode><className>WELLINGTON, NEW ZEALAND</className></classificationItem></classification><classification classificationScheme=\\\\\"country\\\\\"><classificationItem score=\\\\\"93\\\\\"><classCode>GC351</classCode><className>NEW ZEALAND</className></classificationItem></classification></classificationGroup></metadata></articleDoc></content></entry>\",\"Citation\":\"\"\\r\\n      },\"Source\":{\\r\\n        \"Id\":\"\",\"Name\":\"The Dominion Post (Wellington, New Zealand)\",\"ContentType\":\"\",\"Jurisdiction\":null,\"Publisher\":null,\"AlphaCategory\":null\\r\\n      }\\r\\n    },{\\r\\n      \"ResultId\":\"urn:contentItem:8054-RMY1-2R6X-P4HB-00000-00\",\"Jurisdiction\":\"International\",\"Location\":null,\"ContentType\":\"News\",\"Byline\":null,\"WordLength\":500,\"WebNewsUrl\":null,\"Geography\":null,\"NegativeNews\":null,\"Language\":null,\"Industry\":null,\"People\":null,\"Subject\":null,\"Section\":\"NEWS; Pg. 5\",\"Company\":null,\"PublicationType\":null,\"Publisher\":null,\"GroupDuplicates\":null,\"InternationalLocation\":null,\"LEI\":[\\r\\n        \\r\\n      ],\"CompanyName\":[\\r\\n        \\r\\n      ],\"LNGI\":[\\r\\n        \\r\\n      ],\"SearchType\":\"NaturalLanguageAnd\",\"Date\":\"2010-08-13T00:00:00Z\",\"Keyword\":null,\"Title\":\"Suicide prompts call for privacy review\",\"DocumentContent@odata.mediaReadLink\":\"Documents(DocumentId=\\'%2fshared%2fdocument%2fnews%2furn%3acontentItem%3a8054-RMY1-2R6X-P4HB-00000-00\\',DocumentIdType=\\'DocFullPath\\')/$value?ind=y\",\"DocumentContent@odata.mediaContentType\":\"application/atom+xml\",\"Overview\":\"The Dominion Post (Wellington, New Zealand), NEWS; Pg. 5, 500words\",\"Extracts\":[\\r\\n        {\\r\\n          \"Type\":\"Extract\",\"SummaryText\":\"<div>... <xhtml:span class=\\\\\"hit\\\\\" xmlns:xhtml=\\\\\"http://www.w3.org/1999/xhtml\\\\\">privacy</xhtml:span> laws to better enable counsellors to divulge confidential details about suicidal patients, after a Wellington student\\'s self-inflicted death. The recommendation comes as the chief coroner calls for more open reporting of suicides, which account for more than 500 deaths each year. Sophie Veronica Coady, 20, was found dead at her Mt Cook flat after a night\\'s drinking with friends on St Patrick\\'s Day, 2008. She had been on anti-depressant medication and admitted to  Massey University  psychologist ...</div>\"\\r\\n        },{\\r\\n          \"Type\":\"Term\",\"SummaryText\":\"<xhtml:span id=\\\\\"h1\\\\\" class=\\\\\"hits-fragment\\\\\" xmlns:xhtml=\\\\\"http://www.w3.org/1999/xhtml\\\\\">... confronted by coroners. Mr Smith called for a review of the <xhtml:span class=\\\\\"hit\\\\\">Privacy</xhtml:span> Act\\'s mental health provisions. Confidential information should be disclosed to family ...</xhtml:span>\"\\r\\n        },{\\r\\n          \"Type\":\"Term\",\"SummaryText\":\"<xhtml:span id=\\\\\"h2\\\\\" class=\\\\\"hits-fragment\\\\\" xmlns:xhtml=\\\\\"http://www.w3.org/1999/xhtml\\\\\">... Suicide prompts call for <xhtml:span class=\\\\\"hit\\\\\">privacy</xhtml:span> review LANE NICHOLS A CORONER is calling for a review of <xhtml:span class=\\\\\"hit\\\\\">privacy</xhtml:span> laws to better enable counsellors to divulge confidential details about suicidal ...</xhtml:span>\"\\r\\n        },{\\r\\n          \"Type\":\"Term\",\"SummaryText\":\"<xhtml:span id=\\\\\"h3\\\\\" class=\\\\\"hits-fragment\\\\\" xmlns:xhtml=\\\\\"http://www.w3.org/1999/xhtml\\\\\">... consent. Ms Coady\\'s parents said they understood issues of privilege and <xhtml:span class=\\\\\"hit\\\\\">privacy</xhtml:span> . \\\\\"[But] not being advised of the extent of Sophie\\'s suicidal ...</xhtml:span>\"\\r\\n        }\\r\\n      ],\"IsCitationMatch\":false,\"Document\":{\\r\\n        \"DocumentId\":\"/shared/document/news/urn:contentItem:8054-RMY1-2R6X-P4HB-00000-00\",\"DocumentIdType\":\"DocFullPath\",\"Content\":\"<entry xmlns=\\\\\"http://www.w3.org/2005/Atom\\\\\"><id>urn:contentItem:8054-RMY1-2R6X-P4HB-00000-00</id><title>Suicide prompts call for privacy review</title><published>2010-08-13T00:00:00Z</published><updated>2021-02-06T12:50:46Z</updated><author><name>LexisNexis</name></author><content type=\\\\\"application/xml\\\\\"><!--Transformation version 1.25--><articleDoc xmlns=\\\\\"\\\\\" xmlns:xsi=\\\\\"http://www.w3.org/2001/XMLSchema-instance\\\\\" xsi:noNamespaceSchemaLocation=\\\\\"http://www.lexisnexis.com/xmlschemas/content/public/articledoc/1/\\\\\" schemaVersion=\\\\\"1.8\\\\\" xml:lang=\\\\\"en\\\\\"><articleDocHead><itemInfo><sourceSectionInfo><positionSection>NEWS</positionSection><positionSequence>Pg. 5</positionSequence></sourceSectionInfo></itemInfo></articleDocHead><nitf:body xmlns:nitf=\\\\\"http://iptc.org/std/NITF/2006-10-18/\\\\\"><nitf:body.head><nitf:hedline><nitf:hl1>Suicide prompts call for privacy review</nitf:hl1></nitf:hedline></nitf:body.head><nitf:body.content><bodyText><p nitf:lede=\\\\\"true\\\\\">LANE NICHOLS</p><p nitf:lede=\\\\\"true\\\\\">A CORONER is calling for a review of privacy laws to better enable counsellors to divulge confidential details about suicidal patients, after a Wellington student\\'s self-inflicted death.</p><p>The recommendation comes as the chief coroner calls for more open reporting of suicides, which account for more than 500 deaths each year.</p><p>Sophie Veronica Coady, 20, was found dead at her Mt Cook flat after a night\\'s drinking with friends on St Patrick\\'s Day, 2008.</p><p>She had been on anti-depressant medication and admitted to Massey University psychologist Kim Coldham-Fussell only months earlier having made an attempt on her life and suicidal thoughts.</p><p>However, Ms Coldham-Fussell did not alert Ms Coady\\'s family, citing client confidentiality.</p><p>She feared the counselling relationship would be terminated if she breached that trust and that she could face a complaint.</p><p>In his findings, coroner <person><nameText>Ian Smith </nameText></person>said there was a duty to break confidentiality and disclose information against the wishes of patients when there was an imminent risk of harm.</p><p>\\\\\"Ms Coldham-Fussell did not think she had sufficient ethical grounds to break Sophie\\'s right to confidentiality and said her assessment of her indicated that she held a low risk of harming herself at that time.\\\\\"</p><p>He noted that Ms Coady appeared to making good progress at the time of her death.</p><p>The case highlighted difficulties faced by health experts when dealing with mental health confidentiality arrangements - a problem frequently confronted by coroners.</p><p>Mr Smith called for a review of the Privacy Act\\'s mental health provisions.</p><p>Confidential information should be disclosed to family or caregivers \\\\\"under specific guidelines\\\\\" when at- risk patients refused consent.</p><p>Ms Coady\\'s parents said they understood issues of privilege and privacy. \\\\\"[But] not being advised of the extent of Sophie\\'s suicidal thoughts and earlier attempt on her life we believe we were denied the opportunity to help our daughter when she needed it most.\\\\\"</p><p>Mr Smith said there was a surprising lack of disclosure between the student health service\\'s GP and counsellor.</p><p>He recommended protocols be reviewed to ensure there was a \\\\\"robust inter-sharing of information with respect to a client\\'s welfare\\\\\".</p><p>Massey University communications director James Gardiner said the university offered pastoral support to many young people living away from home for the first time.</p><p>\\\\\"Unfortunately there are going to be tragedies with large numbers of people.\\\\\"</p><p>Association of Counsellors ethics committee convener Sue Webb said health experts often had to make \\\\\"judgment calls\\\\\" about whether to breach patient trust, with sometimes tragic consequences when they got it wrong.</p><p>\\\\\"Confidentiality is a cornerstone of the counselling relationship. It\\'s about the other person\\'s right to make their own decisions about their lives. Clearly that right . . . is over-ridden if there is a need to protect people . . It may be that we need to revisit how we assess and make decisions around breaking that confidentiality.\\\\\"</p></bodyText></nitf:body.content></nitf:body><metadata><dc:metadata xmlns:dc=\\\\\"http://purl.org/dc/elements/1.1/\\\\\"><dc:identifier identifierScheme=\\\\\"DOC-ID\\\\\">DOPST-TDP100813A005128965105-BB</dc:identifier><dc:source sourceScheme=\\\\\"royaltyReportingKey\\\\\">DOPST2010</dc:source><dc:identifier identifierScheme=\\\\\"PGUID\\\\\">urn:contentItem:8054-RMY1-2R6X-P4HB-00000-00</dc:identifier><dc:source sourceScheme=\\\\\"productContentSetIdentifier\\\\\">256380</dc:source><dc:date dateType=\\\\\"last-updated\\\\\">2019-01-29</dc:date></dc:metadata><wordCount number=\\\\\"500\\\\\"/><publicationInfo><copyright>Copyright 2010 Fairfax New Zealand All Rights Reserved</copyright><publicationName>The Dominion Post (Wellington, New Zealand)</publicationName><publicationDate day=\\\\\"13\\\\\" month=\\\\\"08\\\\\" year=\\\\\"2010\\\\\"><dateText>August 13, 2010 Friday</dateText></publicationDate><classification classificationScheme=\\\\\"publicationtype\\\\\"><classificationItem><className>Newspaper</className></classificationItem></classification><classification classificationScheme=\\\\\"publicationtype\\\\\"><classificationItem><className>Newspapers</className></classificationItem></classification></publicationInfo><classification classificationScheme=\\\\\"language\\\\\"><classificationItem classificationScheme=\\\\\"lang.english\\\\\"><className>ENGLISH</className></classificationItem></classification><classificationGroup classificationScheme=\\\\\"indexing-terms\\\\\"><classification classificationScheme=\\\\\"legal\\\\\"><classificationItem score=\\\\\"90\\\\\"><className>Healthcare Law</className><classCode>Z3VpZD11cm46dG9waWM6NkUxMkVDQjJDOEY5NDVDQ0E5NTFEMTlDMjIwNzVERjc7cGFyZW50Z3VpZD0</classCode><classificationItem score=\\\\\"90\\\\\"><className>General Overview</className><classCode>Z3VpZD11cm46dG9waWM6MkM0RjM1NjlERDhBNDk2Q0I2RTZCOEIxM0Y0MjI0RDE7cGFyZW50Z3VpZD11cm46dG9waWM6NTg4RTkyNjk5MUY0NEU4Q0FBMDg2MzI1ODBCRUQ3OEY</classCode></classificationItem></classificationItem></classification><classification classificationScheme=\\\\\"subject\\\\\"><classificationItem score=\\\\\"93\\\\\"><classCode>STX000453</classCode><className>DEATH &amp; DYING</className></classificationItem><classificationItem score=\\\\\"91\\\\\"><classCode>STX001647</classCode><className>SUICIDE</className></classificationItem><classificationItem score=\\\\\"90\\\\\"><classCode>N923120MQ</classCode><className>CORONERS COURTS &amp; OFFICES</className></classificationItem><classificationItem score=\\\\\"90\\\\\"><classCode>STX000445</classCode><className>DATA PROTECTION LAWS</className></classificationItem><classificationItem score=\\\\\"90\\\\\"><classCode>STX001113</classCode><className>MENTAL ILLNESS</className></classificationItem><classificationItem score=\\\\\"90\\\\\"><classCode>ST000DB12</classCode><className>PATIENT PRIVACY</className></classificationItem><classificationItem score=\\\\\"90\\\\\"><classCode>STX001384</classCode><className>PRIVACY RIGHTS</className></classificationItem><classificationItem score=\\\\\"89\\\\\"><classCode>STX000654</classCode><className>ETHICS</className></classificationItem><classificationItem score=\\\\\"89\\\\\"><classCode>ST000D05Y</classCode><className>MENTAL HEALTH</className></classificationItem><classificationItem score=\\\\\"89\\\\\"><classCode>ST000A8GE</classCode><className>TEEN SUICIDE</className></classificationItem><classificationItem score=\\\\\"78\\\\\"><classCode>STX002098</classCode><className>MENTAL HEALTH PRACTICE</className></classificationItem><classificationItem score=\\\\\"78\\\\\"><classCode>STX002120</classCode><className>PSYCHOLOGY</className></classificationItem><classificationItem score=\\\\\"78\\\\\"><classCode>ST000DNBX</classCode><className>SELF HARM</className></classificationItem><classificationItem score=\\\\\"77\\\\\"><classCode>STX000425</classCode><className>DEATH RATES</className></classificationItem><classificationItem score=\\\\\"60\\\\\"><classCode>ST000A7IS</classCode><className>ASSOCIATIONS &amp; ORGANIZATIONS</className></classificationItem></classification><classification classificationScheme=\\\\\"industry\\\\\"><classificationItem score=\\\\\"90\\\\\"><classCode>STX000445</classCode><className>DATA PROTECTION LAWS</className></classificationItem><classificationItem score=\\\\\"90\\\\\"><classCode>ST000DB12</classCode><className>PATIENT PRIVACY</className></classificationItem><classificationItem score=\\\\\"78\\\\\"><classCode>STX002098</classCode><className>MENTAL HEALTH PRACTICE</className></classificationItem><classificationItem score=\\\\\"78\\\\\"><classCode>STX002120</classCode><className>PSYCHOLOGY</className></classificationItem><classificationItem score=\\\\\"75\\\\\"><classCode>ST000DO1D</classCode><className>PSYCHOTROPIC DRUGS</className></classificationItem><classificationItem score=\\\\\"73\\\\\"><classCode>ST0008XSI</classCode><className>ANTIDEPRESSANTS</className></classificationItem><classificationItem score=\\\\\"56\\\\\"><classCode>STX000273</classCode><className>CENTRAL NERVOUS SYSTEM DRUGS</className></classificationItem></classification><classification classificationScheme=\\\\\"person\\\\\"><classificationItem score=\\\\\"77\\\\\"><classCode>PE000A45M</classCode><className>IAN SMITH (REED ELSEVIER)</className></classificationItem></classification><classification classificationScheme=\\\\\"city\\\\\"><classificationItem score=\\\\\"88\\\\\"><classCode>GX234</classCode><className>WELLINGTON, NEW ZEALAND</className></classificationItem></classification><classification classificationScheme=\\\\\"country\\\\\"><classificationItem score=\\\\\"90\\\\\"><classCode>GC351</classCode><className>NEW ZEALAND</className></classificationItem></classification></classificationGroup></metadata></articleDoc></content></entry>\",\"Citation\":\"\"\\r\\n      },\"Source\":{\\r\\n        \"Id\":\"\",\"Name\":\"The Dominion Post (Wellington, New Zealand)\",\"ContentType\":\"\",\"Jurisdiction\":null,\"Publisher\":null,\"AlphaCategory\":null\\r\\n      }\\r\\n    },{\\r\\n      \"ResultId\":\"urn:contentItem:51M1-2861-JCBN-V37C-00000-00\",\"Jurisdiction\":\"International\",\"Location\":null,\"ContentType\":\"News\",\"Byline\":null,\"WordLength\":138,\"WebNewsUrl\":null,\"Geography\":null,\"NegativeNews\":null,\"Language\":null,\"Industry\":null,\"People\":null,\"Subject\":null,\"Section\":\"NEWS; Pg. 8\",\"Company\":null,\"PublicationType\":null,\"Publisher\":null,\"GroupDuplicates\":null,\"InternationalLocation\":null,\"LEI\":[\\r\\n        \\r\\n      ],\"CompanyName\":[\\r\\n        \\r\\n      ],\"LNGI\":[\\r\\n        \\r\\n      ],\"SearchType\":\"NaturalLanguageAnd\",\"Date\":\"2010-12-03T00:00:00Z\",\"Keyword\":null,\"Title\":\"Google privacy complaints soar\",\"DocumentContent@odata.mediaReadLink\":\"Documents(DocumentId=\\'%2fshared%2fdocument%2fnews%2furn%3acontentItem%3a51M1-2861-JCBN-V37C-00000-00\\',DocumentIdType=\\'DocFullPath\\')/$value?ind=y\",\"DocumentContent@odata.mediaContentType\":\"application/atom+xml\",\"Overview\":\"The Dominion Post (Wellington, New Zealand), NEWS; Pg. 8, 138words\",\"Extracts\":[\\r\\n        {\\r\\n          \"Type\":\"Extract\",\"SummaryText\":\"<div>... NEWS Pg. 8 Google   <xhtml:span class=\\\\\"hit\\\\\" xmlns:xhtml=\\\\\"http://www.w3.org/1999/xhtml\\\\\">privacy</xhtml:span> complaints soar CONCERNS about the collection of information by internet giant  Google   has caused complaints to the <xhtml:span class=\\\\\"hit\\\\\" xmlns:xhtml=\\\\\"http://www.w3.org/1999/xhtml\\\\\">privacy</xhtml:span> commissioner to soar. Commissioner Marie Shroff received 7151 inquiries about <xhtml:span class=\\\\\"hit\\\\\" xmlns:xhtml=\\\\\"http://www.w3.org/1999/xhtml\\\\\">privacy</xhtml:span> in the last financial year, 500 more than the previous year. The number of complaints laid with the commission was 978, up from last year\\'s 806. In her annual report, issued yesterday, Ms Shroff said  Google \\'s  Street View project accounted for 30 per cent of  ...</div>\"\\r\\n        },{\\r\\n          \"Type\":\"Term\",\"SummaryText\":\"<xhtml:span id=\\\\\"h1\\\\\" class=\\\\\"hits-fragment\\\\\" xmlns:xhtml=\\\\\"http://www.w3.org/1999/xhtml\\\\\">... has caused complaints to the <xhtml:span class=\\\\\"hit\\\\\">privacy</xhtml:span> commissioner to soar. Commissioner Marie Shroff received 7151 inquiries about <xhtml:span class=\\\\\"hit\\\\\">privacy</xhtml:span> in the last financial year, 500 more than the previous year. ...</xhtml:span>\"\\r\\n        }\\r\\n      ],\"IsCitationMatch\":false,\"Document\":{\\r\\n        \"DocumentId\":\"/shared/document/news/urn:contentItem:51M1-2861-JCBN-V37C-00000-00\",\"DocumentIdType\":\"DocFullPath\",\"Content\":\"<entry xmlns=\\\\\"http://www.w3.org/2005/Atom\\\\\"><id>urn:contentItem:51M1-2861-JCBN-V37C-00000-00</id><title>Google privacy complaints soar</title><published>2010-12-03T00:00:00Z</published><updated>2021-02-06T12:50:46Z</updated><author><name>LexisNexis</name></author><content type=\\\\\"application/xml\\\\\"><!--Transformation version 1.25--><articleDoc xmlns=\\\\\"\\\\\" xmlns:xsi=\\\\\"http://www.w3.org/2001/XMLSchema-instance\\\\\" xsi:noNamespaceSchemaLocation=\\\\\"http://www.lexisnexis.com/xmlschemas/content/public/articledoc/1/\\\\\" schemaVersion=\\\\\"1.8\\\\\" xml:lang=\\\\\"en\\\\\"><articleDocHead><itemInfo><sourceSectionInfo><positionSection>NEWS</positionSection><positionSequence>Pg. 8</positionSequence></sourceSectionInfo></itemInfo></articleDocHead><nitf:body xmlns:nitf=\\\\\"http://iptc.org/std/NITF/2006-10-18/\\\\\"><nitf:body.head><nitf:hedline><nitf:hl1>Google privacy complaints soar</nitf:hl1></nitf:hedline></nitf:body.head><nitf:body.content><bodyText><p nitf:lede=\\\\\"true\\\\\">CONCERNS about the collection of information by internet giant Google has caused complaints to the privacy commissioner to soar.</p><p nitf:lede=\\\\\"true\\\\\">Commissioner Marie Shroff received 7151 inquiries about privacy in the last financial year, 500 more than the previous year. The number of complaints laid with the commission was 978, up from last year\\'s 806. In her annual report, issued yesterday, Ms Shroff said Google\\'s Street View project accounted for 30 per cent of inquiries.</p><p>Questions about disclosure or use of information made up 32 per cent of inquiries to the commissioner, the report says.</p><p>Government agencies, including education and local authorities, were the most complained about, attracting 44 per cent of complaints. The most complaints - 98 - were levelled against police. The Social Development Ministry featured 55 times and ACC 57.</p></bodyText></nitf:body.content></nitf:body><metadata><dc:metadata xmlns:dc=\\\\\"http://purl.org/dc/elements/1.1/\\\\\"><dc:identifier identifierScheme=\\\\\"DOC-ID\\\\\">DOPST-TDP101203A008232230845-BK</dc:identifier><dc:source sourceScheme=\\\\\"royaltyReportingKey\\\\\">DOPST2010</dc:source><dc:identifier identifierScheme=\\\\\"PGUID\\\\\">urn:contentItem:51M1-2861-JCBN-V37C-00000-00</dc:identifier><dc:source sourceScheme=\\\\\"productContentSetIdentifier\\\\\">256380</dc:source><dc:date dateType=\\\\\"last-updated\\\\\">2019-01-29</dc:date></dc:metadata><wordCount number=\\\\\"138\\\\\"/><publicationInfo><copyright>Copyright 2010 Fairfax New Zealand All Rights Reserved</copyright><publicationName>The Dominion Post (Wellington, New Zealand)</publicationName><publicationDate day=\\\\\"03\\\\\" month=\\\\\"12\\\\\" year=\\\\\"2010\\\\\"><dateText>December 3, 2010 Friday</dateText></publicationDate><classification classificationScheme=\\\\\"publicationtype\\\\\"><classificationItem><className>Newspaper</className></classificationItem></classification><classification classificationScheme=\\\\\"publicationtype\\\\\"><classificationItem><className>Newspapers</className></classificationItem></classification></publicationInfo><classification classificationScheme=\\\\\"language\\\\\"><classificationItem classificationScheme=\\\\\"lang.english\\\\\"><className>ENGLISH</className></classificationItem></classification><classificationGroup classificationScheme=\\\\\"indexing-terms\\\\\"><classification classificationScheme=\\\\\"company\\\\\"><classificationItem score=\\\\\"93\\\\\"><classCode>CC00055NZ</classCode><className>GOOGLE INC</className></classificationItem></classification><classification classificationScheme=\\\\\"industry\\\\\"><classificationItem score=\\\\\"93\\\\\"><className>NAICS519130 INTERNET PUBLISHING &amp; BROADCASTING &amp; WEB SEARCH PORTALS</className></classificationItem></classification></classificationGroup><classificationGroup classificationScheme=\\\\\"indexing-terms\\\\\"><classification classificationScheme=\\\\\"subject\\\\\"><classificationItem score=\\\\\"90\\\\\"><classCode>STX000445</classCode><className>DATA PROTECTION LAWS</className></classificationItem><classificationItem score=\\\\\"88\\\\\"><classCode>ST0009QS2</classCode><className>REPORTS, REVIEWS &amp; SECTIONS</className></classificationItem><classificationItem score=\\\\\"71\\\\\"><classCode>STX000094</classCode><className>ANNUAL REPORTS</className></classificationItem><classificationItem score=\\\\\"69\\\\\"><classCode>N920000CC</classCode><className>GOVERNMENT &amp; PUBLIC ADMINISTRATION</className></classificationItem></classification><classification classificationScheme=\\\\\"industry\\\\\"><classificationItem score=\\\\\"90\\\\\"><classCode>STX000445</classCode><className>DATA PROTECTION LAWS</className></classificationItem><classificationItem score=\\\\\"90\\\\\"><classCode>STX000954</classCode><className>INTERNET &amp; WWW</className></classificationItem><classificationItem score=\\\\\"90\\\\\"><classCode>N518112MM</classCode><className>WEB SEARCH PORTALS</className></classificationItem><classificationItem score=\\\\\"88\\\\\"><classCode>STX000580</classCode><className>ELECTRONIC PUBLISHING</className></classificationItem><classificationItem score=\\\\\"88\\\\\"><classCode>STX000962</classCode><className>WEBSITES &amp; PORTALS</className></classificationItem><classificationItem score=\\\\\"72\\\\\"><classCode>STX001536</classCode><className>SEARCH ENGINES</className></classificationItem></classification><classification classificationScheme=\\\\\"city\\\\\"><classificationItem score=\\\\\"73\\\\\"><classCode>GX234</classCode><className>WELLINGTON, NEW ZEALAND</className></classificationItem></classification><classification classificationScheme=\\\\\"country\\\\\"><classificationItem score=\\\\\"92\\\\\"><classCode>GC351</classCode><className>NEW ZEALAND</className></classificationItem></classification></classificationGroup></metadata></articleDoc></content></entry>\",\"Citation\":\"\"\\r\\n      },\"Source\":{\\r\\n        \"Id\":\"\",\"Name\":\"The Dominion Post (Wellington, New Zealand)\",\"ContentType\":\"\",\"Jurisdiction\":null,\"Publisher\":null,\"AlphaCategory\":null\\r\\n      }\\r\\n    },{\\r\\n      \"ResultId\":\"urn:contentItem:50XK-CDX1-JCBN-V4TC-00000-00\",\"Jurisdiction\":\"International\",\"Location\":null,\"ContentType\":\"News\",\"Byline\":null,\"WordLength\":503,\"WebNewsUrl\":null,\"Geography\":null,\"NegativeNews\":null,\"Language\":null,\"Industry\":null,\"People\":null,\"Subject\":null,\"Section\":\"NEWS; Pg. 8\",\"Company\":null,\"PublicationType\":null,\"Publisher\":null,\"GroupDuplicates\":null,\"InternationalLocation\":null,\"LEI\":[\\r\\n        \\r\\n      ],\"CompanyName\":[\\r\\n        \\r\\n      ],\"LNGI\":[\\r\\n        \\r\\n      ],\"SearchType\":\"NaturalLanguageAnd\",\"Date\":\"2010-09-03T00:00:00Z\",\"Keyword\":null,\"Title\":\"Google unlikely to be punished for \\'mistake\\'\",\"DocumentContent@odata.mediaReadLink\":\"Documents(DocumentId=\\'%2fshared%2fdocument%2fnews%2furn%3acontentItem%3a50XK-CDX1-JCBN-V4TC-00000-00\\',DocumentIdType=\\'DocFullPath\\')/$value?ind=y\",\"DocumentContent@odata.mediaContentType\":\"application/atom+xml\",\"Overview\":\"The Dominion Post (Wellington, New Zealand), NEWS; Pg. 8, 503words\",\"Extracts\":[\\r\\n        {\\r\\n          \"Type\":\"Extract\",\"SummaryText\":\"<div>...  report - to support any allegation it had intentionally intercepted private communications, he said. \\\\\"It\\'s more appropriate for the <xhtml:span class=\\\\\"hit\\\\\" xmlns:xhtml=\\\\\"http://www.w3.org/1999/xhtml\\\\\">privacy</xhtml:span> commissioner to deal with.\\\\\" People using Wi-Fi networks needed to ensure they had security measures in place, he said. Australia\\'s <xhtml:span class=\\\\\"hit\\\\\" xmlns:xhtml=\\\\\"http://www.w3.org/1999/xhtml\\\\\">privacy</xhtml:span> commissioner, Karen Curtis, said in July that  Google   had breached its <xhtml:span class=\\\\\"hit\\\\\" xmlns:xhtml=\\\\\"http://www.w3.org/1999/xhtml\\\\\">Privacy</xhtml:span> Act but said she was unable to impose any punishment on it as she had initiated the investigation. The Australian Federal Police and <xhtml:span class=\\\\\"hit\\\\\" xmlns:xhtml=\\\\\"http://www.w3.org/1999/xhtml\\\\\">privacy</xhtml:span> ...</div>\"\\r\\n        },{\\r\\n          \"Type\":\"Term\",\"SummaryText\":\"<xhtml:span id=\\\\\"h1\\\\\" class=\\\\\"hits-fragment\\\\\" xmlns:xhtml=\\\\\"http://www.w3.org/1999/xhtml\\\\\">... Google has played down those suggestions. <xhtml:span class=\\\\\"hit\\\\\">Privacy</xhtml:span> lawyer John Edwards said the <xhtml:span class=\\\\\"hit\\\\\">privacy</xhtml:span> commissioner did not proactively enforce the act. \\\\\"In order for  Google   to face any consequences under the <xhtml:span class=\\\\\"hit\\\\\">Privacy</xhtml:span> Act there would need to be somebody alleging that information collected ...</xhtml:span>\"\\r\\n        },{\\r\\n          \"Type\":\"Term\",\"SummaryText\":\"<xhtml:span id=\\\\\"h2\\\\\" class=\\\\\"hits-fragment\\\\\" xmlns:xhtml=\\\\\"http://www.w3.org/1999/xhtml\\\\\">... strong case that that kind of conduct should be regulated.\\\\\" Assistant <xhtml:span class=\\\\\"hit\\\\\">privacy</xhtml:span> commissioner Katrine Evans said its investigation was well advanced but she ...</xhtml:span>\"\\r\\n        },{\\r\\n          \"Type\":\"Term\",\"SummaryText\":\"<xhtml:span id=\\\\\"h3\\\\\" class=\\\\\"hits-fragment\\\\\" xmlns:xhtml=\\\\\"http://www.w3.org/1999/xhtml\\\\\">... would not comment further. The commissioner\\'s office, which seeks to conciliate <xhtml:span class=\\\\\"hit\\\\\">privacy</xhtml:span> issues, referred the matter to police in June. The national cybercrime ...</xhtml:span>\"\\r\\n        },{\\r\\n          \"Type\":\"Term\",\"SummaryText\":\"<xhtml:span id=\\\\\"h4\\\\\" class=\\\\\"hits-fragment\\\\\" xmlns:xhtml=\\\\\"http://www.w3.org/1999/xhtml\\\\\">... Zealanders after police found it had not committed a crime, a <xhtml:span class=\\\\\"hit\\\\\">privacy</xhtml:span> lawyer says. The <xhtml:span class=\\\\\"hit\\\\\">privacy</xhtml:span> commissioner is still investigating whether the internet search giant breached the <xhtml:span class=\\\\\"hit\\\\\">Privacy</xhtml:span> Act but will not seek punishment if it finds a breach. ...</xhtml:span>\"\\r\\n        },{\\r\\n          \"Type\":\"Term\",\"SummaryText\":\"<xhtml:span id=\\\\\"h5\\\\\" class=\\\\\"hits-fragment\\\\\" xmlns:xhtml=\\\\\"http://www.w3.org/1999/xhtml\\\\\">... harm to the person. \\\\\"I think it\\'s pretty unlikely that the <xhtml:span class=\\\\\"hit\\\\\">Privacy</xhtml:span> Act is going to deliver any remedy. I think Google have ...</xhtml:span>\"\\r\\n        },{\\r\\n          \"Type\":\"Term\",\"SummaryText\":\"<xhtml:span id=\\\\\"h6\\\\\" class=\\\\\"hits-fragment\\\\\" xmlns:xhtml=\\\\\"http://www.w3.org/1999/xhtml\\\\\">... Australia\\'s <xhtml:span class=\\\\\"hit\\\\\">privacy</xhtml:span> commissioner, Karen Curtis, said in July that  Google   had breached its <xhtml:span class=\\\\\"hit\\\\\">Privacy</xhtml:span> Act but said she was unable to impose any punishment on ...</xhtml:span>\"\\r\\n        }\\r\\n      ],\"IsCitationMatch\":false,\"Document\":{\\r\\n        \"DocumentId\":\"/shared/document/news/urn:contentItem:50XK-CDX1-JCBN-V4TC-00000-00\",\"DocumentIdType\":\"DocFullPath\",\"Content\":\"<entry xmlns=\\\\\"http://www.w3.org/2005/Atom\\\\\"><id>urn:contentItem:50XK-CDX1-JCBN-V4TC-00000-00</id><title>Google unlikely to be punished for \\'mistake\\'</title><published>2010-09-03T00:00:00Z</published><updated>2021-02-06T12:50:46Z</updated><author><name>LexisNexis</name></author><content type=\\\\\"application/xml\\\\\"><!--Transformation version 1.25--><articleDoc xmlns=\\\\\"\\\\\" xmlns:xsi=\\\\\"http://www.w3.org/2001/XMLSchema-instance\\\\\" xsi:noNamespaceSchemaLocation=\\\\\"http://www.lexisnexis.com/xmlschemas/content/public/articledoc/1/\\\\\" schemaVersion=\\\\\"1.8\\\\\" xml:lang=\\\\\"en\\\\\"><articleDocHead><itemInfo><sourceSectionInfo><positionSection>NEWS</positionSection><positionSequence>Pg. 8</positionSequence></sourceSectionInfo></itemInfo></articleDocHead><nitf:body xmlns:nitf=\\\\\"http://iptc.org/std/NITF/2006-10-18/\\\\\"><nitf:body.head><nitf:hedline><nitf:hl1>Google unlikely to be punished for \\'mistake\\'</nitf:hl1></nitf:hedline></nitf:body.head><nitf:body.content><bodyText><p nitf:lede=\\\\\"true\\\\\">CLAIRE MCENTEE</p><p nitf:lede=\\\\\"true\\\\\">GOOGLE is unlikely to be penalised for collecting personal wireless internet data from New Zealanders after police found it had not committed a crime, a privacy lawyer says.</p><p>The privacy commissioner is still investigating whether the internet search giant breached the Privacy Act but will not seek punishment if it finds a breach.</p><p>Google collected the data - which includes fragments of communications over private Wi-Fi networks and the names and security status of those networks - while filming for its Street View project.</p><p>It was feared Google had intercepted personal banking details and could link people\\'s online behaviour to their home addresses, but Google has played down those suggestions.</p><p>Privacy lawyer John Edwards said the privacy commissioner did not proactively enforce the act.</p><p>\\\\\"In order for Google to face any consequences under the Privacy Act there would need to be somebody alleging that information collected by Google had been collected unlawfully or unfairly and then used in some way that caused some harm to the person.</p><p>\\\\\"I think it\\'s pretty unlikely that the Privacy Act is going to deliver any remedy. I think Google have come out and said that they are not going to use that information in any way that could cause any harm to anyone.\\\\\"</p><p>It was difficult to say whether Google should face punishment and it was not really known exactly what information it had, he said. \\\\\"If you walk along the street with your iPhone, you can get all that yourself. It\\'s hard to make a strong case that that kind of conduct should be regulated.\\\\\"</p><p>Assistant privacy commissioner Katrine Evans said its investigation was well advanced but she would not comment further. The commissioner\\'s office, which seeks to conciliate privacy issues, referred the matter to police in June.</p><p>The national cybercrime centre chief, Detective Senior Sergeant John van den Heuvel, said Google admitted it collected data that included fragments of private communications, \\\\\"but we don\\'t think their behaviour reached the threshold of being criminal\\\\\".</p><p>There was no evidence - based on Google\\'s information and an independent report - to support any allegation it had intentionally intercepted private communications, he said. \\\\\"It\\'s more appropriate for the privacy commissioner to deal with.\\\\\"</p><p>People using Wi-Fi networks needed to ensure they had security measures in place, he said.</p><p>Australia\\'s privacy commissioner, Karen Curtis, said in July that Google had breached its Privacy Act but said she was unable to impose any punishment on it as she had initiated the investigation.</p><p>The Australian Federal Police and privacy offices in Canada and Germany are also conducting investigations</p><p>Google admitted collecting Wi- Fi data in more than 30 countries while filming for the Street View mapping service and has said that it is \\\\\"profoundly sorry\\\\\" for its mistake.</p><p>---------------</p><p>CAPTION:</p><p>Street View car: Google admits it collected Wi-Fi data in 30 countries while filming for its mapping service and is \\\\\"profoundly sorry\\\\\" for its mistake.</p></bodyText></nitf:body.content></nitf:body><metadata><dc:metadata xmlns:dc=\\\\\"http://purl.org/dc/elements/1.1/\\\\\"><dc:identifier identifierScheme=\\\\\"DOC-ID\\\\\">DOPST-TDP100903A008129550484-BJ</dc:identifier><dc:source sourceScheme=\\\\\"royaltyReportingKey\\\\\">DOPST2010</dc:source><dc:identifier identifierScheme=\\\\\"PGUID\\\\\">urn:contentItem:50XK-CDX1-JCBN-V4TC-00000-00</dc:identifier><dc:source sourceScheme=\\\\\"productContentSetIdentifier\\\\\">256380</dc:source><dc:date dateType=\\\\\"last-updated\\\\\">2019-01-29</dc:date></dc:metadata><wordCount number=\\\\\"503\\\\\"/><publicationInfo><copyright>Copyright 2010 Fairfax New Zealand All Rights Reserved</copyright><publicationName>The Dominion Post (Wellington, New Zealand)</publicationName><publicationDate day=\\\\\"03\\\\\" month=\\\\\"09\\\\\" year=\\\\\"2010\\\\\"><dateText>September 3, 2010 Friday</dateText></publicationDate><classification classificationScheme=\\\\\"publicationtype\\\\\"><classificationItem><className>Newspaper</className></classificationItem></classification><classification classificationScheme=\\\\\"publicationtype\\\\\"><classificationItem><className>Newspapers</className></classificationItem></classification></publicationInfo><classification classificationScheme=\\\\\"language\\\\\"><classificationItem classificationScheme=\\\\\"lang.english\\\\\"><className>ENGLISH</className></classificationItem></classification><classificationGroup classificationScheme=\\\\\"indexing-terms\\\\\"><classification classificationScheme=\\\\\"company\\\\\"><classificationItem score=\\\\\"92\\\\\"><classCode>CC00055NZ</classCode><className>GOOGLE INC</className></classificationItem></classification><classification classificationScheme=\\\\\"organization\\\\\"><classificationItem score=\\\\\"84\\\\\"><className>POLICE FOUNDATION</className></classificationItem></classification><classification classificationScheme=\\\\\"industry\\\\\"><classificationItem score=\\\\\"92\\\\\"><className>NAICS519130 INTERNET PUBLISHING &amp; BROADCASTING &amp; WEB SEARCH PORTALS</className></classificationItem></classification></classificationGroup><classificationGroup classificationScheme=\\\\\"indexing-terms\\\\\"><classification classificationScheme=\\\\\"subject\\\\\"><classificationItem score=\\\\\"91\\\\\"><classCode>STX001932</classCode><className>CRIME, LAW ENFORCEMENT &amp; CORRECTIONS</className></classificationItem><classificationItem score=\\\\\"90\\\\\"><classCode>STX000445</classCode><className>DATA PROTECTION LAWS</className></classificationItem><classificationItem score=\\\\\"90\\\\\"><classCode>N922120CC</classCode><className>LAW ENFORCEMENT</className></classificationItem><classificationItem score=\\\\\"90\\\\\"><classCode>ST0009FJK</classCode><className>NEGATIVE PERSONAL NEWS</className></classificationItem><classificationItem score=\\\\\"90\\\\\"><classCode>STX001384</classCode><className>PRIVACY RIGHTS</className></classificationItem><classificationItem score=\\\\\"89\\\\\"><classCode>ST00007237</classCode><className>INVASION OF PRIVACY</className></classificationItem><classificationItem score=\\\\\"89\\\\\"><classCode>STX000969</classCode><className>INVESTIGATIONS</className></classificationItem><classificationItem score=\\\\\"78\\\\\"><classCode>ST000D4JV</classCode><className>CRIMINAL INVESTIGATIONS</className></classificationItem><classificationItem score=\\\\\"78\\\\\"><classCode>ST0008ZGX</classCode><className>CYBERCRIME</className></classificationItem><classificationItem score=\\\\\"78\\\\\"><classCode>ST0008X5W</classCode><className>SPECIAL INVESTIGATIVE FORCES</className></classificationItem><classificationItem score=\\\\\"73\\\\\"><classCode>N922120QM</classCode><className>POLICE FORCES</className></classificationItem></classification><classification classificationScheme=\\\\\"industry\\\\\"><classificationItem score=\\\\\"90\\\\\"><classCode>STX000354</classCode><className>COMPUTER NETWORKS</className></classificationItem><classificationItem score=\\\\\"90\\\\\"><classCode>STX000445</classCode><className>DATA PROTECTION LAWS</className></classificationItem><classificationItem score=\\\\\"90\\\\\"><classCode>STX000954</classCode><className>INTERNET &amp; WWW</className></classificationItem><classificationItem score=\\\\\"90\\\\\"><classCode>N518112MM</classCode><className>WEB SEARCH PORTALS</className></classificationItem><classificationItem score=\\\\\"90\\\\\"><classCode>STX001845</classCode><className>WIRELESS INTERNET ACCESS</className></classificationItem><classificationItem score=\\\\\"89\\\\\"><classCode>STX000962</classCode><className>WEBSITES &amp; PORTALS</className></classificationItem><classificationItem score=\\\\\"89\\\\\"><classCode>ST000CFF0</classCode><className>WIRELESS NETWORKS</className></classificationItem><classificationItem score=\\\\\"78\\\\\"><classCode>ST0008ZGX</classCode><className>CYBERCRIME</className></classificationItem><classificationItem score=\\\\\"78\\\\\"><classCode>STX000580</classCode><className>ELECTRONIC PUBLISHING</className></classificationItem><classificationItem score=\\\\\"78\\\\\"><classCode>STX001881</classCode><className>WIRELESS INDUSTRY</className></classificationItem><classificationItem score=\\\\\"77\\\\\"><classCode>STX001536</classCode><className>SEARCH ENGINES</className></classificationItem></classification><classification classificationScheme=\\\\\"person\\\\\"><classificationItem score=\\\\\"57\\\\\"><classCode>PE0009TJY</classCode><className>JOHN EDWARDS</className></classificationItem></classification><classification classificationScheme=\\\\\"city\\\\\"><classificationItem score=\\\\\"73\\\\\"><classCode>GX234</classCode><className>WELLINGTON, NEW ZEALAND</className></classificationItem></classification><classification classificationScheme=\\\\\"country\\\\\"><classificationItem score=\\\\\"94\\\\\"><classCode>GC351</classCode><className>NEW ZEALAND</className></classificationItem><classificationItem score=\\\\\"91\\\\\"><classCode>GC301</classCode><className>AUSTRALIA</className></classificationItem><classificationItem score=\\\\\"79\\\\\"><classCode>GC339</classCode><className>CANADA</className></classificationItem><classificationItem score=\\\\\"79\\\\\"><classCode>GC318</classCode><className>GERMANY</className></classificationItem></classification></classificationGroup></metadata></articleDoc></content></entry>\",\"Citation\":\"\"\\r\\n      },\"Source\":{\\r\\n        \"Id\":\"\",\"Name\":\"The Dominion Post (Wellington, New Zealand)\",\"ContentType\":\"\",\"Jurisdiction\":null,\"Publisher\":null,\"AlphaCategory\":null\\r\\n      }\\r\\n    }\\r\\n  ],\"@odata.nextLink\":\"https://services-api.lexisnexis.com/v1/News?$expand=Document,Source&$top=10&$filter=Source/Name%20eq%20\\'The%20Dominion%20Post%20(Wellington,%20New%20Zealand)\\'%20and%20year(Date)%20eq%202010&$skip=10&$search=privacy\"\\r\\n}'\n"
     ]
    }
   ],
   "source": [
    "# errors: NYT (blocked request)\n",
    "# to do: REDO NYT\n",
    "# try: The Dominion Post (Wellington, New Zealand)\n",
    "\n",
    "n = \"The Dominion Post (Wellington, New Zealand)\"#\"NYT\"\n",
    "\n",
    "#print_request = 1\n",
    "#for y in [2010]: #years\n",
    "fltr = \"Source/Name eq '\"+ n + \"' and \" + \"year(Date) eq \" + str(2010) + \"\" #newspapers[n]\n",
    "\n",
    "# create request (top maxes at 50)\n",
    "request_url = build_url(content='News', query=QUERY, skip=0, top=10, filter=fltr)\n",
    "\n",
    "#if print_request:\n",
    "print(request_url)\n",
    "#    print_request = 0\n",
    "\n",
    "r = requests.get(request_url, headers=request_headers)\n",
    "print(r.content)\n",
    "#     json_data = r.json() # extract data\n",
    "#     total = get_result_count(json_data) # total articles per given year/newspaper\n",
    "\n",
    "#   print(\"Total\\t\", n[:10], \"-\", y, \": \", total, sep=\"\") \n",
    "#  stats[n][y] = total\n",
    "#sleep(30)"
   ]
  },
  {
   "cell_type": "code",
   "execution_count": 72,
   "metadata": {},
   "outputs": [],
   "source": [
    "with open('privacy_collection_stats.json', 'w') as fp:\n",
    "    json.dump(stats, fp)"
   ]
  },
  {
   "cell_type": "code",
   "execution_count": 73,
   "metadata": {},
   "outputs": [],
   "source": [
    "stats_df = pd.DataFrame.from_dict(stats)"
   ]
  },
  {
   "cell_type": "code",
   "execution_count": 74,
   "metadata": {},
   "outputs": [
    {
     "data": {
      "text/html": [
       "<div>\n",
       "<style scoped>\n",
       "    .dataframe tbody tr th:only-of-type {\n",
       "        vertical-align: middle;\n",
       "    }\n",
       "\n",
       "    .dataframe tbody tr th {\n",
       "        vertical-align: top;\n",
       "    }\n",
       "\n",
       "    .dataframe thead th {\n",
       "        text-align: right;\n",
       "    }\n",
       "</style>\n",
       "<table border=\"1\" class=\"dataframe\">\n",
       "  <thead>\n",
       "    <tr style=\"text-align: right;\">\n",
       "      <th></th>\n",
       "      <th>AFR</th>\n",
       "      <th>AFR-O</th>\n",
       "      <th>DT</th>\n",
       "      <th>DT-O</th>\n",
       "      <th>GM</th>\n",
       "      <th>NYT</th>\n",
       "      <th>NZH</th>\n",
       "      <th>ODT</th>\n",
       "      <th>SMH</th>\n",
       "      <th>SMH-O</th>\n",
       "      <th>TG</th>\n",
       "      <th>TS</th>\n",
       "      <th>TS-O</th>\n",
       "      <th>USA</th>\n",
       "    </tr>\n",
       "  </thead>\n",
       "  <tbody>\n",
       "    <tr>\n",
       "      <th>2010</th>\n",
       "      <td>240</td>\n",
       "      <td>0</td>\n",
       "      <td>580</td>\n",
       "      <td>67</td>\n",
       "      <td>506</td>\n",
       "      <td>511</td>\n",
       "      <td>545</td>\n",
       "      <td>0</td>\n",
       "      <td>557</td>\n",
       "      <td>0</td>\n",
       "      <td>1070</td>\n",
       "      <td>526</td>\n",
       "      <td>1</td>\n",
       "      <td>251</td>\n",
       "    </tr>\n",
       "    <tr>\n",
       "      <th>2011</th>\n",
       "      <td>206</td>\n",
       "      <td>0</td>\n",
       "      <td>562</td>\n",
       "      <td>537</td>\n",
       "      <td>392</td>\n",
       "      <td>377</td>\n",
       "      <td>551</td>\n",
       "      <td>0</td>\n",
       "      <td>659</td>\n",
       "      <td>0</td>\n",
       "      <td>1291</td>\n",
       "      <td>535</td>\n",
       "      <td>0</td>\n",
       "      <td>230</td>\n",
       "    </tr>\n",
       "    <tr>\n",
       "      <th>2012</th>\n",
       "      <td>223</td>\n",
       "      <td>0</td>\n",
       "      <td>738</td>\n",
       "      <td>1529</td>\n",
       "      <td>418</td>\n",
       "      <td>315</td>\n",
       "      <td>862</td>\n",
       "      <td>0</td>\n",
       "      <td>1010</td>\n",
       "      <td>0</td>\n",
       "      <td>1308</td>\n",
       "      <td>520</td>\n",
       "      <td>6</td>\n",
       "      <td>237</td>\n",
       "    </tr>\n",
       "    <tr>\n",
       "      <th>2013</th>\n",
       "      <td>182</td>\n",
       "      <td>0</td>\n",
       "      <td>691</td>\n",
       "      <td>1384</td>\n",
       "      <td>509</td>\n",
       "      <td>516</td>\n",
       "      <td>1102</td>\n",
       "      <td>0</td>\n",
       "      <td>646</td>\n",
       "      <td>244</td>\n",
       "      <td>1564</td>\n",
       "      <td>635</td>\n",
       "      <td>2</td>\n",
       "      <td>337</td>\n",
       "    </tr>\n",
       "    <tr>\n",
       "      <th>2014</th>\n",
       "      <td>283</td>\n",
       "      <td>0</td>\n",
       "      <td>575</td>\n",
       "      <td>1618</td>\n",
       "      <td>549</td>\n",
       "      <td>470</td>\n",
       "      <td>802</td>\n",
       "      <td>0</td>\n",
       "      <td>624</td>\n",
       "      <td>239</td>\n",
       "      <td>1384</td>\n",
       "      <td>1073</td>\n",
       "      <td>2</td>\n",
       "      <td>244</td>\n",
       "    </tr>\n",
       "    <tr>\n",
       "      <th>2015</th>\n",
       "      <td>207</td>\n",
       "      <td>10</td>\n",
       "      <td>586</td>\n",
       "      <td>1182</td>\n",
       "      <td>527</td>\n",
       "      <td>475</td>\n",
       "      <td>484</td>\n",
       "      <td>0</td>\n",
       "      <td>544</td>\n",
       "      <td>703</td>\n",
       "      <td>2236</td>\n",
       "      <td>718</td>\n",
       "      <td>1</td>\n",
       "      <td>218</td>\n",
       "    </tr>\n",
       "    <tr>\n",
       "      <th>2016</th>\n",
       "      <td>206</td>\n",
       "      <td>191</td>\n",
       "      <td>503</td>\n",
       "      <td>2022</td>\n",
       "      <td>573</td>\n",
       "      <td>471</td>\n",
       "      <td>562</td>\n",
       "      <td>0</td>\n",
       "      <td>530</td>\n",
       "      <td>588</td>\n",
       "      <td>2388</td>\n",
       "      <td>804</td>\n",
       "      <td>3</td>\n",
       "      <td>257</td>\n",
       "    </tr>\n",
       "    <tr>\n",
       "      <th>2017</th>\n",
       "      <td>254</td>\n",
       "      <td>161</td>\n",
       "      <td>448</td>\n",
       "      <td>937</td>\n",
       "      <td>466</td>\n",
       "      <td>230</td>\n",
       "      <td>681</td>\n",
       "      <td>0</td>\n",
       "      <td>371</td>\n",
       "      <td>362</td>\n",
       "      <td>739</td>\n",
       "      <td>519</td>\n",
       "      <td>180</td>\n",
       "      <td>190</td>\n",
       "    </tr>\n",
       "    <tr>\n",
       "      <th>2018</th>\n",
       "      <td>326</td>\n",
       "      <td>300</td>\n",
       "      <td>734</td>\n",
       "      <td>957</td>\n",
       "      <td>672</td>\n",
       "      <td>323</td>\n",
       "      <td>857</td>\n",
       "      <td>99</td>\n",
       "      <td>506</td>\n",
       "      <td>657</td>\n",
       "      <td>1195</td>\n",
       "      <td>812</td>\n",
       "      <td>566</td>\n",
       "      <td>239</td>\n",
       "    </tr>\n",
       "    <tr>\n",
       "      <th>2019</th>\n",
       "      <td>299</td>\n",
       "      <td>303</td>\n",
       "      <td>664</td>\n",
       "      <td>1200</td>\n",
       "      <td>543</td>\n",
       "      <td>377</td>\n",
       "      <td>967</td>\n",
       "      <td>73</td>\n",
       "      <td>436</td>\n",
       "      <td>536</td>\n",
       "      <td>1129</td>\n",
       "      <td>777</td>\n",
       "      <td>1511</td>\n",
       "      <td>188</td>\n",
       "    </tr>\n",
       "    <tr>\n",
       "      <th>2020</th>\n",
       "      <td>323</td>\n",
       "      <td>340</td>\n",
       "      <td>689</td>\n",
       "      <td>1519</td>\n",
       "      <td>484</td>\n",
       "      <td>293</td>\n",
       "      <td>846</td>\n",
       "      <td>57</td>\n",
       "      <td>359</td>\n",
       "      <td>356</td>\n",
       "      <td>1195</td>\n",
       "      <td>669</td>\n",
       "      <td>1752</td>\n",
       "      <td>199</td>\n",
       "    </tr>\n",
       "  </tbody>\n",
       "</table>\n",
       "</div>"
      ],
      "text/plain": [
       "      AFR  AFR-O   DT  DT-O   GM  NYT   NZH  ODT   SMH  SMH-O    TG    TS  \\\n",
       "2010  240      0  580    67  506  511   545    0   557      0  1070   526   \n",
       "2011  206      0  562   537  392  377   551    0   659      0  1291   535   \n",
       "2012  223      0  738  1529  418  315   862    0  1010      0  1308   520   \n",
       "2013  182      0  691  1384  509  516  1102    0   646    244  1564   635   \n",
       "2014  283      0  575  1618  549  470   802    0   624    239  1384  1073   \n",
       "2015  207     10  586  1182  527  475   484    0   544    703  2236   718   \n",
       "2016  206    191  503  2022  573  471   562    0   530    588  2388   804   \n",
       "2017  254    161  448   937  466  230   681    0   371    362   739   519   \n",
       "2018  326    300  734   957  672  323   857   99   506    657  1195   812   \n",
       "2019  299    303  664  1200  543  377   967   73   436    536  1129   777   \n",
       "2020  323    340  689  1519  484  293   846   57   359    356  1195   669   \n",
       "\n",
       "      TS-O  USA  \n",
       "2010     1  251  \n",
       "2011     0  230  \n",
       "2012     6  237  \n",
       "2013     2  337  \n",
       "2014     2  244  \n",
       "2015     1  218  \n",
       "2016     3  257  \n",
       "2017   180  190  \n",
       "2018   566  239  \n",
       "2019  1511  188  \n",
       "2020  1752  199  "
      ]
     },
     "execution_count": 74,
     "metadata": {},
     "output_type": "execute_result"
    }
   ],
   "source": [
    "stats_df"
   ]
  },
  {
   "cell_type": "code",
   "execution_count": 75,
   "metadata": {},
   "outputs": [],
   "source": [
    "stats_df.to_csv(\"privacy_stats.csv\")"
   ]
  },
  {
   "cell_type": "code",
   "execution_count": 4,
   "metadata": {},
   "outputs": [],
   "source": [
    "# L/N API helper functions provided by the database service \n",
    "\n",
    "def get_token(client_id, secret):\n",
    "    \"\"\"Gets Authorizaton token to use in other requests.\"\"\"\n",
    "    auth_url = 'https://auth-api.lexisnexis.com/oauth/v2/token' \n",
    "    payload = ('grant_type=client_credentials&scope=http%3a%2f%2f'\n",
    "                'oauth.lexisnexis.com%2fall')\n",
    "    headers = {'Content-Type': 'application/x-www-form-urlencoded'}\n",
    "    r = requests.post(\n",
    "            auth_url,\n",
    "            auth=HTTPBasicAuth(client_id, secret),\n",
    "            headers=headers,\n",
    "            data=payload)\n",
    "    json_data = r.json()\n",
    "    print(\"Token retrieved successfully.\")\n",
    "    return json_data['access_token']\n",
    "\n",
    "\n",
    "def build_url(content='News', query='', skip=0, expand='Document', top=50, filter=None):\n",
    "    \"\"\"Builds the URL part of the request to Web Services API.\"\"\"\n",
    "    if filter != None:\n",
    "        api_url = ('https://services-api.lexisnexis.com/v1/' + content +\n",
    "                    '?$expand=' + expand + '&$search=' + query +\n",
    "                    '&$skip=' + str(skip) + '&$top=' + str(top) +\n",
    "                    '&$filter=' + filter)\n",
    "    else:\n",
    "        api_url = ('https://services-api.lexisnexis.com/v1/' + content +\n",
    "                    '?$expand=' + expand + '&$search=' + query +\n",
    "                    '&$skip=' + str(skip) + '&$top=' + str(top))\n",
    "    return api_url\n",
    "\n",
    "\n",
    "\n",
    "def build_header(token):\n",
    "    \"\"\"Builds the headers part of the request to Web Services API.\"\"\"\n",
    "    headers = {'Accept': 'application/json;odata.metadata=minimal',\n",
    "                'Connection': 'Keep-Alive',\n",
    "                'Host': 'services-api.lexisnexis.com'}\n",
    "    headers['Authorization'] = 'Bearer ' + token\n",
    "    return headers\n",
    "\n",
    "\n",
    "def get_result_count(json_data):\n",
    "    \"\"\"Gets the number of results from @odata.count in the response\"\"\"\n",
    "    return json_data['@odata.count']\n",
    "\n",
    "\n",
    "def time_now():\n",
    "    \"\"\"Gets current time to the second.\"\"\"\n",
    "    now = datetime.now()\n",
    "    return now.strftime('%Y-%m-%d-%H%M%S')"
   ]
  },
  {
   "cell_type": "code",
   "execution_count": null,
   "metadata": {},
   "outputs": [],
   "source": []
  },
  {
   "cell_type": "code",
   "execution_count": null,
   "metadata": {},
   "outputs": [],
   "source": []
  },
  {
   "cell_type": "code",
   "execution_count": null,
   "metadata": {},
   "outputs": [],
   "source": []
  },
  {
   "cell_type": "code",
   "execution_count": null,
   "metadata": {},
   "outputs": [],
   "source": []
  },
  {
   "cell_type": "code",
   "execution_count": null,
   "metadata": {},
   "outputs": [],
   "source": []
  },
  {
   "cell_type": "code",
   "execution_count": null,
   "metadata": {},
   "outputs": [],
   "source": []
  },
  {
   "cell_type": "code",
   "execution_count": null,
   "metadata": {},
   "outputs": [],
   "source": []
  },
  {
   "cell_type": "code",
   "execution_count": null,
   "metadata": {},
   "outputs": [],
   "source": []
  },
  {
   "cell_type": "code",
   "execution_count": null,
   "metadata": {},
   "outputs": [],
   "source": []
  },
  {
   "cell_type": "code",
   "execution_count": null,
   "metadata": {},
   "outputs": [],
   "source": []
  },
  {
   "cell_type": "code",
   "execution_count": null,
   "metadata": {},
   "outputs": [],
   "source": []
  },
  {
   "cell_type": "code",
   "execution_count": null,
   "metadata": {},
   "outputs": [],
   "source": []
  }
 ],
 "metadata": {
  "kernelspec": {
   "display_name": "Python 3",
   "language": "python",
   "name": "python3"
  },
  "language_info": {
   "codemirror_mode": {
    "name": "ipython",
    "version": 3
   },
   "file_extension": ".py",
   "mimetype": "text/x-python",
   "name": "python",
   "nbconvert_exporter": "python",
   "pygments_lexer": "ipython3",
   "version": "3.5.2"
  }
 },
 "nbformat": 4,
 "nbformat_minor": 2
}
