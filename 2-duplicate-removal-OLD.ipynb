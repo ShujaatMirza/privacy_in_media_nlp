{
 "cells": [
  {
   "cell_type": "code",
   "execution_count": 12,
   "metadata": {},
   "outputs": [],
   "source": [
    "# modules\n",
    "# import basics\n",
    "import os\n",
    "import re\n",
    "import csv\n",
    "import json\n",
    "import time\n",
    "# import requests\n",
    "import numpy as np\n",
    "import pandas as pd\n",
    "\n",
    "from time import sleep\n",
    "from datetime import datetime, timedelta \n",
    "from dotenv import load_dotenv\n",
    "from matplotlib import pyplot as plt\n",
    "\n",
    "from sklearn.metrics.pairwise import cosine_similarity\n",
    "from sklearn.feature_extraction.text import CountVectorizer\n",
    "#from requests.auth import HTTPBasicAuth\n",
    "\n",
    "# text processing dependencies\n",
    "# from bs4 import BeautifulSoup\n",
    "# from boilerpy3 import extractors\n",
    "\n",
    "# mysql dependencies\n",
    "import mysql.connector"
   ]
  },
  {
   "cell_type": "code",
   "execution_count": 13,
   "metadata": {},
   "outputs": [],
   "source": [
    "# initialize variables\n",
    "\n",
    "load_dotenv(override=True)\n",
    "\n",
    "# mysql credentials\n",
    "PASSWORD = os.getenv(\"PASSWORD\")\n",
    "USER = os.getenv(\"USER\")"
   ]
  },
  {
   "cell_type": "code",
   "execution_count": 14,
   "metadata": {},
   "outputs": [],
   "source": [
    "# connect to db\n",
    "import mysql.connector\n",
    "\n",
    "mydb = mysql.connector.connect(\n",
    "  host=\"127.0.0.1\",\n",
    "  user=USER,\n",
    "  password=PASSWORD,\n",
    "  database=\"mpp21\"\n",
    ")\n",
    "\n",
    "mycursor = mydb.cursor()"
   ]
  },
  {
   "cell_type": "code",
   "execution_count": 139,
   "metadata": {},
   "outputs": [],
   "source": [
    "# read newspaper info \n",
    "\n",
    "newspapers = {}\n",
    "\n",
    "with open('./newspapers-collected.csv', 'r') as f:\n",
    "        reader = csv.reader(f)\n",
    "        for r in reader:\n",
    "            newspapers[r[0]] = r[1]"
   ]
  },
  {
   "cell_type": "code",
   "execution_count": 140,
   "metadata": {},
   "outputs": [],
   "source": [
    "# db methods\n",
    "def select_within_range(curs, db, n):\n",
    "    \n",
    "    curs.execute(\"SELECT article_id, title, date FROM articles WHERE newspaper = '\" + n + \"' AND date >= '\" + timeframe_start + \"' AND date <= '\" + timeframe_end + \"'\") \n",
    "    \n",
    "    arts = {}\n",
    "    result = curs.fetchall()\n",
    "    for r in result:\n",
    "        arts[r[0]] = {\n",
    "            \"title\": r[1],\n",
    "            \"date\": r[2]\n",
    "        }\n",
    "    \n",
    "    return arts"
   ]
  },
  {
   "cell_type": "code",
   "execution_count": 141,
   "metadata": {},
   "outputs": [
    {
     "data": {
      "text/plain": [
       "{'AFR': 'Australian Financial Review',\n",
       " 'DT': 'The Daily Telegraph (London)',\n",
       " 'GM': 'The Globe and Mail (Canada)',\n",
       " 'NYT': 'The New York Times - International Edition',\n",
       " 'NZH': 'The New Zealand Herald',\n",
       " 'SMH': 'Sydney Morning Herald (Australia)',\n",
       " 'TDP': 'The Dominion Post (Wellington',\n",
       " 'TG': 'The Guardian (London)',\n",
       " 'TS': 'The Toronto Star',\n",
       " 'USA': 'USA Today'}"
      ]
     },
     "execution_count": 141,
     "metadata": {},
     "output_type": "execute_result"
    }
   ],
   "source": [
    "newspapers"
   ]
  },
  {
   "cell_type": "code",
   "execution_count": 142,
   "metadata": {},
   "outputs": [],
   "source": [
    "weeks = []\n",
    "\n",
    "timeframe_start = datetime.date(datetime(2018,1,1))\n",
    "timeframe_end = datetime.date(datetime(2018,6,30))\n",
    "\n",
    "dt = timeframe_start\n",
    "\n",
    "while dt <= timeframe_end:\n",
    "    \n",
    "    weeks.append((dt, dt + timedelta(days=6))) # (start, end)\n",
    "    dt += timedelta(days=7) # move to next week"
   ]
  },
  {
   "cell_type": "code",
   "execution_count": 143,
   "metadata": {},
   "outputs": [
    {
     "data": {
      "text/plain": [
       "26"
      ]
     },
     "execution_count": 143,
     "metadata": {},
     "output_type": "execute_result"
    }
   ],
   "source": [
    "len(weeks)"
   ]
  },
  {
   "cell_type": "code",
   "execution_count": 144,
   "metadata": {},
   "outputs": [],
   "source": [
    "timeframe_start = '2018-01-01'#datetime.strftime(datetime(2018,1,1), '%Y-%m-%d')\n",
    "timeframe_end = '2018-06-30'#datetime.strftime(datetime(2018,3,1), '%Y-%m-%d')"
   ]
  },
  {
   "cell_type": "code",
   "execution_count": 145,
   "metadata": {},
   "outputs": [],
   "source": [
    "# get articles for newspaper n in range\n",
    "\n",
    "articles = {}\n",
    "for n in newspapers.keys():\n",
    "    articles[n] = {}\n",
    "\n",
    "for n in articles.keys():\n",
    "    articles[n] = select_within_range(mycursor, mydb, n)"
   ]
  },
  {
   "cell_type": "code",
   "execution_count": 146,
   "metadata": {},
   "outputs": [],
   "source": [
    "def group_by_week(n):\n",
    "    \n",
    "    group = {}\n",
    "\n",
    "    ctr = 1 # week\n",
    "\n",
    "    for w in range(len(weeks)):\n",
    "        group[\"week_\" +str(w + 1) + \"\"] = []\n",
    "\n",
    "    for week in weeks:\n",
    "        for i in articles[n].keys():\n",
    "\n",
    "            if articles[n][i][\"date\"] >= week[0] and articles[n][i][\"date\"] <= week[1]:\n",
    "                dc = {\"id\": i,\n",
    "                      \"date\": articles[n][i][\"date\"],\n",
    "                      \"title\": articles[n][i][\"title\"]                    \n",
    "                }\n",
    "                group[\"week_\" +str(ctr) + \"\"].append(dc)\n",
    "        ctr += 1\n",
    "        \n",
    "    return group"
   ]
  },
  {
   "cell_type": "code",
   "execution_count": 147,
   "metadata": {},
   "outputs": [],
   "source": [
    "groups = {}\n",
    "for n in articles.keys():\n",
    "    groups[n] = group_by_week(n)"
   ]
  },
  {
   "cell_type": "code",
   "execution_count": 148,
   "metadata": {},
   "outputs": [],
   "source": [
    "titles = {}\n",
    "\n",
    "\n",
    "for n in groups.keys():\n",
    "    titles[n] = {}\n",
    "    for w in groups[n].keys():\n",
    "        titles[n][w] = []\n",
    "        for entry in groups[n][w]:\n",
    "            titles[n][w].append(entry[\"title\"])"
   ]
  },
  {
   "cell_type": "code",
   "execution_count": null,
   "metadata": {},
   "outputs": [],
   "source": []
  },
  {
   "cell_type": "code",
   "execution_count": null,
   "metadata": {},
   "outputs": [],
   "source": []
  },
  {
   "cell_type": "code",
   "execution_count": 149,
   "metadata": {},
   "outputs": [],
   "source": [
    "def get_cosine_similarity_week(docs): # docs = list of titles\n",
    "\n",
    "    # doc term matrix\n",
    "    count_vectorizer = CountVectorizer(stop_words='english')\n",
    "    count_vectorizer = CountVectorizer()\n",
    "    sparse_matrix = count_vectorizer.fit_transform(docs)\n",
    "\n",
    "    return cosine_similarity(sparse_matrix, sparse_matrix)\n",
    "\n",
    "\n",
    "def display_cosine_similarity_results(res):\n",
    "    \n",
    "    results = [round(r, 3) for r in res.flatten()]\n",
    "        \n",
    "    return sorted(results) "
   ]
  },
  {
   "cell_type": "code",
   "execution_count": 151,
   "metadata": {},
   "outputs": [],
   "source": [
    "#result = get_cosine_similarity_week(titles[\"TS\"][\"week_10\"])\n",
    "#results = display_cosine_similarity_results(result) # returned as set\n",
    "#results"
   ]
  },
  {
   "cell_type": "code",
   "execution_count": 152,
   "metadata": {},
   "outputs": [],
   "source": [
    "def cos_sim(x, y):\n",
    "    \n",
    "    count_vectorizer = CountVectorizer(stop_words='english')\n",
    "    count_vectorizer = CountVectorizer()\n",
    "    sparse_matrix = count_vectorizer.fit_transform([x, y])\n",
    "\n",
    "    return cosine_similarity(sparse_matrix, sparse_matrix)[0] \n",
    "    # returns first row i.e. x vs y (second is y vs x)"
   ]
  },
  {
   "cell_type": "code",
   "execution_count": 124,
   "metadata": {},
   "outputs": [],
   "source": [
    "duplicate_titles = {}"
   ]
  },
  {
   "cell_type": "code",
   "execution_count": 153,
   "metadata": {
    "scrolled": true
   },
   "outputs": [],
   "source": [
    "def get_similarity_distribution_weeks():\n",
    "    \n",
    "    cosines = []\n",
    "    \n",
    "    for n in newspapers.keys(): # for each newspaper\n",
    "        #duplicate_titles[n] = {}\n",
    "        for w in groups[n].keys(): # for each week\n",
    "            #duplicate_titles[n][w] = []\n",
    "            pairs_in = []\n",
    "            for a1 in groups[n][w]: # for articles within that week\n",
    "                for a2 in groups[n][w]: # compared with articles within that week\n",
    "                    try:\n",
    "                        cs = cos_sim(a1[\"title\"], a2[\"title\"]) # get similarity between articles' titles\n",
    "                        if a1[\"id\"] != a2[\"id\"]: # if it's not the same article\n",
    "                            if sorted((a1[\"id\"], a2[\"id\"])) not in pairs_in: # if the pairs has not already been compared\n",
    "                                pairs_in.append(sorted((a1[\"id\"], a2[\"id\"]))) # add pair\n",
    "                                cosines.append(cs[1]) # add similarity index\n",
    "                    except:\n",
    "                        print(\"error\")\n",
    "                        pass\n",
    "                    \n",
    "    return cosines"
   ]
  },
  {
   "cell_type": "code",
   "execution_count": 154,
   "metadata": {},
   "outputs": [],
   "source": [
    "cosines_period = get_similarity_distribution_weeks()"
   ]
  },
  {
   "cell_type": "code",
   "execution_count": 190,
   "metadata": {},
   "outputs": [],
   "source": [
    "pd.DataFrame(cosines_period).to_csv(\"cosines_2018.csv\", header=None, index=None)"
   ]
  },
  {
   "cell_type": "code",
   "execution_count": 278,
   "metadata": {},
   "outputs": [],
   "source": [
    "def display_aggregated_similarity(agg):\n",
    "    \n",
    "    #plt.figure(figsize=(8,8),facecolor='red',edgecolor='blue')\n",
    "    fig,ax = plt.subplots(figsize=(10, 6), constrained_layout=True)\n",
    "    \n",
    "    a = list(agg)\n",
    "    ax.hist(a, bins = [0,0.1,0.2,0.3,0.4,0.5,0.6,0.7,0.8,0.9,1.0], \n",
    "            histtype=\"step\",  color=\"#87111d\", alpha=0.45, edgecolor=\"#87111d\", linewidth=3.2)\n",
    "    #ax.set_title(\"histogram of aggregated cosine similarity for 6 months (all newspapers)\", fontsize=24)\n",
    "    ax.set_xticks([0,0.1,0.2,0.3,0.4,0.5,0.6,0.7,0.8,0.9,1.0])\n",
    "    ax.set_xlabel('cosine similarity score', fontsize=20)\n",
    "    ax.set_ylabel('frequency of similarity score values', fontsize=20)\n",
    "    ax.set_yticks([0,10,100,1000,10000])\n",
    "    ax.set_yticklabels([0,10,100,1000,10000], fontsize=20)\n",
    "    ax.set_xticklabels([0,0.1,0.2,0.3,0.4,0.5,0.6,0.7,0.8,0.9,1.0], fontsize=20) \n",
    "    plt.yscale(\"log\")   \n",
    "\n",
    "    #plt.xlim(40, 160)\n",
    "#     plt.ylim(0, 30000)\n",
    "   ## ax.spines['top'].set_visible(False)\n",
    "    ##ax.spines['right'].set_visible(False)\n",
    "\n",
    "    #plt.grid(True)\n",
    "    plt.show()\n",
    "    \n",
    "    return "
   ]
  },
  {
   "cell_type": "code",
   "execution_count": 279,
   "metadata": {},
   "outputs": [
    {
     "data": {
      "image/png": "[encoded data removed]",
      "text/plain": [
       "<Figure size 720x432 with 1 Axes>"
      ]
     },
     "metadata": {
      "needs_background": "light"
     },
     "output_type": "display_data"
    }
   ],
   "source": [
    "display_aggregated_similarity(cosines_period)"
   ]
  },
  {
   "cell_type": "code",
   "execution_count": null,
   "metadata": {},
   "outputs": [],
   "source": []
  },
  {
   "cell_type": "code",
   "execution_count": null,
   "metadata": {},
   "outputs": [],
   "source": []
  },
  {
   "cell_type": "code",
   "execution_count": null,
   "metadata": {},
   "outputs": [],
   "source": []
  },
  {
   "cell_type": "code",
   "execution_count": null,
   "metadata": {},
   "outputs": [],
   "source": []
  },
  {
   "cell_type": "code",
   "execution_count": 134,
   "metadata": {},
   "outputs": [],
   "source": [
    "def get_similarities_over_threshold(t):\n",
    "\n",
    "    #all_titles = {}\n",
    "    cosines = []\n",
    "    tres_arts = []\n",
    "\n",
    "    #dups = 0\n",
    "    #ttls = []\n",
    "    for n in newspapers.keys():\n",
    "        #all_titles[n] = {}\n",
    "        for w in groups[n].keys(): # for each week\n",
    "            #all_titles[n][w] = []\n",
    "            pairs_in = []\n",
    "            for a1 in groups[n][w]: # for articles within that week\n",
    "                for a2 in groups[n][w]:\n",
    "                    try:\n",
    "                        cs = cos_sim(a1[\"title\"], a2[\"title\"])\n",
    "                        if cs[1] >= t and cs[1] < 0.8:# and cs[1] < 0.9:\n",
    "\n",
    "                            if a1[\"id\"] != a2[\"id\"]:\n",
    "\n",
    "                                if sorted((a1[\"id\"], a2[\"id\"])) not in pairs_in:\n",
    "                                    #all_titles[n][w].append((a1, a2))\n",
    "                                    pairs_in.append(sorted((a1[\"id\"], a2[\"id\"])))\n",
    "                                    #ttls.append(a1[\"title\"])\n",
    "                                    cosines.append(cs[1])\n",
    "                                    tres_arts.append((a1, a2))\n",
    "                                   # print(cs[1], a1[\"id\"], a2[\"id\"])\n",
    "                    except:\n",
    "                        pass\n",
    "            #dups += len(pairs_in)\n",
    "    return cosines, tres_arts"
   ]
  },
  {
   "cell_type": "code",
   "execution_count": 135,
   "metadata": {},
   "outputs": [
    {
     "name": "stdout",
     "output_type": "stream",
     "text": [
      "0.7436508613923036 TG_7571 TG_7570\n",
      "0.7899531467283196 TG_7571 TG_7572\n",
      "0.7882407813680823 TG_7874 TG_7875\n",
      "0.7896267896853093 TG_7037 TG_8471\n",
      "0.7064063285320279 TG_8034 TG_8035\n",
      "0.7832178030674114 TG_6628 TG_6675\n",
      "0.777777777777778 TG_8294 TG_8144\n",
      "0.777777777777778 TG_8144 TG_8292\n",
      "0.777777777777778 TG_8144 TG_8293\n",
      "0.7915543352055223 TG_8462 TG_8459\n",
      "0.7091389668510999 TG_6767 TG_6761\n",
      "0.7915543352055223 TG_8461 TG_8459\n",
      "0.7091389668510999 TG_6769 TG_6761\n",
      "0.7091389668510999 TG_6761 TG_6768\n",
      "0.7915543352055223 TG_8460 TG_8459\n",
      "0.7035264706814485 DT_3160 DT_3249\n",
      "0.7905694150420948 TS_3652 TS_3613\n",
      "0.7500000000000002 TS_3763 TS_3764\n",
      "0.7272727272727274 GM_2425 GM_2424\n"
     ]
    }
   ],
   "source": [
    "cosines_threshold, threshold_articles = get_similarities_over_threshold(0.7)"
   ]
  },
  {
   "cell_type": "code",
   "execution_count": 138,
   "metadata": {
    "scrolled": false
   },
   "outputs": [],
   "source": [
    "# ct = 1\n",
    "# for i in threshold_articles:\n",
    "#     print(ct)\n",
    "#     print(i[0][\"title\"])\n",
    "#     print\n",
    "#     print(i[1][\"title\"])\n",
    "#     print(\"------------------------------------------------\")\n",
    "#     ct += 1\n"
   ]
  },
  {
   "cell_type": "code",
   "execution_count": 111,
   "metadata": {},
   "outputs": [
    {
     "data": {
      "text/plain": [
       "({'date': datetime.date(2018, 3, 22),\n",
       "  'id': 'TG_11988',\n",
       "  'title': \"'They were given an inch and took 100 miles': readers on Cambridge Analytica, Facebook and privacy;We asked you whether you're thinking of deleting your Facebook account and to share your thoughts on data privacy\"},\n",
       " {'date': datetime.date(2018, 3, 21),\n",
       "  'id': 'TG_11989',\n",
       "  'title': \"Are you leaving Facebook? Share your concerns on privacy with us;We'd like to hear your thoughts on Facebook, privacy and the Cambridge Analytica files\"})"
      ]
     },
     "execution_count": 111,
     "metadata": {},
     "output_type": "execute_result"
    }
   ],
   "source": [
    "threshold_articles[9]"
   ]
  },
  {
   "cell_type": "code",
   "execution_count": 136,
   "metadata": {},
   "outputs": [
    {
     "data": {
      "image/png": "[encoded data removed]",
      "text/plain": [
       "<Figure size 1296x720 with 1 Axes>"
      ]
     },
     "metadata": {
      "needs_background": "light"
     },
     "output_type": "display_data"
    }
   ],
   "source": [
    "display_aggregated_similarity(cosines_threshold)"
   ]
  },
  {
   "cell_type": "code",
   "execution_count": 82,
   "metadata": {},
   "outputs": [
    {
     "data": {
      "text/plain": [
       "[0.700404195972475,\n",
       " 0.733358797622569,\n",
       " 0.733358797622569,\n",
       " 0.7041868508280461,\n",
       " 0.7171087882915775,\n",
       " 0.7222222222222224,\n",
       " 0.775217091182553,\n",
       " 0.7071067811865475,\n",
       " 0.7462025072446364]"
      ]
     },
     "execution_count": 82,
     "metadata": {},
     "output_type": "execute_result"
    }
   ],
   "source": [
    "cosines_threshold"
   ]
  },
  {
   "cell_type": "code",
   "execution_count": 68,
   "metadata": {},
   "outputs": [],
   "source": [
    "# db methods\n",
    "def select_test(curs, db, a):\n",
    "    \n",
    "    curs.execute(\"SELECT article_id, title, date, content FROM articles WHERE article_id = '\" + a +\"'\") \n",
    "    \n",
    "    arts = {}\n",
    "    result = curs.fetchall()\n",
    "    for r in result:\n",
    "        arts[r[0]] = {\n",
    "            \"title\": r[1],\n",
    "            \"date\": r[2],\n",
    "            \"content\": r[3]\n",
    "        }\n",
    "    \n",
    "    return arts[r[0]]"
   ]
  },
  {
   "cell_type": "code",
   "execution_count": null,
   "metadata": {},
   "outputs": [],
   "source": []
  },
  {
   "cell_type": "code",
   "execution_count": 35,
   "metadata": {},
   "outputs": [],
   "source": [
    "aggregated_similarities = []\n",
    "\n",
    "for n in titles.keys():\n",
    "    for w in titles[n].keys():\n",
    "        res = get_cosine_similarity_week(titles[n][w]) # get similarities for newspaper n during week w\n",
    "        # format them\n",
    "        results = [round(r, 3) for r in res.flatten()] # sorted() ?\n",
    "        \n",
    "        for i in results:\n",
    "            aggregated_similarities.append(i)"
   ]
  },
  {
   "cell_type": "code",
   "execution_count": 47,
   "metadata": {},
   "outputs": [],
   "source": [
    "total_articles = 0\n",
    "for i in articles.keys():\n",
    "    total_articles += len(articles[i])"
   ]
  },
  {
   "cell_type": "code",
   "execution_count": 266,
   "metadata": {},
   "outputs": [],
   "source": [
    "#display_aggregated_similarity(aggregated_similarities)"
   ]
  },
  {
   "cell_type": "code",
   "execution_count": null,
   "metadata": {},
   "outputs": [],
   "source": []
  },
  {
   "cell_type": "code",
   "execution_count": null,
   "metadata": {},
   "outputs": [],
   "source": []
  },
  {
   "cell_type": "code",
   "execution_count": null,
   "metadata": {},
   "outputs": [],
   "source": []
  },
  {
   "cell_type": "code",
   "execution_count": null,
   "metadata": {},
   "outputs": [],
   "source": []
  },
  {
   "cell_type": "code",
   "execution_count": null,
   "metadata": {},
   "outputs": [],
   "source": []
  },
  {
   "cell_type": "markdown",
   "metadata": {},
   "source": [
    "## SAME FOR MONTHS"
   ]
  },
  {
   "cell_type": "code",
   "execution_count": 267,
   "metadata": {},
   "outputs": [],
   "source": [
    "months = [\n",
    "    (datetime.date(datetime(2018,1,1)), datetime.date(datetime(2018,1,31))),\n",
    "     (datetime.date(datetime(2018,2,1)), datetime.date(datetime(2018,2,28))),\n",
    "     (datetime.date(datetime(2018,3,1)), datetime.date(datetime(2018,3,31))),\n",
    "     (datetime.date(datetime(2018,4,1)), datetime.date(datetime(2018,4,30))),\n",
    "     (datetime.date(datetime(2018,5,1)), datetime.date(datetime(2018,5,31))),\n",
    "     (datetime.date(datetime(2018,6,1)), datetime.date(datetime(2018,6,30))),   \n",
    "    \n",
    "]\n"
   ]
  },
  {
   "cell_type": "code",
   "execution_count": 268,
   "metadata": {},
   "outputs": [],
   "source": [
    "def group_by_month(n):\n",
    "    \n",
    "    group = {}\n",
    "\n",
    "    ctr = 1 # week\n",
    "\n",
    "    for m in range(len(months)):\n",
    "        group[\"month_\" +str(m + 1) + \"\"] = []\n",
    "\n",
    "    for month in months:\n",
    "        for i in articles[n].keys():\n",
    "\n",
    "            if articles[n][i][\"date\"] >= month[0] and articles[n][i][\"date\"] <= month[1]:\n",
    "                dc = {\"id\": i,\n",
    "                      \"date\": articles[n][i][\"date\"],\n",
    "                      \"title\": articles[n][i][\"title\"]                    \n",
    "                }\n",
    "                group[\"month_\" +str(ctr) + \"\"].append(dc)\n",
    "        ctr += 1\n",
    "        \n",
    "    return group"
   ]
  },
  {
   "cell_type": "code",
   "execution_count": 281,
   "metadata": {},
   "outputs": [],
   "source": [
    "groups_months = {}\n",
    "for n in articles.keys():\n",
    "    groups_months[n] = group_by_month(n)"
   ]
  },
  {
   "cell_type": "code",
   "execution_count": 319,
   "metadata": {},
   "outputs": [],
   "source": [
    "all_titles_months = {}\n",
    "cosines_months = []\n",
    "ttls2 = [] \n",
    "for n in newspapers.keys():\n",
    "    all_titles_months[n] = {}\n",
    "    for m in groups_months[n].keys(): # for each month\n",
    "        all_titles_months[n][m] = []\n",
    "        pairs_in = []\n",
    "        for a1 in groups_months[n][m]: # for articles within that month\n",
    "            for a2 in groups_months[n][m]:\n",
    "                cs = cos_sim(a1[\"title\"], a2[\"title\"])\n",
    "                if cs[1] >= 0.7:# and cs[1] < 0.9:\n",
    "\n",
    "                    if a1[\"id\"] != a2[\"id\"]:\n",
    "\n",
    "                        if sorted((a1[\"id\"], a2[\"id\"])) not in pairs_in:\n",
    "\n",
    "                            all_titles_months[n][m].append((a1, a2))\n",
    "                            pairs_in.append(sorted((a1[\"id\"], a2[\"id\"])))\n",
    "                            ttls2.append(a1[\"title\"])\n",
    "                            cosines_months.append(cs[1])\n"
   ]
  },
  {
   "cell_type": "code",
   "execution_count": 320,
   "metadata": {},
   "outputs": [
    {
     "data": {
      "text/plain": [
       "213"
      ]
     },
     "execution_count": 320,
     "metadata": {},
     "output_type": "execute_result"
    }
   ],
   "source": [
    "len(ttls2)"
   ]
  },
  {
   "cell_type": "code",
   "execution_count": 321,
   "metadata": {},
   "outputs": [
    {
     "data": {
      "text/plain": [
       "180"
      ]
     },
     "execution_count": 321,
     "metadata": {},
     "output_type": "execute_result"
    }
   ],
   "source": [
    "len(set(ttls2))"
   ]
  },
  {
   "cell_type": "code",
   "execution_count": 312,
   "metadata": {},
   "outputs": [
    {
     "data": {
      "image/png": "[encoded data removed]",
      "text/plain": [
       "<Figure size 1296x720 with 1 Axes>"
      ]
     },
     "metadata": {
      "needs_background": "light"
     },
     "output_type": "display_data"
    }
   ],
   "source": [
    "display_aggregated_similarity(cosines_months)"
   ]
  },
  {
   "cell_type": "code",
   "execution_count": 302,
   "metadata": {},
   "outputs": [
    {
     "data": {
      "text/plain": [
       "55"
      ]
     },
     "execution_count": 302,
     "metadata": {},
     "output_type": "execute_result"
    }
   ],
   "source": [
    "len(groups_months[\"TS\"][\"month_6\"])"
   ]
  },
  {
   "cell_type": "code",
   "execution_count": 300,
   "metadata": {},
   "outputs": [
    {
     "data": {
      "text/plain": [
       "2525.0"
      ]
     },
     "execution_count": 300,
     "metadata": {},
     "output_type": "execute_result"
    }
   ],
   "source": [
    "50 * 101 / 2"
   ]
  },
  {
   "cell_type": "code",
   "execution_count": 301,
   "metadata": {},
   "outputs": [
    {
     "data": {
      "text/plain": [
       "35537"
      ]
     },
     "execution_count": 301,
     "metadata": {},
     "output_type": "execute_result"
    }
   ],
   "source": [
    "2016 + 3570 + 8778 + 9870 + 8778 + 2525"
   ]
  },
  {
   "cell_type": "code",
   "execution_count": 303,
   "metadata": {},
   "outputs": [],
   "source": [
    "total_months = 0\n",
    "for n in newspapers.keys():\n",
    "    for m in groups_months[n].keys():\n",
    "        total_months += len(groups_months[n][m]) * (len(groups_months[n][m]) + 1) /2\n",
    "        "
   ]
  },
  {
   "cell_type": "code",
   "execution_count": 304,
   "metadata": {},
   "outputs": [
    {
     "data": {
      "text/plain": [
       "116950.0"
      ]
     },
     "execution_count": 304,
     "metadata": {},
     "output_type": "execute_result"
    }
   ],
   "source": [
    "total_months"
   ]
  },
  {
   "cell_type": "code",
   "execution_count": 6,
   "metadata": {},
   "outputs": [
    {
     "data": {
      "text/plain": [
       "{'AFR': 'Australian Financial Review',\n",
       " 'DT': 'The Daily Telegraph (London)',\n",
       " 'GM': 'The Globe and Mail (Canada)',\n",
       " 'NYT': 'The New York Times - International Edition',\n",
       " 'NZH': 'The New Zealand Herald',\n",
       " 'SMH': 'Sydney Morning Herald (Australia)',\n",
       " 'TDP': 'The Dominion Post (Wellington',\n",
       " 'TG': 'The Guardian (London)',\n",
       " 'TS': 'The Toronto Star',\n",
       " 'USA': 'USA Today'}"
      ]
     },
     "execution_count": 6,
     "metadata": {},
     "output_type": "execute_result"
    }
   ],
   "source": [
    "newspapers"
   ]
  },
  {
   "cell_type": "code",
   "execution_count": null,
   "metadata": {},
   "outputs": [],
   "source": [
    "# db methods\n",
    "def select_test(curs, db, n):\n",
    "    \n",
    "    curs.execute(\"SELECT article_id, title, date FROM articles WHERE newspaper = '\" + n + \"' AND date >= '\" + timeframe_start + \"' AND date <= '\" + timeframe_end + \"'\") \n",
    "    \n",
    "    arts = {}\n",
    "    result = curs.fetchall()\n",
    "    for r in result:\n",
    "        arts[r[0]] = {\n",
    "            \"title\": r[1],\n",
    "            \"date\": r[2]\n",
    "        }\n",
    "    \n",
    "    return arts"
   ]
  }
 ],
 "metadata": {
  "kernelspec": {
   "display_name": "Python 3",
   "language": "python",
   "name": "python3"
  },
  "language_info": {
   "codemirror_mode": {
    "name": "ipython",
    "version": 3
   },
   "file_extension": ".py",
   "mimetype": "text/x-python",
   "name": "python",
   "nbconvert_exporter": "python",
   "pygments_lexer": "ipython3",
   "version": "3.5.2"
  }
 },
 "nbformat": 4,
 "nbformat_minor": 2
}
