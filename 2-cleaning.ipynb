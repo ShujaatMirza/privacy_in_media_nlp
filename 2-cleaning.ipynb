{
 "cells": [
  {
   "cell_type": "markdown",
   "metadata": {},
   "source": [
    "# Cleaning data\n",
    "## Step 1: Duplicate Removal\n",
    "## Step 2: Privacy Filter\n"
   ]
  },
  {
   "cell_type": "markdown",
   "metadata": {},
   "source": [
    "# Duplicate Removal"
   ]
  },
  {
   "cell_type": "code",
   "execution_count": 1,
   "metadata": {},
   "outputs": [],
   "source": [
    "# modules\n",
    "# import basics\n",
    "import os\n",
    "import re\n",
    "import csv\n",
    "import json\n",
    "import time\n",
    "# import requests\n",
    "import pandas as pd\n",
    "\n",
    "from time import sleep\n",
    "from datetime import datetime, timedelta \n",
    "from dotenv import load_dotenv\n",
    "#from requests.auth import HTTPBasicAuth\n",
    "\n",
    "# text processing dependencies\n",
    "# from bs4 import BeautifulSoup\n",
    "# from boilerpy3 import extractors\n",
    "\n",
    "# mysql dependencies\n",
    "import mysql.connector"
   ]
  },
  {
   "cell_type": "code",
   "execution_count": 2,
   "metadata": {},
   "outputs": [],
   "source": [
    "# initialize variables\n",
    "\n",
    "load_dotenv(override=True)\n",
    "\n",
    "# mysql credentials\n",
    "PASSWORD = os.getenv(\"PASSWORD\")\n",
    "USER = os.getenv(\"USER\")"
   ]
  },
  {
   "cell_type": "code",
   "execution_count": 3,
   "metadata": {},
   "outputs": [],
   "source": [
    "# connect to db\n",
    "import mysql.connector\n",
    "\n",
    "mydb = mysql.connector.connect(\n",
    "  host=\"127.0.0.1\",\n",
    "  user=USER,\n",
    "  password=PASSWORD,\n",
    "  database=\"mpp21\"\n",
    ")\n",
    "\n",
    "mycursor = mydb.cursor()"
   ]
  },
  {
   "cell_type": "code",
   "execution_count": 4,
   "metadata": {},
   "outputs": [],
   "source": [
    "# db methods\n",
    "def select_content(curs, db):\n",
    "    \n",
    "    curs.execute(\"SELECT article_id, title, date FROM articles WHERE newspaper = 'NYT'\") \n",
    "\n",
    "    all_titles = []\n",
    "    result = curs.fetchall()\n",
    "    for r in result:\n",
    "        all_titles.append(r[0])\n",
    "    \n",
    "    return all_titles"
   ]
  },
  {
   "cell_type": "code",
   "execution_count": 5,
   "metadata": {},
   "outputs": [],
   "source": [
    "# read db "
   ]
  },
  {
   "cell_type": "code",
   "execution_count": 6,
   "metadata": {},
   "outputs": [],
   "source": [
    "# analyze time period to extract timeframe considered for duplicates (e.g., 1 week, 1 month)\n",
    "# and to extract threshold distribution per week/month"
   ]
  },
  {
   "cell_type": "code",
   "execution_count": 7,
   "metadata": {},
   "outputs": [],
   "source": [
    "# read newspaper info \n",
    "\n",
    "newspapers = {}\n",
    "\n",
    "with open('./newspapers-collected.csv', 'r') as f:\n",
    "        reader = csv.reader(f)\n",
    "        for r in reader:\n",
    "            newspapers[r[0]] = r[1]"
   ]
  },
  {
   "cell_type": "code",
   "execution_count": 8,
   "metadata": {},
   "outputs": [
    {
     "data": {
      "text/plain": [
       "dict_keys(['TG', 'AFR', 'TDP', 'NYT', 'NZH', 'USA', 'TS', 'SMH', 'DT', 'GM'])"
      ]
     },
     "execution_count": 8,
     "metadata": {},
     "output_type": "execute_result"
    }
   ],
   "source": [
    "newspapers.keys()"
   ]
  },
  {
   "cell_type": "code",
   "execution_count": 9,
   "metadata": {},
   "outputs": [],
   "source": [
    "# db methods\n",
    "def select_within_range(curs, db, n):\n",
    "    \n",
    "    curs.execute(\"SELECT article_id, title, date FROM articles WHERE newspaper = '\" + n + \"' AND date >= '\" + timeframe_start + \"' AND date <= '\" + timeframe_end + \"'\") \n",
    "    \n",
    "    arts = {}\n",
    "    result = curs.fetchall()\n",
    "    for r in result:\n",
    "        arts[r[0]] = {\n",
    "            \"title\": r[1],\n",
    "            \"date\": r[2]\n",
    "        }\n",
    "    \n",
    "    return arts"
   ]
  },
  {
   "cell_type": "markdown",
   "metadata": {},
   "source": [
    "## WEEK WISE SIMILARITIES"
   ]
  },
  {
   "cell_type": "code",
   "execution_count": 10,
   "metadata": {},
   "outputs": [],
   "source": [
    "timeframe_start = '2018-01-01'#datetime.strftime(datetime(2018,1,1), '%Y-%m-%d')\n",
    "timeframe_end = '2018-06-30'#datetime.strftime(datetime(2018,3,1), '%Y-%m-%d')"
   ]
  },
  {
   "cell_type": "code",
   "execution_count": 11,
   "metadata": {},
   "outputs": [],
   "source": [
    "# get articles for newspaper n in range\n",
    "\n",
    "articles = {}\n",
    "for n in newspapers.keys():\n",
    "    articles[n] = {}\n",
    "    "
   ]
  },
  {
   "cell_type": "code",
   "execution_count": 12,
   "metadata": {},
   "outputs": [],
   "source": [
    "for n in articles.keys():\n",
    "    articles[n] = select_within_range(mycursor, mydb, n)"
   ]
  },
  {
   "cell_type": "code",
   "execution_count": 13,
   "metadata": {},
   "outputs": [],
   "source": [
    "# for i in articles.keys():\n",
    "#     print(i, \"\\t\",len(articles[i]))"
   ]
  },
  {
   "cell_type": "code",
   "execution_count": 14,
   "metadata": {},
   "outputs": [],
   "source": [
    "#test = select_within_range(mycursor, mydb, \"AFR\")"
   ]
  },
  {
   "cell_type": "code",
   "execution_count": 15,
   "metadata": {},
   "outputs": [],
   "source": [
    "#df = pd.DataFrame.from_dict(articles[\"TG\"]).T"
   ]
  },
  {
   "cell_type": "code",
   "execution_count": 16,
   "metadata": {},
   "outputs": [],
   "source": [
    "weeks = []\n",
    "\n",
    "timeframe_start = datetime.date(datetime(2018,1,1))\n",
    "timeframe_end = datetime.date(datetime(2018,6,30))\n",
    "\n",
    "dt = timeframe_start\n",
    "\n",
    "while dt <= timeframe_end:\n",
    "    \n",
    "    weeks.append((dt, dt + timedelta(days=6))) # (start, end)\n",
    "    dt += timedelta(days=7) # move to next week"
   ]
  },
  {
   "cell_type": "code",
   "execution_count": 17,
   "metadata": {
    "scrolled": true
   },
   "outputs": [],
   "source": [
    "group = {}\n",
    "\n",
    "ctr = 1 # week\n",
    "\n",
    "for w in range(len(weeks)):\n",
    "    group[\"week_\" +str(w + 1) + \"\"] = []\n",
    "          \n",
    "for week in weeks:\n",
    "   # group[\"week_\" + str(ctr)+ \"\"] = []\n",
    "    for i in articles[\"TG\"].keys():\n",
    "\n",
    "        if articles[\"TG\"][i][\"date\"] >= week[0] and articles[\"TG\"][i][\"date\"] <= week[1]:\n",
    "            group[\"week_\" +str(ctr) + \"\"].append(articles[\"TG\"][i])\n",
    "    ctr += 1"
   ]
  },
  {
   "cell_type": "code",
   "execution_count": 18,
   "metadata": {},
   "outputs": [],
   "source": [
    "titles = {}\n",
    "for w in group.keys():\n",
    "    titles[w] = []\n",
    "    for entry in group[w]:\n",
    "        titles[w].append(entry[\"title\"])"
   ]
  },
  {
   "cell_type": "code",
   "execution_count": 19,
   "metadata": {},
   "outputs": [],
   "source": [
    "# for w in titles:\n",
    "#     print(len(titles[w]), \"vs\", len(set(titles[w])))"
   ]
  },
  {
   "cell_type": "code",
   "execution_count": 20,
   "metadata": {
    "scrolled": true
   },
   "outputs": [],
   "source": [
    "#df.sort_values(by=['date'])"
   ]
  },
  {
   "cell_type": "code",
   "execution_count": 21,
   "metadata": {},
   "outputs": [],
   "source": [
    "#titles[\"week_1\"]"
   ]
  },
  {
   "cell_type": "code",
   "execution_count": 22,
   "metadata": {},
   "outputs": [],
   "source": [
    "from sklearn.metrics.pairwise import cosine_similarity\n",
    "from sklearn.feature_extraction.text import CountVectorizer\n",
    "from matplotlib import pyplot as plt\n",
    "import numpy as np"
   ]
  },
  {
   "cell_type": "code",
   "execution_count": 33,
   "metadata": {},
   "outputs": [],
   "source": [
    "def get_cosine_similarity_week(docs): # docs = list of titles\n",
    "\n",
    "    # Create the Document Term Matrix\n",
    "    count_vectorizer = CountVectorizer(stop_words='english')\n",
    "    count_vectorizer = CountVectorizer()\n",
    "    sparse_matrix = count_vectorizer.fit_transform(docs)\n",
    "\n",
    "    return cosine_similarity(sparse_matrix, sparse_matrix)\n",
    "\n",
    "\n",
    "def display_cosine_similarity_results(res):\n",
    "    \n",
    "    results = []\n",
    "    for r in res.flatten():\n",
    "        results.append(round(r, 3))\n",
    "        \n",
    "        \n",
    "    return sorted(results)#sorted(set(results))\n",
    "\n",
    "def get_cosine_similarity_month(docs): # docs = list of titles\n",
    "\n",
    "    # Create the Document Term Matrix\n",
    "    count_vectorizer = CountVectorizer(stop_words='english')\n",
    "    count_vectorizer = CountVectorizer()\n",
    "    sparse_matrix = count_vectorizer.fit_transform(docs)\n",
    "\n",
    "    return cosine_similarity(sparse_matrix, sparse_matrix)"
   ]
  },
  {
   "cell_type": "code",
   "execution_count": 34,
   "metadata": {
    "scrolled": true
   },
   "outputs": [],
   "source": [
    "aggregated_similarities = []\n",
    "\n",
    "for w in titles.keys():\n",
    "    result = get_cosine_similarity_week(titles[w])\n",
    "    results = display_cosine_similarity_results(result) # returned as set\n",
    "\n",
    "    aggregated_similarities.append(results)\n",
    "#     fig,ax = plt.subplots(1,1)\n",
    "#     a = results\n",
    "#     ax.hist(a, bins = [0,0.1,0.2,0.3,0.4,0.5,0.6,0.7,0.8,0.9,1.0])\n",
    "#     ax.set_title(\"histogram of cosine similarity \" + w + \"\")\n",
    "#     ax.set_xticks([0,0.1,0.2,0.3,0.4,0.5,0.6,0.7,0.8,0.9,1.0])\n",
    "#     ax.set_xlabel('cosine similarity index')\n",
    "#     ax.set_ylabel('values within range')\n",
    "#     plt.show()\n",
    "    #results"
   ]
  },
  {
   "cell_type": "code",
   "execution_count": 35,
   "metadata": {},
   "outputs": [],
   "source": [
    "# aggregated\n"
   ]
  },
  {
   "cell_type": "code",
   "execution_count": 38,
   "metadata": {},
   "outputs": [],
   "source": [
    "def display_aggregated_similarity(agg):\n",
    "    aggregated = []\n",
    "\n",
    "    for i in agg:\n",
    "        for j in i:\n",
    "            aggregated.append(j)\n",
    "\n",
    "   # aggregated = set(aggregated)\n",
    "    \n",
    "    fig,ax = plt.subplots(1,1)\n",
    "    a = list(aggregated)\n",
    "    ax.hist(a, bins = [0,0.1,0.2,0.3,0.4,0.5,0.6,0.7,0.8,0.9,1.0])\n",
    "    ax.set_title(\"histogram of aggregated cosine similarity for 6 months (TG)\")\n",
    "    ax.set_xticks([0,0.1,0.2,0.3,0.4,0.5,0.6,0.7,0.8,0.9,1.0])\n",
    "    ax.set_xlabel('cosine similarity index')\n",
    "    ax.set_ylabel('values within range')\n",
    "    plt.show()\n",
    "    \n",
    "    return"
   ]
  },
  {
   "cell_type": "code",
   "execution_count": null,
   "metadata": {},
   "outputs": [],
   "source": []
  },
  {
   "cell_type": "code",
   "execution_count": null,
   "metadata": {},
   "outputs": [],
   "source": []
  },
  {
   "cell_type": "code",
   "execution_count": 39,
   "metadata": {},
   "outputs": [
    {
     "data": {
      "image/png": "[encoded data removed]",
      "text/plain": [
       "<Figure size 432x288 with 1 Axes>"
      ]
     },
     "metadata": {
      "needs_background": "light"
     },
     "output_type": "display_data"
    }
   ],
   "source": [
    "display_aggregated_similarity(aggregated_similarities)"
   ]
  },
  {
   "cell_type": "markdown",
   "metadata": {},
   "source": [
    "## MONTH WISE SIMILARITIES"
   ]
  },
  {
   "cell_type": "code",
   "execution_count": 153,
   "metadata": {},
   "outputs": [],
   "source": [
    "months = [\n",
    "    (datetime.date(datetime(2018,1,1)), datetime.date(datetime(2018,1,31))),\n",
    "     (datetime.date(datetime(2018,2,1)), datetime.date(datetime(2018,2,28))),\n",
    "     (datetime.date(datetime(2018,3,1)), datetime.date(datetime(2018,3,31))),\n",
    "     (datetime.date(datetime(2018,4,1)), datetime.date(datetime(2018,4,30))),\n",
    "     (datetime.date(datetime(2018,5,1)), datetime.date(datetime(2018,5,31))),\n",
    "     (datetime.date(datetime(2018,6,1)), datetime.date(datetime(2018,6,30))),   \n",
    "    \n",
    "]\n"
   ]
  },
  {
   "cell_type": "code",
   "execution_count": 154,
   "metadata": {},
   "outputs": [],
   "source": [
    "group_months = {}\n",
    "\n",
    "ctr = 1 # month\n",
    "\n",
    "for m in range(len(months)):\n",
    "    group_months[\"month_\" +str(m + 1) + \"\"] = []\n",
    "          \n",
    "for month in months:\n",
    "   # group[\"week_\" + str(ctr)+ \"\"] = []\n",
    "    for i in articles[\"TG\"].keys():\n",
    "\n",
    "        if articles[\"TG\"][i][\"date\"] >= month[0] and articles[\"TG\"][i][\"date\"] <= month[1]:\n",
    "            group_months[\"month_\" +str(ctr) + \"\"].append(articles[\"TG\"][i])\n",
    "    ctr += 1"
   ]
  },
  {
   "cell_type": "code",
   "execution_count": 161,
   "metadata": {},
   "outputs": [],
   "source": [
    "titles_months = {}\n",
    "for m in group_months.keys():\n",
    "    titles_months[m] = []\n",
    "    for entry in group_months[m]:\n",
    "        titles_months[m].append(entry[\"title\"])"
   ]
  },
  {
   "cell_type": "code",
   "execution_count": 165,
   "metadata": {},
   "outputs": [],
   "source": [
    "aggregated_similarities_months = []\n",
    "\n",
    "for m in titles_months.keys():\n",
    "    result = get_cosine_similarity_month(titles_months[m])\n",
    "    results = display_cosine_similarity_results(result) # returned as set\n",
    "\n",
    "    aggregated_similarities_months.append(results)"
   ]
  },
  {
   "cell_type": "code",
   "execution_count": 168,
   "metadata": {},
   "outputs": [
    {
     "data": {
      "image/png": "[encoded data removed]",
      "text/plain": [
       "<Figure size 432x288 with 1 Axes>"
      ]
     },
     "metadata": {
      "needs_background": "light"
     },
     "output_type": "display_data"
    }
   ],
   "source": [
    "display_aggregated_similarity(aggregated_similarities_months)"
   ]
  },
  {
   "cell_type": "code",
   "execution_count": null,
   "metadata": {},
   "outputs": [],
   "source": []
  },
  {
   "cell_type": "code",
   "execution_count": 71,
   "metadata": {},
   "outputs": [],
   "source": [
    "#sorted(titles[\"week_7\"])"
   ]
  },
  {
   "cell_type": "code",
   "execution_count": 67,
   "metadata": {},
   "outputs": [],
   "source": [
    "def sim_sentences(a, b):\n",
    "    docs = [a, b]\n",
    "    \n",
    "    # Create the Document Term Matrix\n",
    "    count_vectorizer = CountVectorizer(stop_words='english')\n",
    "    count_vectorizer = CountVectorizer()\n",
    "    sparse_matrix = count_vectorizer.fit_transform(docs)\n",
    "\n",
    "    return cosine_similarity(sparse_matrix, sparse_matrix)"
   ]
  },
  {
   "cell_type": "code",
   "execution_count": 69,
   "metadata": {},
   "outputs": [
    {
     "data": {
      "text/plain": [
       "array([[1.        , 0.68376346],\n",
       "       [0.68376346, 1.        ]])"
      ]
     },
     "execution_count": 69,
     "metadata": {},
     "output_type": "execute_result"
    }
   ],
   "source": [
    "x = \"Barnaby Joyce 'gave up his right to privacy', John Hewson tells Q&A\"\n",
    "y = \"Barnaby Joyce 'gave up his right to privacy', John Hewson tells Q&A;Former Liberal leader says deputy PM should have gone public about his marriage breakdown sooner\"\n",
    "res = sim_sentences(x, y)\n",
    "res"
   ]
  },
  {
   "cell_type": "code",
   "execution_count": null,
   "metadata": {},
   "outputs": [],
   "source": []
  },
  {
   "cell_type": "code",
   "execution_count": null,
   "metadata": {},
   "outputs": [],
   "source": []
  },
  {
   "cell_type": "code",
   "execution_count": null,
   "metadata": {},
   "outputs": [],
   "source": []
  },
  {
   "cell_type": "code",
   "execution_count": null,
   "metadata": {},
   "outputs": [],
   "source": []
  },
  {
   "cell_type": "code",
   "execution_count": null,
   "metadata": {},
   "outputs": [],
   "source": []
  },
  {
   "cell_type": "code",
   "execution_count": null,
   "metadata": {},
   "outputs": [],
   "source": []
  },
  {
   "cell_type": "code",
   "execution_count": null,
   "metadata": {},
   "outputs": [],
   "source": []
  },
  {
   "cell_type": "code",
   "execution_count": null,
   "metadata": {},
   "outputs": [],
   "source": []
  },
  {
   "cell_type": "code",
   "execution_count": null,
   "metadata": {},
   "outputs": [],
   "source": []
  },
  {
   "cell_type": "code",
   "execution_count": null,
   "metadata": {},
   "outputs": [],
   "source": []
  },
  {
   "cell_type": "code",
   "execution_count": 60,
   "metadata": {},
   "outputs": [
    {
     "name": "stdout",
     "output_type": "stream",
     "text": [
      "2020-12-28 00:00:00\n",
      "2021-01-03 00:00:00\n"
     ]
    }
   ],
   "source": [
    "day = '2021-01-01'\n",
    "dt = datetime.strptime(day, '%Y-%m-%d')\n",
    "start = dt - timedelta(days=dt.weekday())\n",
    "end = start + timedelta(days=6)\n",
    "print(start)\n",
    "print(end)\n"
   ]
  },
  {
   "cell_type": "code",
   "execution_count": 74,
   "metadata": {},
   "outputs": [],
   "source": [
    "date_start = date_start + timedelta(days=1)"
   ]
  },
  {
   "cell_type": "code",
   "execution_count": 75,
   "metadata": {},
   "outputs": [
    {
     "data": {
      "text/plain": [
       "datetime.datetime(2018, 1, 3, 0, 0)"
      ]
     },
     "execution_count": 75,
     "metadata": {},
     "output_type": "execute_result"
    }
   ],
   "source": [
    "date_start"
   ]
  },
  {
   "cell_type": "code",
   "execution_count": 70,
   "metadata": {},
   "outputs": [],
   "source": [
    "week_ranges = []\n",
    "\n",
    "\n",
    "\n",
    "date_start = datetime.strptime(timeframe_start, '%Y-%m-%d')\n",
    "\n",
    "#while date_start < timeframe_end:\n",
    "    "
   ]
  },
  {
   "cell_type": "code",
   "execution_count": null,
   "metadata": {},
   "outputs": [],
   "source": [
    "def get_weekly_duplicates():\n",
    "    \n",
    "    \n",
    "def get_monthly_duplicates():\n",
    "    "
   ]
  },
  {
   "cell_type": "code",
   "execution_count": null,
   "metadata": {},
   "outputs": [],
   "source": [
    "# for each newspaper get the monthly and weekly duplicate rates & thresholds"
   ]
  },
  {
   "cell_type": "code",
   "execution_count": null,
   "metadata": {},
   "outputs": [],
   "source": []
  },
  {
   "cell_type": "code",
   "execution_count": null,
   "metadata": {},
   "outputs": [],
   "source": []
  },
  {
   "cell_type": "markdown",
   "metadata": {},
   "source": [
    "## Select articles by newspaper and by timeframe, starting with 01-01-2010 (or 2011)\n"
   ]
  },
  {
   "cell_type": "code",
   "execution_count": 36,
   "metadata": {},
   "outputs": [],
   "source": [
    "p1 = \"New Privacy regulation is set to launch this month\"\n",
    "\n",
    "p2 = \"GDPR regulates companies abuse of private data\"\n",
    "\n",
    "p3 = \"Facebook threatens your privacy\"\n",
    "p4 = \"New Privacy regulation to launch this month\"\n",
    "\n",
    "documents = [p1, p2, p3, p4]"
   ]
  },
  {
   "cell_type": "code",
   "execution_count": 37,
   "metadata": {},
   "outputs": [
    {
     "data": {
      "text/html": [
       "<div>\n",
       "<style scoped>\n",
       "    .dataframe tbody tr th:only-of-type {\n",
       "        vertical-align: middle;\n",
       "    }\n",
       "\n",
       "    .dataframe tbody tr th {\n",
       "        vertical-align: top;\n",
       "    }\n",
       "\n",
       "    .dataframe thead th {\n",
       "        text-align: right;\n",
       "    }\n",
       "</style>\n",
       "<table border=\"1\" class=\"dataframe\">\n",
       "  <thead>\n",
       "    <tr style=\"text-align: right;\">\n",
       "      <th></th>\n",
       "      <th>abuse</th>\n",
       "      <th>companies</th>\n",
       "      <th>data</th>\n",
       "      <th>facebook</th>\n",
       "      <th>gdpr</th>\n",
       "      <th>is</th>\n",
       "      <th>launch</th>\n",
       "      <th>month</th>\n",
       "      <th>new</th>\n",
       "      <th>of</th>\n",
       "      <th>privacy</th>\n",
       "      <th>private</th>\n",
       "      <th>regulates</th>\n",
       "      <th>regulation</th>\n",
       "      <th>set</th>\n",
       "      <th>this</th>\n",
       "      <th>threatens</th>\n",
       "      <th>to</th>\n",
       "      <th>your</th>\n",
       "    </tr>\n",
       "  </thead>\n",
       "  <tbody>\n",
       "    <tr>\n",
       "      <th>p1</th>\n",
       "      <td>0</td>\n",
       "      <td>0</td>\n",
       "      <td>0</td>\n",
       "      <td>0</td>\n",
       "      <td>0</td>\n",
       "      <td>1</td>\n",
       "      <td>1</td>\n",
       "      <td>1</td>\n",
       "      <td>1</td>\n",
       "      <td>0</td>\n",
       "      <td>1</td>\n",
       "      <td>0</td>\n",
       "      <td>0</td>\n",
       "      <td>1</td>\n",
       "      <td>1</td>\n",
       "      <td>1</td>\n",
       "      <td>0</td>\n",
       "      <td>1</td>\n",
       "      <td>0</td>\n",
       "    </tr>\n",
       "    <tr>\n",
       "      <th>p2</th>\n",
       "      <td>1</td>\n",
       "      <td>1</td>\n",
       "      <td>1</td>\n",
       "      <td>0</td>\n",
       "      <td>1</td>\n",
       "      <td>0</td>\n",
       "      <td>0</td>\n",
       "      <td>0</td>\n",
       "      <td>0</td>\n",
       "      <td>1</td>\n",
       "      <td>0</td>\n",
       "      <td>1</td>\n",
       "      <td>1</td>\n",
       "      <td>0</td>\n",
       "      <td>0</td>\n",
       "      <td>0</td>\n",
       "      <td>0</td>\n",
       "      <td>0</td>\n",
       "      <td>0</td>\n",
       "    </tr>\n",
       "    <tr>\n",
       "      <th>p3</th>\n",
       "      <td>0</td>\n",
       "      <td>0</td>\n",
       "      <td>0</td>\n",
       "      <td>1</td>\n",
       "      <td>0</td>\n",
       "      <td>0</td>\n",
       "      <td>0</td>\n",
       "      <td>0</td>\n",
       "      <td>0</td>\n",
       "      <td>0</td>\n",
       "      <td>1</td>\n",
       "      <td>0</td>\n",
       "      <td>0</td>\n",
       "      <td>0</td>\n",
       "      <td>0</td>\n",
       "      <td>0</td>\n",
       "      <td>1</td>\n",
       "      <td>0</td>\n",
       "      <td>1</td>\n",
       "    </tr>\n",
       "    <tr>\n",
       "      <th>p4</th>\n",
       "      <td>0</td>\n",
       "      <td>0</td>\n",
       "      <td>0</td>\n",
       "      <td>0</td>\n",
       "      <td>0</td>\n",
       "      <td>0</td>\n",
       "      <td>1</td>\n",
       "      <td>1</td>\n",
       "      <td>1</td>\n",
       "      <td>0</td>\n",
       "      <td>1</td>\n",
       "      <td>0</td>\n",
       "      <td>0</td>\n",
       "      <td>1</td>\n",
       "      <td>0</td>\n",
       "      <td>1</td>\n",
       "      <td>0</td>\n",
       "      <td>1</td>\n",
       "      <td>0</td>\n",
       "    </tr>\n",
       "  </tbody>\n",
       "</table>\n",
       "</div>"
      ],
      "text/plain": [
       "    abuse  companies  data  facebook  gdpr  is  launch  month  new  of  \\\n",
       "p1      0          0     0         0     0   1       1      1    1   0   \n",
       "p2      1          1     1         0     1   0       0      0    0   1   \n",
       "p3      0          0     0         1     0   0       0      0    0   0   \n",
       "p4      0          0     0         0     0   0       1      1    1   0   \n",
       "\n",
       "    privacy  private  regulates  regulation  set  this  threatens  to  your  \n",
       "p1        1        0          0           1    1     1          0   1     0  \n",
       "p2        0        1          1           0    0     0          0   0     0  \n",
       "p3        1        0          0           0    0     0          1   0     1  \n",
       "p4        1        0          0           1    0     1          0   1     0  "
      ]
     },
     "execution_count": 37,
     "metadata": {},
     "output_type": "execute_result"
    }
   ],
   "source": [
    "# Scikit Learn\n",
    "from sklearn.feature_extraction.text import CountVectorizer\n",
    "import pandas as pd\n",
    "\n",
    "# Create the Document Term Matrix\n",
    "count_vectorizer = CountVectorizer(stop_words='english')\n",
    "count_vectorizer = CountVectorizer()\n",
    "sparse_matrix = count_vectorizer.fit_transform(documents)\n",
    "\n",
    "# OPTIONAL: Convert Sparse Matrix to Pandas Dataframe if you want to see the word frequencies.\n",
    "doc_term_matrix = sparse_matrix.todense()\n",
    "df = pd.DataFrame(doc_term_matrix, \n",
    "                  columns=count_vectorizer.get_feature_names(), \n",
    "                  index=['p1', 'p2', 'p3', 'p4'])\n",
    "df"
   ]
  },
  {
   "cell_type": "code",
   "execution_count": 40,
   "metadata": {},
   "outputs": [
    {
     "name": "stdout",
     "output_type": "stream",
     "text": [
      "[[1.         0.         0.16666667 0.8819171 ]\n",
      " [0.         1.         0.         0.        ]\n",
      " [0.16666667 0.         1.         0.18898224]\n",
      " [0.8819171  0.         0.18898224 1.        ]]\n"
     ]
    }
   ],
   "source": [
    "# Compute Cosine Similarity\n",
    "from sklearn.metrics.pairwise import cosine_similarity\n",
    "#print(cosine_similarity(df, df))\n",
    "\n",
    "print(cosine_similarity(sparse_matrix, sparse_matrix))"
   ]
  },
  {
   "cell_type": "code",
   "execution_count": 23,
   "metadata": {},
   "outputs": [],
   "source": [
    "# 2-3 [week/month] intervals for each newspaper\n",
    "# manually inspect articles to adjust the threshold\n",
    "# aggregate over all results and get median/average lower bound (?) on cosine threshold"
   ]
  },
  {
   "cell_type": "code",
   "execution_count": 24,
   "metadata": {},
   "outputs": [
    {
     "name": "stdout",
     "output_type": "stream",
     "text": [
      "[0.0, 0.16666666666666666, 0.8819171036881966, 0.9999999999999997]\n"
     ]
    }
   ],
   "source": [
    "print(sorted(cosine_similarity(df, df)[0]))"
   ]
  },
  {
   "cell_type": "code",
   "execution_count": 31,
   "metadata": {},
   "outputs": [
    {
     "data": {
      "text/plain": [
       "[0.0,\n",
       " 0.0,\n",
       " 0.0,\n",
       " 0.0,\n",
       " 0.0,\n",
       " 0.0,\n",
       " 0.16666666666666666,\n",
       " 0.16666666666666666,\n",
       " 0.1889822365046136,\n",
       " 0.1889822365046136,\n",
       " 0.8819171036881966,\n",
       " 0.8819171036881966,\n",
       " 0.9999999999999997,\n",
       " 0.9999999999999997,\n",
       " 0.9999999999999997,\n",
       " 1.0]"
      ]
     },
     "execution_count": 31,
     "metadata": {},
     "output_type": "execute_result"
    }
   ],
   "source": [
    "sorted(cosine_similarity(df, df).flatten())"
   ]
  },
  {
   "cell_type": "code",
   "execution_count": null,
   "metadata": {},
   "outputs": [],
   "source": []
  }
 ],
 "metadata": {
  "kernelspec": {
   "display_name": "Python 3",
   "language": "python",
   "name": "python3"
  },
  "language_info": {
   "codemirror_mode": {
    "name": "ipython",
    "version": 3
   },
   "file_extension": ".py",
   "mimetype": "text/x-python",
   "name": "python",
   "nbconvert_exporter": "python",
   "pygments_lexer": "ipython3",
   "version": "3.5.2"
  }
 },
 "nbformat": 4,
 "nbformat_minor": 2
}
