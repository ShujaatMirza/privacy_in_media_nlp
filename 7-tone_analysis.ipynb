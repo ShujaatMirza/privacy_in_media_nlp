{
 "cells": [
  {
   "cell_type": "code",
   "execution_count": 1,
   "metadata": {},
   "outputs": [],
   "source": [
    "from dotenv import load_dotenv\n",
    "import os\n",
    "import json\n",
    "load_dotenv(override=True)\n",
    "\n",
    "import time\n",
    "from datetime import datetime \n",
    "\n"
   ]
  },
  {
   "cell_type": "code",
   "execution_count": 2,
   "metadata": {},
   "outputs": [],
   "source": [
    "USER = os.getenv(\"USER\")\n",
    "PASSWORD = os.getenv(\"PASSWORD\")"
   ]
  },
  {
   "cell_type": "code",
   "execution_count": 3,
   "metadata": {},
   "outputs": [],
   "source": [
    "# connect to db\n",
    "import mysql.connector\n",
    "\n",
    "mydb = mysql.connector.connect(\n",
    "  host=\"127.0.0.1\",\n",
    "  user=USER,\n",
    "  password=PASSWORD,\n",
    "  database=\"mpp21\"\n",
    ")\n",
    "\n",
    "mycursor = mydb.cursor()"
   ]
  },
  {
   "cell_type": "code",
   "execution_count": 4,
   "metadata": {},
   "outputs": [],
   "source": [
    "WATSON_KEY = \"4NYqVYmsjQ7gOWjO6rO-JxDVuyt_eac-5JPgqsQlC3w3\"\n",
    "WATSON_URL = \"https://gateway-fra.watsonplatform.net/tone-analyzer/api\""
   ]
  },
  {
   "cell_type": "code",
   "execution_count": 5,
   "metadata": {},
   "outputs": [],
   "source": [
    "from ibm_watson import ToneAnalyzerV3\n",
    "\n",
    "tone_analyzer = ToneAnalyzerV3(\n",
    "    version='2017-09-21',\n",
    "    iam_apikey=WATSON_KEY,\n",
    "    url=WATSON_URL\n",
    ")"
   ]
  },
  {
   "cell_type": "code",
   "execution_count": 93,
   "metadata": {},
   "outputs": [],
   "source": [
    "def select_articles(curs, db, n):\n",
    "    \n",
    "    curs.execute(\"\"\"SELECT article_id, title, content \n",
    "                FROM articles \n",
    "                WHERE newspaper = '\"\"\" + n + \"\"\"' \n",
    "                AND is_privacy = 'privacy'\n",
    "                \"\"\") #AND tone = \"\"\n",
    "    \n",
    "    arts = {}\n",
    "    result = curs.fetchall()\n",
    "    for r in result:\n",
    "        arts[r[0]] = {\n",
    "            \"content\": r[1] + \" \" + r[2]\n",
    "            \n",
    "        }\n",
    "        if r[0] == \"TDP_1917\":\n",
    "                print(r[1])\n",
    "    \n",
    "    return arts"
   ]
  },
  {
   "cell_type": "code",
   "execution_count": 7,
   "metadata": {},
   "outputs": [],
   "source": [
    "def get_tone(analyzer, content):\n",
    "    try:\n",
    "        tone_analysis = analyzer.tone(\n",
    "            {'text': content},\n",
    "            content_type='application/json'    \n",
    "        ).get_result()\n",
    "    except:\n",
    "        print(\"err\")\n",
    "        tone_analysis = \"error\"\n",
    "    \n",
    "    return tone_analysis"
   ]
  },
  {
   "cell_type": "code",
   "execution_count": 8,
   "metadata": {},
   "outputs": [],
   "source": [
    "def update_tone(curs, db, a, tone_result, tone):\n",
    "\n",
    "    insertQuery = \"UPDATE articles SET tone_result = (%s), tone = (%s) WHERE article_id = (%s)\"\n",
    "    insertValues = (tone_result, tone, a)\n",
    "    \n",
    "    curs.execute(insertQuery, insertValues)\n",
    "    \n",
    "    db.commit() "
   ]
  },
  {
   "cell_type": "code",
   "execution_count": 94,
   "metadata": {},
   "outputs": [
    {
     "name": "stdout",
     "output_type": "stream",
     "text": [
      "Chipping at freedom\n"
     ]
    },
    {
     "data": {
      "text/plain": [
       "1227"
      ]
     },
     "execution_count": 94,
     "metadata": {},
     "output_type": "execute_result"
    }
   ],
   "source": [
    "articles = select_articles(mycursor, mydb, \"TDP\")\n",
    "len(articles)"
   ]
  },
  {
   "cell_type": "code",
   "execution_count": 95,
   "metadata": {},
   "outputs": [
    {
     "data": {
      "text/plain": [
       "\"Chipping at freedom Do I let my boss microchip me (Aug 2) raises some interesting issues. but there are huge risks.Yes, it will mean no more riding the train or bus for free, or making up an excuse for why we got to work late as machines monitors where we are and when we arrive. Like payWave as we pass by a sensor, payments are automatically deducted.However, with this, service providers will have more access to more information, which will also severely limit our freedoms. For instance, will we still be able to choose to pay with cash or our credit card or be forced to pay with chip? The information on our chips could be corrupted, wiped or copied. It would make it easy for Big Brother to continuously track where we are, what we do, how we do it and with whom.Then there are potential health concerns. One review of academic literature found that in eight of 11 studies of microchipping of animals, ''in almost all cases, the malignant tumours, typically sarcomas, arose at the site of the implants and grew to surround and fully encase the devices. In several cases the tumours also metastasised or spread to other parts of the animals.''Microchipping the population raises more problems than it solves, both in terms of health and also as a conduit to eroding privacy, while providing valuable information to corporations and governments.MICHAEL BOTT BA, LLBCarterton [abridged]\""
      ]
     },
     "execution_count": 95,
     "metadata": {},
     "output_type": "execute_result"
    }
   ],
   "source": [
    "articles[\"TDP_1917\"][\"content\"]"
   ]
  },
  {
   "cell_type": "code",
   "execution_count": 96,
   "metadata": {},
   "outputs": [],
   "source": [
    "# get sample of tone\n",
    "sample_tone = get_tone(tone_analyzer, articles[\"TDP_1917\"][\"content\"])#[\"document_tone\"][\"tones\"]\n",
    "#print(sample_tone[\"sentences_tone\"])#[\"tones\"])"
   ]
  },
  {
   "cell_type": "code",
   "execution_count": 97,
   "metadata": {},
   "outputs": [
    {
     "name": "stdout",
     "output_type": "stream",
     "text": [
      "{'tones': [{'tone_name': 'Joy', 'score': 0.577016, 'tone_id': 'joy'}, {'tone_name': 'Tentative', 'score': 0.615352, 'tone_id': 'tentative'}, {'tone_name': 'Analytical', 'score': 0.562568, 'tone_id': 'analytical'}], 'sentence_id': 0, 'text': 'Chipping at freedom Do I let my boss microchip me (Aug 2) raises some interesting issues.'}\n",
      "\n",
      "{'tones': [], 'sentence_id': 1, 'text': 'but there are huge risks.Yes, it will mean no more riding the train or bus for free, or making up an excuse for why we got to work late as machines monitors where we are and when we arrive.'}\n",
      "\n",
      "{'tones': [{'tone_name': 'Analytical', 'score': 0.676008, 'tone_id': 'analytical'}], 'sentence_id': 2, 'text': 'Like payWave as we pass by a sensor, payments are automatically deducted.However, with this, service providers will have more access to more information, which will also severely limit our freedoms.'}\n",
      "\n",
      "{'tones': [{'tone_name': 'Tentative', 'score': 0.769251, 'tone_id': 'tentative'}, {'tone_name': 'Analytical', 'score': 0.903207, 'tone_id': 'analytical'}], 'sentence_id': 3, 'text': 'For instance, will we still be able to choose to pay with cash or our credit card or be forced to pay with chip?'}\n",
      "\n",
      "{'tones': [{'tone_name': 'Sadness', 'score': 0.542759, 'tone_id': 'sadness'}, {'tone_name': 'Tentative', 'score': 0.957828, 'tone_id': 'tentative'}, {'tone_name': 'Analytical', 'score': 0.653099, 'tone_id': 'analytical'}], 'sentence_id': 4, 'text': 'The information on our chips could be corrupted, wiped or copied.'}\n",
      "\n",
      "{'tones': [{'tone_name': 'Joy', 'score': 0.619314, 'tone_id': 'joy'}], 'sentence_id': 5, 'text': 'It would make it easy for Big Brother to continuously track where we are, what we do, how we do it and with whom.Then there are potential health concerns.'}\n",
      "\n",
      "{'tones': [], 'sentence_id': 6, 'text': \"One review of academic literature found that in eight of 11 studies of microchipping of animals, ''in almost all cases, the malignant tumours, typically sarcomas, arose at the site of the implants and grew to surround and fully encase the devices.\"}\n",
      "\n",
      "{'tones': [{'tone_name': 'Analytical', 'score': 0.769964, 'tone_id': 'analytical'}], 'sentence_id': 7, 'text': \"In several cases the tumours also metastasised or spread to other parts of the animals.''Microchipping the population raises more problems than it solves, both in terms of health and also as a conduit to eroding privacy, while providing valuable information to corporations and governments.MICHAEL BOTT BA, LLBCarterton [abridged]\"}\n",
      "\n"
     ]
    }
   ],
   "source": [
    "for i in sample_tone[\"sentences_tone\"]:\n",
    "    print(i)\n",
    "    print()"
   ]
  },
  {
   "cell_type": "code",
   "execution_count": null,
   "metadata": {},
   "outputs": [],
   "source": []
  },
  {
   "cell_type": "code",
   "execution_count": null,
   "metadata": {},
   "outputs": [],
   "source": []
  },
  {
   "cell_type": "code",
   "execution_count": 39,
   "metadata": {
    "scrolled": true
   },
   "outputs": [
    {
     "name": "stdout",
     "output_type": "stream",
     "text": [
      "Article processing started at:  2021-03-06 13:08:01.229389\n",
      "err\n",
      "\n",
      "TG_186\n",
      "\n",
      "100  articles done. Time elapsed (hh:mm:ss.ms) 0:01:49.736479\n",
      "200  articles done. Time elapsed (hh:mm:ss.ms) 0:03:46.625698\n",
      "300  articles done. Time elapsed (hh:mm:ss.ms) 0:05:43.839245\n",
      "400  articles done. Time elapsed (hh:mm:ss.ms) 0:07:40.761788\n",
      "500  articles done. Time elapsed (hh:mm:ss.ms) 0:09:33.347721\n",
      "600  articles done. Time elapsed (hh:mm:ss.ms) 0:11:18.884929\n",
      "700  articles done. Time elapsed (hh:mm:ss.ms) 0:13:06.880087\n",
      "800  articles done. Time elapsed (hh:mm:ss.ms) 0:15:06.767361\n",
      "900  articles done. Time elapsed (hh:mm:ss.ms) 0:17:03.839902\n",
      "1000  articles done. Time elapsed (hh:mm:ss.ms) 0:18:57.364417\n",
      "1100  articles done. Time elapsed (hh:mm:ss.ms) 0:20:55.332785\n",
      "1200  articles done. Time elapsed (hh:mm:ss.ms) 0:22:48.692807\n",
      "1300  articles done. Time elapsed (hh:mm:ss.ms) 0:24:43.056399\n",
      "1400  articles done. Time elapsed (hh:mm:ss.ms) 0:26:35.321437\n",
      "1500  articles done. Time elapsed (hh:mm:ss.ms) 0:28:27.409104\n",
      "1600  articles done. Time elapsed (hh:mm:ss.ms) 0:30:17.364869\n",
      "1700  articles done. Time elapsed (hh:mm:ss.ms) 0:32:12.525342\n",
      "1800  articles done. Time elapsed (hh:mm:ss.ms) 0:34:08.154405\n",
      "1900  articles done. Time elapsed (hh:mm:ss.ms) 0:36:06.565599\n",
      "2000  articles done. Time elapsed (hh:mm:ss.ms) 0:38:00.264832\n",
      "2100  articles done. Time elapsed (hh:mm:ss.ms) 0:39:50.674971\n",
      "2200  articles done. Time elapsed (hh:mm:ss.ms) 0:41:42.774510\n",
      "2300  articles done. Time elapsed (hh:mm:ss.ms) 0:43:32.491090\n",
      "2400  articles done. Time elapsed (hh:mm:ss.ms) 0:45:25.721622\n",
      "2500  articles done. Time elapsed (hh:mm:ss.ms) 0:47:18.572138\n",
      "2600  articles done. Time elapsed (hh:mm:ss.ms) 0:49:20.176663\n",
      "2700  articles done. Time elapsed (hh:mm:ss.ms) 0:51:08.168960\n",
      "2800  articles done. Time elapsed (hh:mm:ss.ms) 0:53:03.060053\n",
      "2900  articles done. Time elapsed (hh:mm:ss.ms) 0:54:55.656313\n",
      "3000  articles done. Time elapsed (hh:mm:ss.ms) 0:56:48.889543\n",
      "3100  articles done. Time elapsed (hh:mm:ss.ms) 0:58:35.763352\n",
      "3200  articles done. Time elapsed (hh:mm:ss.ms) 1:00:31.676495\n",
      "3300  articles done. Time elapsed (hh:mm:ss.ms) 1:02:23.917017\n",
      "3400  articles done. Time elapsed (hh:mm:ss.ms) 1:04:19.196451\n",
      "3500  articles done. Time elapsed (hh:mm:ss.ms) 1:06:09.381432\n",
      "3600  articles done. Time elapsed (hh:mm:ss.ms) 1:07:58.583506\n",
      "3700  articles done. Time elapsed (hh:mm:ss.ms) 1:09:50.099928\n",
      "3800  articles done. Time elapsed (hh:mm:ss.ms) 1:11:45.082733\n",
      "3900  articles done. Time elapsed (hh:mm:ss.ms) 1:13:36.780800\n",
      "4000  articles done. Time elapsed (hh:mm:ss.ms) 1:15:29.615603\n",
      "4100  articles done. Time elapsed (hh:mm:ss.ms) 1:17:24.350986\n",
      "4200  articles done. Time elapsed (hh:mm:ss.ms) 1:19:21.482332\n",
      "4300  articles done. Time elapsed (hh:mm:ss.ms) 1:21:27.453057\n",
      "4400  articles done. Time elapsed (hh:mm:ss.ms) 1:23:46.764585\n",
      "4500  articles done. Time elapsed (hh:mm:ss.ms) 1:25:43.694961\n",
      "4600  articles done. Time elapsed (hh:mm:ss.ms) 1:27:42.959170\n",
      "4700  articles done. Time elapsed (hh:mm:ss.ms) 1:29:47.465531\n",
      "4800  articles done. Time elapsed (hh:mm:ss.ms) 1:31:57.752630\n",
      "4900  articles done. Time elapsed (hh:mm:ss.ms) 1:33:52.349733\n",
      "5000  articles done. Time elapsed (hh:mm:ss.ms) 1:35:45.592011\n",
      "5100  articles done. Time elapsed (hh:mm:ss.ms) 1:37:39.911788\n",
      "5200  articles done. Time elapsed (hh:mm:ss.ms) 1:39:30.218941\n",
      "5300  articles done. Time elapsed (hh:mm:ss.ms) 1:41:24.874449\n",
      "5400  articles done. Time elapsed (hh:mm:ss.ms) 1:43:24.528810\n",
      "5500  articles done. Time elapsed (hh:mm:ss.ms) 1:45:19.145146\n",
      "5600  articles done. Time elapsed (hh:mm:ss.ms) 1:47:17.203053\n",
      "err\n",
      "\n",
      "TG_2649\n",
      "\n",
      "5700  articles done. Time elapsed (hh:mm:ss.ms) 1:49:16.118713\n",
      "5800  articles done. Time elapsed (hh:mm:ss.ms) 1:51:11.135745\n",
      "Time elapsed (hh:mm:ss.ms) 1:51:17.445376\n"
     ]
    }
   ],
   "source": [
    "all_tone_results = {}\n",
    "all_tones = {}\n",
    "\n",
    "ctr = 0\n",
    "\n",
    "error_articles = []\n",
    "\n",
    "start_time = datetime.now() \n",
    "print(\"Article processing started at: \", start_time)\n",
    "\n",
    "\n",
    "for a in articles.keys(): # for each article\n",
    "    \n",
    "\n",
    "    \n",
    "    returned_tones = get_tone(tone_analyzer, articles[a][\"content\"])#[\"document_tone\"][\"tones\"]\n",
    "\n",
    "    if returned_tones == \"error\":\n",
    "        returned_tones = json.dumps({\"error\": \"error\"})\n",
    "        tone = json.dumps({\"error\": \"error\"})\n",
    "        error_articles.append(a)\n",
    "        print()\n",
    "        print(a)\n",
    "        print()\n",
    "\n",
    "    else:\n",
    "        tone_result = json.dumps(returned_tones[\"document_tone\"][\"tones\"])\n",
    "\n",
    "        tone = {}\n",
    "\n",
    "        for t in returned_tones[\"document_tone\"][\"tones\"]:\n",
    "            tone[t[\"tone_id\"]] = t[\"score\"]\n",
    "\n",
    "        tone = json.dumps(tone)\n",
    "    \n",
    "#     except:\n",
    "#         returned_tones = json.dumps({\"error\"})\n",
    "#         tone = json.dumps({\"error\"})\n",
    "#         error_articles.append(a)\n",
    "#         print()\n",
    "#         print(a)\n",
    "#         print()\n",
    "    \n",
    "    \n",
    "    all_tone_results[a] = tone_result\n",
    "    all_tones[a] = tone\n",
    "    \n",
    "    ctr += 1\n",
    "    if ctr % 100 == 0:\n",
    "        time_elapsed = datetime.now() - start_time \n",
    "        print(str(ctr), \" articles done. Time elapsed (hh:mm:ss.ms) {}\".format(time_elapsed))\n",
    "        \n",
    "time_elapsed = datetime.now() - start_time \n",
    "print('Time elapsed (hh:mm:ss.ms) {}'.format(time_elapsed))"
   ]
  },
  {
   "cell_type": "code",
   "execution_count": 40,
   "metadata": {},
   "outputs": [
    {
     "name": "stdout",
     "output_type": "stream",
     "text": [
      "5805\n",
      "5805\n"
     ]
    }
   ],
   "source": [
    "print(len(all_tone_results))\n",
    "print(len(all_tones))"
   ]
  },
  {
   "cell_type": "code",
   "execution_count": 41,
   "metadata": {},
   "outputs": [
    {
     "name": "stdout",
     "output_type": "stream",
     "text": [
      "Article processing started at:  2021-03-06 15:00:14.647038\n",
      "Time elapsed (hh:mm:ss.ms) 0:00:47.407279\n"
     ]
    }
   ],
   "source": [
    "start_time = datetime.now() \n",
    "print(\"Article processing started at: \", start_time)\n",
    "\n",
    "for a in articles.keys(): \n",
    "    try:\n",
    "        update_tone(mycursor, mydb, a, all_tone_results[a], all_tones[a])\n",
    "    except:\n",
    "        pass\n",
    "\n",
    "\n",
    "time_elapsed = datetime.now() - start_time \n",
    "print('Time elapsed (hh:mm:ss.ms) {}'.format(time_elapsed))"
   ]
  },
  {
   "cell_type": "code",
   "execution_count": 42,
   "metadata": {},
   "outputs": [
    {
     "data": {
      "text/plain": [
       "['TG_186', 'TG_2649']"
      ]
     },
     "execution_count": 42,
     "metadata": {},
     "output_type": "execute_result"
    }
   ],
   "source": [
    "error_articles"
   ]
  },
  {
   "cell_type": "code",
   "execution_count": 58,
   "metadata": {},
   "outputs": [],
   "source": [
    "def select_articles_notone(curs, db):\n",
    "    \n",
    "    curs.execute(\"\"\"SELECT article_id, tone\n",
    "                FROM articles \n",
    "                WHERE is_privacy = 'privacy'\n",
    "                \"\"\")\n",
    "    \n",
    "    arts = {}\n",
    "    result = curs.fetchall()\n",
    "    for r in result:\n",
    "        arts[r[0]] = {\n",
    "            \"tone\": r[1]\n",
    "        }\n",
    "    \n",
    "    return arts"
   ]
  },
  {
   "cell_type": "code",
   "execution_count": 88,
   "metadata": {},
   "outputs": [
    {
     "data": {
      "text/plain": [
       "26706"
      ]
     },
     "execution_count": 88,
     "metadata": {},
     "output_type": "execute_result"
    }
   ],
   "source": [
    "temp = select_articles_notone(mycursor, mydb)\n",
    "len(temp)"
   ]
  },
  {
   "cell_type": "code",
   "execution_count": 89,
   "metadata": {},
   "outputs": [],
   "source": [
    "for i in temp.keys():\n",
    "    if \"error\" in json.loads(temp[i][\"tone\"]).keys():\n",
    "        print(i)"
   ]
  },
  {
   "cell_type": "code",
   "execution_count": 93,
   "metadata": {},
   "outputs": [
    {
     "data": {
      "text/plain": [
       "143727"
      ]
     },
     "execution_count": 93,
     "metadata": {},
     "output_type": "execute_result"
    }
   ],
   "source": [
    "len(articles[\"TG_186\"][\"content\"])#[:128000]) by 15727 bytes"
   ]
  },
  {
   "cell_type": "code",
   "execution_count": 84,
   "metadata": {
    "scrolled": false
   },
   "outputs": [],
   "source": [
    "# returned_tones = get_tone(tone_analyzer, articles[\"TG_186\"][\"content\"][:128000])#[\"document_tone\"][\"tones\"]\n"
   ]
  },
  {
   "cell_type": "code",
   "execution_count": 86,
   "metadata": {},
   "outputs": [],
   "source": [
    "# tone_result = json.dumps(returned_tones[\"document_tone\"][\"tones\"])\n",
    "\n",
    "# tone = {}\n",
    "\n",
    "# for t in returned_tones[\"document_tone\"][\"tones\"]:\n",
    "#     tone[t[\"tone_id\"]] = t[\"score\"]\n",
    "\n",
    "# tone = json.dumps(tone)"
   ]
  },
  {
   "cell_type": "code",
   "execution_count": 87,
   "metadata": {},
   "outputs": [],
   "source": [
    "# update_tone(mycursor, mydb, \"TG_186\", tone_result, tone)\n"
   ]
  },
  {
   "cell_type": "code",
   "execution_count": null,
   "metadata": {},
   "outputs": [],
   "source": []
  }
 ],
 "metadata": {
  "kernelspec": {
   "display_name": "Python 3",
   "language": "python",
   "name": "python3"
  },
  "language_info": {
   "codemirror_mode": {
    "name": "ipython",
    "version": 3
   },
   "file_extension": ".py",
   "mimetype": "text/x-python",
   "name": "python",
   "nbconvert_exporter": "python",
   "pygments_lexer": "ipython3",
   "version": "3.5.2"
  }
 },
 "nbformat": 4,
 "nbformat_minor": 2
}
